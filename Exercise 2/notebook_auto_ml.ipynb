{
 "cells": [
  {
   "cell_type": "markdown",
   "source": "# State of the art AutoML systems: auto-sklearn and TPOT\n",
   "metadata": {
    "tags": [],
    "cell_id": "00000-7fffbc3f-299f-434f-a21e-fb92faac8907",
    "deepnote_cell_type": "markdown"
   }
  },
  {
   "cell_type": "markdown",
   "source": "### 1. Imports",
   "metadata": {
    "tags": [],
    "cell_id": "00001-b56c82e8-bfdf-446a-8a8c-2fba4a51c223",
    "deepnote_cell_type": "markdown"
   }
  },
  {
   "cell_type": "code",
   "metadata": {
    "tags": [],
    "cell_id": "00000-a600014e-df20-4afb-9245-3efe5df6b66f",
    "deepnote_to_be_reexecuted": false,
    "source_hash": "5921140b",
    "execution_start": 1639350153588,
    "execution_millis": 70687,
    "deepnote_cell_type": "code"
   },
   "source": "import numpy as np\nimport pandas as pd\nimport matplotlib.pyplot as plt\nfrom sklearn.preprocessing import StandardScaler\nfrom sklearn.model_selection import train_test_split\nfrom sklearn.metrics import mean_squared_error, r2_score, make_scorer\ntry:\n    import autosklearn\nexcept:\n    !pip install auto-sklearn\nfrom autosklearn.pipeline.components.base import AutoSklearnPreprocessingAlgorithm\nfrom autosklearn.pipeline.constants import SPARSE, DENSE, UNSIGNED_DATA, INPUT\nfrom ConfigSpace.configuration_space import ConfigurationSpace\nfrom sklearn.impute import SimpleImputer\nimport autosklearn.regression\ntry:\n    import tpot\nexcept:\n    !pip install tpot\nfrom tpot import TPOTRegressor\n!pip install --upgrade ipywidgets\n!pip install --upgrade jupyter_client\n\nimport random\nfrom math import e\nfrom time import time\nfrom sklearn.model_selection import cross_validate\nfrom sklearn.linear_model import SGDRegressor\nfrom sklearn.ensemble import RandomForestRegressor\nfrom sklearn.svm import LinearSVR\nfrom sklearn.preprocessing import normalize",
   "execution_count": null,
   "outputs": [
    {
     "name": "stdout",
     "text": "Collecting auto-sklearn\n  Using cached auto-sklearn-0.14.2.tar.gz (6.3 MB)\nRequirement already satisfied: setuptools in /root/venv/lib/python3.7/site-packages (from auto-sklearn) (47.1.0)\nRequirement already satisfied: typing_extensions in /shared-libs/python3.7/py-core/lib/python3.7/site-packages (from auto-sklearn) (3.10.0.2)\nRequirement already satisfied: numpy>=1.9.0 in /shared-libs/python3.7/py/lib/python3.7/site-packages (from auto-sklearn) (1.19.5)\nRequirement already satisfied: scipy>=1.7.0 in /shared-libs/python3.7/py/lib/python3.7/site-packages (from auto-sklearn) (1.7.2)\nRequirement already satisfied: joblib in /shared-libs/python3.7/py/lib/python3.7/site-packages (from auto-sklearn) (1.1.0)\nCollecting scikit-learn<0.25.0,>=0.24.0\n  Downloading scikit_learn-0.24.2-cp37-cp37m-manylinux2010_x86_64.whl (22.3 MB)\n\u001b[K     |████████████████████████████████| 22.3 MB 14.7 MB/s \n\u001b[?25hCollecting dask<2021.07\n  Downloading dask-2021.6.2-py3-none-any.whl (973 kB)\n\u001b[K     |████████████████████████████████| 973 kB 27.9 MB/s \n\u001b[?25hCollecting distributed<2021.07,>=2.2.0\n  Downloading distributed-2021.6.2-py3-none-any.whl (722 kB)\n\u001b[K     |████████████████████████████████| 722 kB 41.8 MB/s \n\u001b[?25hRequirement already satisfied: pyyaml in /shared-libs/python3.7/py/lib/python3.7/site-packages (from auto-sklearn) (6.0)\nRequirement already satisfied: pandas>=1.0 in /shared-libs/python3.7/py/lib/python3.7/site-packages (from auto-sklearn) (1.2.5)\nCollecting liac-arff\n  Downloading liac-arff-2.5.0.tar.gz (13 kB)\nRequirement already satisfied: threadpoolctl in /shared-libs/python3.7/py/lib/python3.7/site-packages (from auto-sklearn) (3.0.0)\nCollecting ConfigSpace<0.5,>=0.4.14\n  Downloading ConfigSpace-0.4.20-cp37-cp37m-manylinux_2_17_x86_64.manylinux2014_x86_64.whl (4.2 MB)\n\u001b[K     |████████████████████████████████| 4.2 MB 38.1 MB/s \n\u001b[?25hCollecting pynisher>=0.6.3\n  Downloading pynisher-0.6.4.tar.gz (11 kB)\nCollecting pyrfr<0.9,>=0.8.1\n  Downloading pyrfr-0.8.2-cp37-cp37m-manylinux2014_x86_64.whl (4.0 MB)\n\u001b[K     |████████████████████████████████| 4.0 MB 37.3 MB/s \n\u001b[?25hCollecting smac>=0.14\n  Downloading smac-1.1.1-py3-none-any.whl (208 kB)\n\u001b[K     |████████████████████████████████| 208 kB 49.1 MB/s \n\u001b[?25hRequirement already satisfied: toolz>=0.8.2 in /shared-libs/python3.7/py/lib/python3.7/site-packages (from dask<2021.07->auto-sklearn) (0.11.2)\nCollecting fsspec>=0.6.0\n  Downloading fsspec-2021.11.1-py3-none-any.whl (132 kB)\n\u001b[K     |████████████████████████████████| 132 kB 48.9 MB/s \n\u001b[?25hCollecting cloudpickle>=1.1.1\n  Downloading cloudpickle-2.0.0-py3-none-any.whl (25 kB)\nCollecting partd>=0.3.10\n  Downloading partd-1.2.0-py3-none-any.whl (19 kB)\nCollecting msgpack>=0.6.0\n  Downloading msgpack-1.0.3-cp37-cp37m-manylinux_2_17_x86_64.manylinux2014_x86_64.whl (299 kB)\n\u001b[K     |████████████████████████████████| 299 kB 54.4 MB/s \n\u001b[?25hRequirement already satisfied: tornado>=5; python_version < \"3.8\" in /shared-libs/python3.7/py-core/lib/python3.7/site-packages (from distributed<2021.07,>=2.2.0->auto-sklearn) (6.1)\nCollecting zict>=0.1.3\n  Downloading zict-2.0.0-py3-none-any.whl (10 kB)\nCollecting tblib>=1.6.0\n  Downloading tblib-1.7.0-py2.py3-none-any.whl (12 kB)\nRequirement already satisfied: click>=6.6 in /shared-libs/python3.7/py/lib/python3.7/site-packages (from distributed<2021.07,>=2.2.0->auto-sklearn) (8.0.3)\nCollecting psutil>=5.0\n  Downloading psutil-5.8.0-cp37-cp37m-manylinux2010_x86_64.whl (296 kB)\n\u001b[K     |████████████████████████████████| 296 kB 19.1 MB/s \n\u001b[?25hCollecting sortedcontainers!=2.0.0,!=2.0.1\n  Downloading sortedcontainers-2.4.0-py2.py3-none-any.whl (29 kB)\nRequirement already satisfied: python-dateutil>=2.7.3 in /shared-libs/python3.7/py-core/lib/python3.7/site-packages (from pandas>=1.0->auto-sklearn) (2.8.2)\nRequirement already satisfied: pytz>=2017.3 in /shared-libs/python3.7/py/lib/python3.7/site-packages (from pandas>=1.0->auto-sklearn) (2021.3)\nCollecting cython\n  Downloading Cython-0.29.25-cp37-cp37m-manylinux_2_17_x86_64.manylinux2014_x86_64.manylinux_2_24_x86_64.whl (1.9 MB)\n\u001b[K     |████████████████████████████████| 1.9 MB 39.7 MB/s \n\u001b[?25hRequirement already satisfied: pyparsing in /shared-libs/python3.7/py-core/lib/python3.7/site-packages (from ConfigSpace<0.5,>=0.4.14->auto-sklearn) (2.4.7)\nCollecting emcee>=3.0.0\n  Downloading emcee-3.1.1-py2.py3-none-any.whl (45 kB)\n\u001b[K     |████████████████████████████████| 45 kB 4.4 MB/s \n\u001b[?25hCollecting locket\n  Downloading locket-0.2.1-py2.py3-none-any.whl (4.1 kB)\nCollecting heapdict\n  Downloading HeapDict-1.0.1-py3-none-any.whl (3.9 kB)\nRequirement already satisfied: importlib-metadata; python_version < \"3.8\" in /shared-libs/python3.7/py-core/lib/python3.7/site-packages (from click>=6.6->distributed<2021.07,>=2.2.0->auto-sklearn) (4.8.2)\nRequirement already satisfied: six>=1.5 in /shared-libs/python3.7/py-core/lib/python3.7/site-packages (from python-dateutil>=2.7.3->pandas>=1.0->auto-sklearn) (1.16.0)\nRequirement already satisfied: zipp>=0.5 in /shared-libs/python3.7/py-core/lib/python3.7/site-packages (from importlib-metadata; python_version < \"3.8\"->click>=6.6->distributed<2021.07,>=2.2.0->auto-sklearn) (3.6.0)\nBuilding wheels for collected packages: auto-sklearn, liac-arff, pynisher\n  Building wheel for auto-sklearn (setup.py) ... \u001b[?25ldone\n\u001b[?25h  Created wheel for auto-sklearn: filename=auto_sklearn-0.14.2-py3-none-any.whl size=6586720 sha256=2768218b360797f1d4071fcdd215f2f01400105b6150eb5658a2d77c9e9669a2\n  Stored in directory: /root/.cache/pip/wheels/b6/ba/aa/ce7b8deb41019b9c1c6cd0b511d553350b7075ba1d3f0f545c\n  Building wheel for liac-arff (setup.py) ... \u001b[?25ldone\n\u001b[?25h  Created wheel for liac-arff: filename=liac_arff-2.5.0-py3-none-any.whl size=11730 sha256=360ecbbcb87c4363f982cb060f8bd2141e55074b4f2adefb3dbf71d2e71c6de8\n  Stored in directory: /root/.cache/pip/wheels/1f/0f/15/332ca86cbebf25ddf98518caaf887945fbe1712b97a0f2493b\n  Building wheel for pynisher (setup.py) ... \u001b[?25ldone\n\u001b[?25h  Created wheel for pynisher: filename=pynisher-0.6.4-py3-none-any.whl size=7044 sha256=279487de184f0cfefccf68bb290edfbcb4471ef89d9b80b96e4d1ab306fc18e3\n  Stored in directory: /root/.cache/pip/wheels/42/71/95/7555ec3253e1ba8add72ae5febf1b015d297f3b73ba296d6f6\nSuccessfully built auto-sklearn liac-arff pynisher\nInstalling collected packages: scikit-learn, fsspec, cloudpickle, locket, partd, dask, msgpack, heapdict, zict, tblib, psutil, sortedcontainers, distributed, liac-arff, cython, ConfigSpace, pynisher, pyrfr, emcee, smac, auto-sklearn\n  Attempting uninstall: scikit-learn\n    Found existing installation: scikit-learn 1.0.1\n    Not uninstalling scikit-learn at /shared-libs/python3.7/py/lib/python3.7/site-packages, outside environment /root/venv\n    Can't uninstall 'scikit-learn'. No files were found to uninstall.\nSuccessfully installed ConfigSpace-0.4.20 auto-sklearn-0.14.2 cloudpickle-2.0.0 cython-0.29.25 dask-2021.6.2 distributed-2021.6.2 emcee-3.1.1 fsspec-2021.11.1 heapdict-1.0.1 liac-arff-2.5.0 locket-0.2.1 msgpack-1.0.3 partd-1.2.0 psutil-5.8.0 pynisher-0.6.4 pyrfr-0.8.2 scikit-learn-0.24.2 smac-1.1.1 sortedcontainers-2.4.0 tblib-1.7.0 zict-2.0.0\n\u001b[33mWARNING: You are using pip version 20.1.1; however, version 21.3.1 is available.\nYou should consider upgrading via the '/root/venv/bin/python -m pip install --upgrade pip' command.\u001b[0m\nCollecting tpot\n  Downloading TPOT-0.11.7-py3-none-any.whl (87 kB)\n\u001b[K     |████████████████████████████████| 87 kB 10.4 MB/s \n\u001b[?25hRequirement already satisfied: numpy>=1.16.3 in /shared-libs/python3.7/py/lib/python3.7/site-packages (from tpot) (1.19.5)\nRequirement already satisfied: tqdm>=4.36.1 in /shared-libs/python3.7/py/lib/python3.7/site-packages (from tpot) (4.62.3)\nCollecting stopit>=1.1.1\n  Downloading stopit-1.1.2.tar.gz (18 kB)\nCollecting deap>=1.2\n  Downloading deap-1.3.1-cp37-cp37m-manylinux2010_x86_64.whl (157 kB)\n\u001b[K     |████████████████████████████████| 157 kB 34.6 MB/s \n\u001b[?25hRequirement already satisfied: pandas>=0.24.2 in /shared-libs/python3.7/py/lib/python3.7/site-packages (from tpot) (1.2.5)\nRequirement already satisfied: scipy>=1.3.1 in /shared-libs/python3.7/py/lib/python3.7/site-packages (from tpot) (1.7.2)\nRequirement already satisfied: joblib>=0.13.2 in /shared-libs/python3.7/py/lib/python3.7/site-packages (from tpot) (1.1.0)\nRequirement already satisfied: scikit-learn>=0.22.0 in /root/venv/lib/python3.7/site-packages (from tpot) (0.24.2)\nCollecting update-checker>=0.16\n  Downloading update_checker-0.18.0-py3-none-any.whl (7.0 kB)\nCollecting xgboost>=1.1.0\n  Downloading xgboost-1.5.1-py3-none-manylinux2014_x86_64.whl (173.5 MB)\n\u001b[K     |████████████████████████████████| 173.5 MB 51.3 MB/s \n\u001b[?25hRequirement already satisfied: python-dateutil>=2.7.3 in /shared-libs/python3.7/py-core/lib/python3.7/site-packages (from pandas>=0.24.2->tpot) (2.8.2)\nRequirement already satisfied: pytz>=2017.3 in /shared-libs/python3.7/py/lib/python3.7/site-packages (from pandas>=0.24.2->tpot) (2021.3)\nRequirement already satisfied: threadpoolctl>=2.0.0 in /shared-libs/python3.7/py/lib/python3.7/site-packages (from scikit-learn>=0.22.0->tpot) (3.0.0)\nRequirement already satisfied: requests>=2.3.0 in /shared-libs/python3.7/py/lib/python3.7/site-packages (from update-checker>=0.16->tpot) (2.26.0)\nRequirement already satisfied: six>=1.5 in /shared-libs/python3.7/py-core/lib/python3.7/site-packages (from python-dateutil>=2.7.3->pandas>=0.24.2->tpot) (1.16.0)\nRequirement already satisfied: urllib3<1.27,>=1.21.1 in /shared-libs/python3.7/py/lib/python3.7/site-packages (from requests>=2.3.0->update-checker>=0.16->tpot) (1.26.7)\nRequirement already satisfied: certifi>=2017.4.17 in /shared-libs/python3.7/py/lib/python3.7/site-packages (from requests>=2.3.0->update-checker>=0.16->tpot) (2021.10.8)\nRequirement already satisfied: idna<4,>=2.5; python_version >= \"3\" in /shared-libs/python3.7/py-core/lib/python3.7/site-packages (from requests>=2.3.0->update-checker>=0.16->tpot) (3.3)\nRequirement already satisfied: charset-normalizer~=2.0.0; python_version >= \"3\" in /shared-libs/python3.7/py-core/lib/python3.7/site-packages (from requests>=2.3.0->update-checker>=0.16->tpot) (2.0.7)\nBuilding wheels for collected packages: stopit\n  Building wheel for stopit (setup.py) ... \u001b[?25ldone\n\u001b[?25h  Created wheel for stopit: filename=stopit-1.1.2-py3-none-any.whl size=11952 sha256=0e6b22c81e6f00e3806a46b1b777a9c0299babba83c0ae86433bfcbb83bbdee2\n  Stored in directory: /root/.cache/pip/wheels/e2/d2/79/eaf81edb391e27c87f51b8ef901ecc85a5363dc96b8b8d71e3\nSuccessfully built stopit\nInstalling collected packages: stopit, deap, update-checker, xgboost, tpot\nSuccessfully installed deap-1.3.1 stopit-1.1.2 tpot-0.11.7 update-checker-0.18.0 xgboost-1.5.1\n\u001b[33mWARNING: You are using pip version 20.1.1; however, version 21.3.1 is available.\nYou should consider upgrading via the '/root/venv/bin/python -m pip install --upgrade pip' command.\u001b[0m\nCollecting ipywidgets\n  Downloading ipywidgets-7.6.5-py2.py3-none-any.whl (121 kB)\n\u001b[K     |████████████████████████████████| 121 kB 14.5 MB/s \n\u001b[?25hRequirement already satisfied, skipping upgrade: ipykernel>=4.5.1 in /shared-libs/python3.7/py-core/lib/python3.7/site-packages (from ipywidgets) (5.5.5)\nRequirement already satisfied, skipping upgrade: nbformat>=4.2.0 in /shared-libs/python3.7/py-core/lib/python3.7/site-packages (from ipywidgets) (5.1.3)\nRequirement already satisfied, skipping upgrade: ipython-genutils~=0.2.0 in /shared-libs/python3.7/py-core/lib/python3.7/site-packages (from ipywidgets) (0.2.0)\nRequirement already satisfied, skipping upgrade: traitlets>=4.3.1 in /shared-libs/python3.7/py-core/lib/python3.7/site-packages (from ipywidgets) (4.3.3)\nRequirement already satisfied, skipping upgrade: ipython>=4.0.0; python_version >= \"3.3\" in /shared-libs/python3.7/py-core/lib/python3.7/site-packages (from ipywidgets) (7.29.0)\nCollecting widgetsnbextension~=3.5.0\n  Downloading widgetsnbextension-3.5.2-py2.py3-none-any.whl (1.6 MB)\n\u001b[K     |████████████████████████████████| 1.6 MB 38.2 MB/s \n\u001b[?25hCollecting jupyterlab-widgets>=1.0.0; python_version >= \"3.6\"\n  Downloading jupyterlab_widgets-1.0.2-py3-none-any.whl (243 kB)\n\u001b[K     |████████████████████████████████| 243 kB 45.0 MB/s \n\u001b[?25hRequirement already satisfied, skipping upgrade: jupyter-client in /shared-libs/python3.7/py-core/lib/python3.7/site-packages (from ipykernel>=4.5.1->ipywidgets) (6.1.12)\nRequirement already satisfied, skipping upgrade: tornado>=4.2 in /shared-libs/python3.7/py-core/lib/python3.7/site-packages (from ipykernel>=4.5.1->ipywidgets) (6.1)\nRequirement already satisfied, skipping upgrade: jsonschema!=2.5.0,>=2.4 in /shared-libs/python3.7/py-core/lib/python3.7/site-packages (from nbformat>=4.2.0->ipywidgets) (3.2.0)\nRequirement already satisfied, skipping upgrade: jupyter-core in /shared-libs/python3.7/py-core/lib/python3.7/site-packages (from nbformat>=4.2.0->ipywidgets) (4.7.1)\nRequirement already satisfied, skipping upgrade: decorator in /shared-libs/python3.7/py-core/lib/python3.7/site-packages (from traitlets>=4.3.1->ipywidgets) (5.1.0)\nRequirement already satisfied, skipping upgrade: six in /shared-libs/python3.7/py-core/lib/python3.7/site-packages (from traitlets>=4.3.1->ipywidgets) (1.16.0)\nRequirement already satisfied, skipping upgrade: backcall in /shared-libs/python3.7/py-core/lib/python3.7/site-packages (from ipython>=4.0.0; python_version >= \"3.3\"->ipywidgets) (0.2.0)\nRequirement already satisfied, skipping upgrade: setuptools>=18.5 in /root/venv/lib/python3.7/site-packages (from ipython>=4.0.0; python_version >= \"3.3\"->ipywidgets) (47.1.0)\nRequirement already satisfied, skipping upgrade: pygments in /shared-libs/python3.7/py-core/lib/python3.7/site-packages (from ipython>=4.0.0; python_version >= \"3.3\"->ipywidgets) (2.10.0)\nRequirement already satisfied, skipping upgrade: jedi>=0.16 in /shared-libs/python3.7/py-core/lib/python3.7/site-packages (from ipython>=4.0.0; python_version >= \"3.3\"->ipywidgets) (0.17.2)\nRequirement already satisfied, skipping upgrade: pickleshare in /shared-libs/python3.7/py-core/lib/python3.7/site-packages (from ipython>=4.0.0; python_version >= \"3.3\"->ipywidgets) (0.7.5)\nRequirement already satisfied, skipping upgrade: prompt-toolkit!=3.0.0,!=3.0.1,<3.1.0,>=2.0.0 in /shared-libs/python3.7/py-core/lib/python3.7/site-packages (from ipython>=4.0.0; python_version >= \"3.3\"->ipywidgets) (3.0.22)\nRequirement already satisfied, skipping upgrade: pexpect>4.3; sys_platform != \"win32\" in /shared-libs/python3.7/py-core/lib/python3.7/site-packages (from ipython>=4.0.0; python_version >= \"3.3\"->ipywidgets) (4.8.0)\nRequirement already satisfied, skipping upgrade: matplotlib-inline in /shared-libs/python3.7/py-core/lib/python3.7/site-packages (from ipython>=4.0.0; python_version >= \"3.3\"->ipywidgets) (0.1.3)\nRequirement already satisfied, skipping upgrade: notebook>=4.4.1 in /shared-libs/python3.7/py-core/lib/python3.7/site-packages (from widgetsnbextension~=3.5.0->ipywidgets) (6.3.0)\nRequirement already satisfied, skipping upgrade: python-dateutil>=2.1 in /shared-libs/python3.7/py-core/lib/python3.7/site-packages (from jupyter-client->ipykernel>=4.5.1->ipywidgets) (2.8.2)\nRequirement already satisfied, skipping upgrade: pyzmq>=13 in /shared-libs/python3.7/py-core/lib/python3.7/site-packages (from jupyter-client->ipykernel>=4.5.1->ipywidgets) (22.3.0)\nRequirement already satisfied, skipping upgrade: attrs>=17.4.0 in /shared-libs/python3.7/py-core/lib/python3.7/site-packages (from jsonschema!=2.5.0,>=2.4->nbformat>=4.2.0->ipywidgets) (21.2.0)\nRequirement already satisfied, skipping upgrade: pyrsistent>=0.14.0 in /shared-libs/python3.7/py-core/lib/python3.7/site-packages (from jsonschema!=2.5.0,>=2.4->nbformat>=4.2.0->ipywidgets) (0.18.0)\nRequirement already satisfied, skipping upgrade: importlib-metadata; python_version < \"3.8\" in /shared-libs/python3.7/py-core/lib/python3.7/site-packages (from jsonschema!=2.5.0,>=2.4->nbformat>=4.2.0->ipywidgets) (4.8.2)\nRequirement already satisfied, skipping upgrade: parso<0.8.0,>=0.7.0 in /shared-libs/python3.7/py-core/lib/python3.7/site-packages (from jedi>=0.16->ipython>=4.0.0; python_version >= \"3.3\"->ipywidgets) (0.7.1)\nRequirement already satisfied, skipping upgrade: wcwidth in /shared-libs/python3.7/py-core/lib/python3.7/site-packages (from prompt-toolkit!=3.0.0,!=3.0.1,<3.1.0,>=2.0.0->ipython>=4.0.0; python_version >= \"3.3\"->ipywidgets) (0.2.5)\nRequirement already satisfied, skipping upgrade: ptyprocess>=0.5 in /shared-libs/python3.7/py-core/lib/python3.7/site-packages (from pexpect>4.3; sys_platform != \"win32\"->ipython>=4.0.0; python_version >= \"3.3\"->ipywidgets) (0.7.0)\nRequirement already satisfied, skipping upgrade: argon2-cffi in /shared-libs/python3.7/py-core/lib/python3.7/site-packages (from notebook>=4.4.1->widgetsnbextension~=3.5.0->ipywidgets) (21.1.0)\nRequirement already satisfied, skipping upgrade: jinja2 in /shared-libs/python3.7/py-core/lib/python3.7/site-packages (from notebook>=4.4.1->widgetsnbextension~=3.5.0->ipywidgets) (3.0.3)\nRequirement already satisfied, skipping upgrade: nbconvert==6.0.7 in /shared-libs/python3.7/py-core/lib/python3.7/site-packages (from notebook>=4.4.1->widgetsnbextension~=3.5.0->ipywidgets) (6.0.7)\nRequirement already satisfied, skipping upgrade: terminado>=0.8.3 in /shared-libs/python3.7/py-core/lib/python3.7/site-packages (from notebook>=4.4.1->widgetsnbextension~=3.5.0->ipywidgets) (0.12.1)\nRequirement already satisfied, skipping upgrade: prometheus-client in /shared-libs/python3.7/py-core/lib/python3.7/site-packages (from notebook>=4.4.1->widgetsnbextension~=3.5.0->ipywidgets) (0.12.0)\nRequirement already satisfied, skipping upgrade: Send2Trash>=1.5.0 in /shared-libs/python3.7/py-core/lib/python3.7/site-packages (from notebook>=4.4.1->widgetsnbextension~=3.5.0->ipywidgets) (1.8.0)\nRequirement already satisfied, skipping upgrade: typing-extensions>=3.6.4; python_version < \"3.8\" in /shared-libs/python3.7/py-core/lib/python3.7/site-packages (from importlib-metadata; python_version < \"3.8\"->jsonschema!=2.5.0,>=2.4->nbformat>=4.2.0->ipywidgets) (3.10.0.2)\nRequirement already satisfied, skipping upgrade: zipp>=0.5 in /shared-libs/python3.7/py-core/lib/python3.7/site-packages (from importlib-metadata; python_version < \"3.8\"->jsonschema!=2.5.0,>=2.4->nbformat>=4.2.0->ipywidgets) (3.6.0)\nRequirement already satisfied, skipping upgrade: cffi>=1.0.0 in /shared-libs/python3.7/py-core/lib/python3.7/site-packages (from argon2-cffi->notebook>=4.4.1->widgetsnbextension~=3.5.0->ipywidgets) (1.15.0)\nRequirement already satisfied, skipping upgrade: MarkupSafe>=2.0 in /shared-libs/python3.7/py-core/lib/python3.7/site-packages (from jinja2->notebook>=4.4.1->widgetsnbextension~=3.5.0->ipywidgets) (2.0.1)\nRequirement already satisfied, skipping upgrade: entrypoints>=0.2.2 in /shared-libs/python3.7/py-core/lib/python3.7/site-packages (from nbconvert==6.0.7->notebook>=4.4.1->widgetsnbextension~=3.5.0->ipywidgets) (0.3)\nRequirement already satisfied, skipping upgrade: bleach in /shared-libs/python3.7/py-core/lib/python3.7/site-packages (from nbconvert==6.0.7->notebook>=4.4.1->widgetsnbextension~=3.5.0->ipywidgets) (4.1.0)\nRequirement already satisfied, skipping upgrade: mistune<2,>=0.8.1 in /shared-libs/python3.7/py-core/lib/python3.7/site-packages (from nbconvert==6.0.7->notebook>=4.4.1->widgetsnbextension~=3.5.0->ipywidgets) (0.8.4)\nRequirement already satisfied, skipping upgrade: pandocfilters>=1.4.1 in /shared-libs/python3.7/py-core/lib/python3.7/site-packages (from nbconvert==6.0.7->notebook>=4.4.1->widgetsnbextension~=3.5.0->ipywidgets) (1.5.0)\nRequirement already satisfied, skipping upgrade: defusedxml in /shared-libs/python3.7/py-core/lib/python3.7/site-packages (from nbconvert==6.0.7->notebook>=4.4.1->widgetsnbextension~=3.5.0->ipywidgets) (0.7.1)\nRequirement already satisfied, skipping upgrade: jupyterlab-pygments in /shared-libs/python3.7/py-core/lib/python3.7/site-packages (from nbconvert==6.0.7->notebook>=4.4.1->widgetsnbextension~=3.5.0->ipywidgets) (0.1.2)\nRequirement already satisfied, skipping upgrade: nbclient<0.6.0,>=0.5.0 in /shared-libs/python3.7/py-core/lib/python3.7/site-packages (from nbconvert==6.0.7->notebook>=4.4.1->widgetsnbextension~=3.5.0->ipywidgets) (0.5.8)\nRequirement already satisfied, skipping upgrade: testpath in /shared-libs/python3.7/py-core/lib/python3.7/site-packages (from nbconvert==6.0.7->notebook>=4.4.1->widgetsnbextension~=3.5.0->ipywidgets) (0.5.0)\nRequirement already satisfied, skipping upgrade: pycparser in /shared-libs/python3.7/py-core/lib/python3.7/site-packages (from cffi>=1.0.0->argon2-cffi->notebook>=4.4.1->widgetsnbextension~=3.5.0->ipywidgets) (2.21)\nRequirement already satisfied, skipping upgrade: webencodings in /shared-libs/python3.7/py-core/lib/python3.7/site-packages (from bleach->nbconvert==6.0.7->notebook>=4.4.1->widgetsnbextension~=3.5.0->ipywidgets) (0.5.1)\nRequirement already satisfied, skipping upgrade: packaging in /shared-libs/python3.7/py-core/lib/python3.7/site-packages (from bleach->nbconvert==6.0.7->notebook>=4.4.1->widgetsnbextension~=3.5.0->ipywidgets) (21.2)\nRequirement already satisfied, skipping upgrade: nest-asyncio in /shared-libs/python3.7/py-core/lib/python3.7/site-packages (from nbclient<0.6.0,>=0.5.0->nbconvert==6.0.7->notebook>=4.4.1->widgetsnbextension~=3.5.0->ipywidgets) (1.5.1)\nRequirement already satisfied, skipping upgrade: pyparsing<3,>=2.0.2 in /shared-libs/python3.7/py-core/lib/python3.7/site-packages (from packaging->bleach->nbconvert==6.0.7->notebook>=4.4.1->widgetsnbextension~=3.5.0->ipywidgets) (2.4.7)\nInstalling collected packages: widgetsnbextension, jupyterlab-widgets, ipywidgets\nSuccessfully installed ipywidgets-7.6.5 jupyterlab-widgets-1.0.2 widgetsnbextension-3.5.2\n\u001b[33mWARNING: You are using pip version 20.1.1; however, version 21.3.1 is available.\nYou should consider upgrading via the '/root/venv/bin/python -m pip install --upgrade pip' command.\u001b[0m\nCollecting jupyter_client\n  Downloading jupyter_client-7.1.0-py3-none-any.whl (129 kB)\n\u001b[K     |████████████████████████████████| 129 kB 20.6 MB/s \n\u001b[?25hRequirement already satisfied, skipping upgrade: traitlets in /shared-libs/python3.7/py-core/lib/python3.7/site-packages (from jupyter_client) (4.3.3)\nRequirement already satisfied, skipping upgrade: entrypoints in /shared-libs/python3.7/py-core/lib/python3.7/site-packages (from jupyter_client) (0.3)\nRequirement already satisfied, skipping upgrade: tornado>=4.1 in /shared-libs/python3.7/py-core/lib/python3.7/site-packages (from jupyter_client) (6.1)\nRequirement already satisfied, skipping upgrade: nest-asyncio>=1.5 in /shared-libs/python3.7/py-core/lib/python3.7/site-packages (from jupyter_client) (1.5.1)\nRequirement already satisfied, skipping upgrade: python-dateutil>=2.1 in /shared-libs/python3.7/py-core/lib/python3.7/site-packages (from jupyter_client) (2.8.2)\nRequirement already satisfied, skipping upgrade: jupyter-core>=4.6.0 in /shared-libs/python3.7/py-core/lib/python3.7/site-packages (from jupyter_client) (4.7.1)\nRequirement already satisfied, skipping upgrade: pyzmq>=13 in /shared-libs/python3.7/py-core/lib/python3.7/site-packages (from jupyter_client) (22.3.0)\nRequirement already satisfied, skipping upgrade: ipython-genutils in /shared-libs/python3.7/py-core/lib/python3.7/site-packages (from traitlets->jupyter_client) (0.2.0)\nRequirement already satisfied, skipping upgrade: decorator in /shared-libs/python3.7/py-core/lib/python3.7/site-packages (from traitlets->jupyter_client) (5.1.0)\nRequirement already satisfied, skipping upgrade: six in /shared-libs/python3.7/py-core/lib/python3.7/site-packages (from traitlets->jupyter_client) (1.16.0)\n\u001b[31mERROR: notebook 6.3.0 has requirement jupyter-client==6.1.12, but you'll have jupyter-client 7.1.0 which is incompatible.\u001b[0m\nInstalling collected packages: jupyter-client\n  Attempting uninstall: jupyter-client\n    Found existing installation: jupyter-client 6.1.12\n    Not uninstalling jupyter-client at /shared-libs/python3.7/py-core/lib/python3.7/site-packages, outside environment /root/venv\n    Can't uninstall 'jupyter-client'. No files were found to uninstall.\nSuccessfully installed jupyter-client-7.1.0\n\u001b[33mWARNING: You are using pip version 20.1.1; however, version 21.3.1 is available.\nYou should consider upgrading via the '/root/venv/bin/python -m pip install --upgrade pip' command.\u001b[0m\n",
     "output_type": "stream"
    }
   ]
  },
  {
   "cell_type": "markdown",
   "source": "## 2. Data loading and preprocessing ",
   "metadata": {
    "tags": [],
    "cell_id": "00003-a1525897-fdc4-41ab-ac76-6c5880529061",
    "deepnote_cell_type": "markdown"
   }
  },
  {
   "cell_type": "code",
   "metadata": {
    "tags": [],
    "cell_id": "00001-e6c03061-cfe3-4357-86c7-4ab9615631ee",
    "deepnote_to_be_reexecuted": false,
    "source_hash": "6ffcbb9c",
    "execution_start": 1639350224288,
    "execution_millis": 2,
    "deepnote_cell_type": "code"
   },
   "source": "def transform_data(data, target_var, scale=True):\n    if scale:\n        std_scaler = StandardScaler()\n        X = pd.DataFrame(\n        std_scaler.fit_transform(data.drop(target_var, axis=1)), columns=data.drop(target_var, axis=1).columns\n        )\n        y = data[target_var].reset_index().drop(\"index\", axis=1)\n    else:\n        X = data.drop(target_var, axis=1)\n        y = data[target_var].reset_index().drop(\"index\", axis=1)\n    return X, y",
   "execution_count": null,
   "outputs": []
  },
  {
   "cell_type": "markdown",
   "source": "#### 2.1. Insurance dataset\nDataset needed to be one hot encoded and scaled.",
   "metadata": {
    "tags": [],
    "cell_id": "00005-c9dec43b-a69e-4cf5-bed3-8891689f4680",
    "deepnote_cell_type": "markdown"
   }
  },
  {
   "cell_type": "code",
   "metadata": {
    "tags": [],
    "cell_id": "00001-371b0a53-69d0-4cf8-ac98-5a90576e3f03",
    "deepnote_to_be_reexecuted": false,
    "source_hash": "9a85aad5",
    "execution_start": 1639350224302,
    "execution_millis": 55,
    "deepnote_cell_type": "code"
   },
   "source": "def load_insurance_data():\n    insurance_df = pd.read_csv(\"datasets/insurance.csv\")\n    categorical_cols = [\"sex\", \"smoker\", \"region\"]\n\n    for col in categorical_cols:\n        insurance_df[col] = insurance_df[col].astype('category')\n\n    insurance_df = pd.get_dummies(insurance_df, columns = categorical_cols)\n    # for features with only two possible values we don't need both hot encoding columns so i drop them\n    insurance_df = insurance_df.drop([\"sex_male\", \"smoker_yes\"], axis=1)\n\n    # train test split\n    data_training, data_testing = train_test_split(insurance_df, test_size=0.2, random_state=234)\n\n    insurance_X_train, insurance_y_train = transform_data(data_training, \"charges\")\n    insurance_X_test, insurance_y_test = transform_data(data_testing, \"charges\")\n\n    return insurance_X_train, insurance_y_train, insurance_X_test, insurance_y_test\n\ninsurance_X_train, insurance_y_train, insurance_X_test, insurance_y_test = load_insurance_data()\n\n# display(insurance_X_train.head())\n# display(insurance_y_train.head())",
   "execution_count": null,
   "outputs": []
  },
  {
   "cell_type": "markdown",
   "source": "#### 2.2. ",
   "metadata": {
    "tags": [],
    "cell_id": "00007-e96f44d6-3ea0-4c9f-8d72-dec84e9a25ae",
    "deepnote_cell_type": "markdown"
   }
  },
  {
   "cell_type": "code",
   "metadata": {
    "tags": [],
    "cell_id": "00008-7d31fc65-f21e-4202-964f-da1e64c423bf",
    "deepnote_to_be_reexecuted": false,
    "source_hash": "8ac038d3",
    "execution_start": 1639350224367,
    "execution_millis": 3713,
    "deepnote_cell_type": "code"
   },
   "source": "\ndef load_paris_housing_data():\n    paris_housing_df = pd.read_csv(\"datasets/ParisHousing.csv\")\n    #Class is only needed for cal\n    categorical_cols = [\"cityCode\", \"made\"]\n\n    for col in categorical_cols:\n        paris_housing_df[col] = paris_housing_df[col].astype('category')\n\n    paris_housing_df = pd.get_dummies(paris_housing_df, columns = categorical_cols)\n\n    # train test split\n    data_training, data_testing = train_test_split(paris_housing_df, test_size=0.2, random_state=234)\n\n    paris_housing_X_train, paris_housing_y_train = transform_data(data_training, \"price\")\n    paris_housing_X_test, paris_housing_y_test = transform_data(data_testing, \"price\")\n\n    return paris_housing_X_train, paris_housing_y_train, paris_housing_X_test, paris_housing_y_test\n\nparis_housing_X_train, paris_housing_y_train, paris_housing_X_test, paris_housing_y_test = load_paris_housing_data()",
   "execution_count": null,
   "outputs": []
  },
  {
   "cell_type": "markdown",
   "source": "#### 2.3.",
   "metadata": {
    "tags": [],
    "cell_id": "00008-29a33c68-28d1-4d2d-b74a-2f9d3de788b2",
    "deepnote_cell_type": "markdown"
   }
  },
  {
   "cell_type": "code",
   "metadata": {
    "tags": [],
    "cell_id": "00010-abbe0974-a0bb-46de-811e-a8c2d49fc242",
    "deepnote_to_be_reexecuted": false,
    "source_hash": "71ca3dcb",
    "execution_start": 1639350228081,
    "execution_millis": 572,
    "deepnote_cell_type": "code"
   },
   "source": "def load_financial_data():\n    financial_df = pd.read_csv(\"datasets/2018_Financial_Data.csv\")\n    #Class is only needed for classification, regression is done via 2019 PRICE VAR [%]\n\n    financial_df.drop('Class', axis=1, inplace=True)\n    #Drop the first row as it only contains names\n    financial_df.drop(financial_df.columns[[0]], axis=1, inplace=True)\n    #Change target to a better name\n    financial_df = financial_df.rename(columns={\"2019 PRICE VAR [%]\":\"prive_var\"})\n\n    categorical_cols = [\"Sector\"]\n\n    for col in categorical_cols:\n        financial_df[col] = financial_df[col].astype('category')\n\n    financial_df = pd.get_dummies(financial_df, columns = categorical_cols)\n    # train test split\n    data_training, data_testing = train_test_split(financial_df, test_size=0.2, random_state=234)\n\n\n    #impute missing values\n    imputerMean = SimpleImputer(strategy='mean', missing_values=np.nan)\n    financial_df = pd.DataFrame(imputerMean.fit_transform(financial_df.values), columns=financial_df.columns.values.tolist())\n\n    financial_X_train, financial_y_train = transform_data(financial_df, \"prive_var\")\n    financial_X_test, financial_y_test = transform_data(financial_df, \"prive_var\")\n\n    return financial_X_train, financial_y_train, financial_X_test, financial_y_test\n\nfinancial_X_train, financial_y_train, financial_X_test, financial_y_test = load_financial_data()\ndisplay(financial_X_train)\ndisplay(financial_y_train)",
   "execution_count": null,
   "outputs": [
    {
     "data": {
      "application/vnd.deepnote.dataframe.v2+json": {
       "row_count": 4392,
       "column_count": 232,
       "columns": [
        {
         "name": "Revenue",
         "dtype": "float64",
         "stats": {
          "unique_count": 4105,
          "nan_count": 0,
          "min": "-0.2545109765955787",
          "max": "24.293431933518974",
          "histogram": [
           {
            "bin_start": -0.2545109765955787,
            "bin_end": 2.2002833144158767,
            "count": 4308
           },
           {
            "bin_start": 2.2002833144158767,
            "bin_end": 4.655077605427333,
            "count": 48
           },
           {
            "bin_start": 4.655077605427333,
            "bin_end": 7.109871896438788,
            "count": 20
           },
           {
            "bin_start": 7.109871896438788,
            "bin_end": 9.564666187450243,
            "count": 6
           },
           {
            "bin_start": 9.564666187450243,
            "bin_end": 12.0194604784617,
            "count": 3
           },
           {
            "bin_start": 12.0194604784617,
            "bin_end": 14.474254769473154,
            "count": 3
           },
           {
            "bin_start": 14.474254769473154,
            "bin_end": 16.92904906048461,
            "count": 2
           },
           {
            "bin_start": 16.92904906048461,
            "bin_end": 19.383843351496065,
            "count": 0
           },
           {
            "bin_start": 19.383843351496065,
            "bin_end": 21.83863764250752,
            "count": 1
           },
           {
            "bin_start": 21.83863764250752,
            "bin_end": 24.293431933518974,
            "count": 1
           }
          ]
         }
        },
        {
         "name": "Revenue Growth",
         "dtype": "float64",
         "stats": {
          "unique_count": 2978,
          "nan_count": 0,
          "min": "-0.035956771695057226",
          "max": "66.20555066478109",
          "histogram": [
           {
            "bin_start": -0.035956771695057226,
            "bin_end": 6.588193971952557,
            "count": 4391
           },
           {
            "bin_start": 6.588193971952557,
            "bin_end": 13.212344715600171,
            "count": 0
           },
           {
            "bin_start": 13.212344715600171,
            "bin_end": 19.836495459247782,
            "count": 0
           },
           {
            "bin_start": 19.836495459247782,
            "bin_end": 26.460646202895397,
            "count": 0
           },
           {
            "bin_start": 26.460646202895397,
            "bin_end": 33.084796946543015,
            "count": 0
           },
           {
            "bin_start": 33.084796946543015,
            "bin_end": 39.70894769019063,
            "count": 0
           },
           {
            "bin_start": 39.70894769019063,
            "bin_end": 46.333098433838245,
            "count": 0
           },
           {
            "bin_start": 46.333098433838245,
            "bin_end": 52.957249177485856,
            "count": 0
           },
           {
            "bin_start": 52.957249177485856,
            "bin_end": 59.58139992113347,
            "count": 0
           },
           {
            "bin_start": 59.58139992113347,
            "bin_end": 66.20555066478109,
            "count": 1
           }
          ]
         }
        },
        {
         "name": "Cost of Revenue",
         "dtype": "float64",
         "stats": {
          "unique_count": 3289,
          "nan_count": 0,
          "min": "-0.3937643194779432",
          "max": "25.075957086816334",
          "histogram": [
           {
            "bin_start": -0.3937643194779432,
            "bin_end": 2.1532078211514842,
            "count": 4329
           },
           {
            "bin_start": 2.1532078211514842,
            "bin_end": 4.700179961780911,
            "count": 34
           },
           {
            "bin_start": 4.700179961780911,
            "bin_end": 7.24715210241034,
            "count": 10
           },
           {
            "bin_start": 7.24715210241034,
            "bin_end": 9.794124243039766,
            "count": 8
           },
           {
            "bin_start": 9.794124243039766,
            "bin_end": 12.341096383669194,
            "count": 4
           },
           {
            "bin_start": 12.341096383669194,
            "bin_end": 14.888068524298621,
            "count": 3
           },
           {
            "bin_start": 14.888068524298621,
            "bin_end": 17.43504066492805,
            "count": 2
           },
           {
            "bin_start": 17.43504066492805,
            "bin_end": 19.982012805557478,
            "count": 0
           },
           {
            "bin_start": 19.982012805557478,
            "bin_end": 22.528984946186906,
            "count": 1
           },
           {
            "bin_start": 22.528984946186906,
            "bin_end": 25.075957086816334,
            "count": 1
           }
          ]
         }
        },
        {
         "name": "Gross Profit",
         "dtype": "float64",
         "stats": {
          "unique_count": 4095,
          "nan_count": 0,
          "min": "-0.5064940637293249",
          "max": "16.380063573591936",
          "histogram": [
           {
            "bin_start": -0.5064940637293249,
            "bin_end": 1.182161700002801,
            "count": 4223
           },
           {
            "bin_start": 1.182161700002801,
            "bin_end": 2.870817463734927,
            "count": 94
           },
           {
            "bin_start": 2.870817463734927,
            "bin_end": 4.559473227467053,
            "count": 35
           },
           {
            "bin_start": 4.559473227467053,
            "bin_end": 6.248128991199179,
            "count": 14
           },
           {
            "bin_start": 6.248128991199179,
            "bin_end": 7.936784754931305,
            "count": 7
           },
           {
            "bin_start": 7.936784754931305,
            "bin_end": 9.625440518663432,
            "count": 5
           },
           {
            "bin_start": 9.625440518663432,
            "bin_end": 11.314096282395557,
            "count": 4
           },
           {
            "bin_start": 11.314096282395557,
            "bin_end": 13.002752046127682,
            "count": 6
           },
           {
            "bin_start": 13.002752046127682,
            "bin_end": 14.691407809859808,
            "count": 3
           },
           {
            "bin_start": 14.691407809859808,
            "bin_end": 16.380063573591936,
            "count": 1
           }
          ]
         }
        },
        {
         "name": "R&D Expenses",
         "dtype": "float64",
         "stats": {
          "unique_count": 1524,
          "nan_count": 0,
          "min": "-0.24487997877946788",
          "max": "31.647823024435354",
          "histogram": [
           {
            "bin_start": -0.24487997877946788,
            "bin_end": 2.9443903215420146,
            "count": 4358
           },
           {
            "bin_start": 2.9443903215420146,
            "bin_end": 6.133660621863497,
            "count": 16
           },
           {
            "bin_start": 6.133660621863497,
            "bin_end": 9.32293092218498,
            "count": 7
           },
           {
            "bin_start": 9.32293092218498,
            "bin_end": 12.512201222506462,
            "count": 5
           },
           {
            "bin_start": 12.512201222506462,
            "bin_end": 15.701471522827944,
            "count": 2
           },
           {
            "bin_start": 15.701471522827944,
            "bin_end": 18.890741823149426,
            "count": 1
           },
           {
            "bin_start": 18.890741823149426,
            "bin_end": 22.080012123470908,
            "count": 0
           },
           {
            "bin_start": 22.080012123470908,
            "bin_end": 25.26928242379239,
            "count": 2
           },
           {
            "bin_start": 25.26928242379239,
            "bin_end": 28.458552724113872,
            "count": 0
           },
           {
            "bin_start": 28.458552724113872,
            "bin_end": 31.647823024435354,
            "count": 1
           }
          ]
         }
        },
        {
         "name": "SG&A Expense",
         "dtype": "float64",
         "stats": {
          "unique_count": 4057,
          "nan_count": 0,
          "min": "-0.2898103447366906",
          "max": "29.410832857566604",
          "histogram": [
           {
            "bin_start": -0.2898103447366906,
            "bin_end": 2.6802539754936388,
            "count": 4310
           },
           {
            "bin_start": 2.6802539754936388,
            "bin_end": 5.6503182957239675,
            "count": 55
           },
           {
            "bin_start": 5.6503182957239675,
            "bin_end": 8.620382615954298,
            "count": 16
           },
           {
            "bin_start": 8.620382615954298,
            "bin_end": 11.590446936184627,
            "count": 7
           },
           {
            "bin_start": 11.590446936184627,
            "bin_end": 14.560511256414955,
            "count": 0
           },
           {
            "bin_start": 14.560511256414955,
            "bin_end": 17.530575576645287,
            "count": 2
           },
           {
            "bin_start": 17.530575576645287,
            "bin_end": 20.500639896875615,
            "count": 1
           },
           {
            "bin_start": 20.500639896875615,
            "bin_end": 23.470704217105943,
            "count": 0
           },
           {
            "bin_start": 23.470704217105943,
            "bin_end": 26.44076853733627,
            "count": 0
           },
           {
            "bin_start": 26.44076853733627,
            "bin_end": 29.410832857566604,
            "count": 1
           }
          ]
         }
        },
        {
         "name": "Operating Expenses",
         "dtype": "float64",
         "stats": {
          "unique_count": 4150,
          "nan_count": 0,
          "min": "-1.0560653675981169",
          "max": "19.414678236071847",
          "histogram": [
           {
            "bin_start": -1.0560653675981169,
            "bin_end": 0.9910089927688792,
            "count": 4205
           },
           {
            "bin_start": 0.9910089927688792,
            "bin_end": 3.0380833531358755,
            "count": 117
           },
           {
            "bin_start": 3.0380833531358755,
            "bin_end": 5.085157713502872,
            "count": 38
           },
           {
            "bin_start": 5.085157713502872,
            "bin_end": 7.132232073869868,
            "count": 11
           },
           {
            "bin_start": 7.132232073869868,
            "bin_end": 9.179306434236862,
            "count": 8
           },
           {
            "bin_start": 9.179306434236862,
            "bin_end": 11.226380794603859,
            "count": 4
           },
           {
            "bin_start": 11.226380794603859,
            "bin_end": 13.273455154970856,
            "count": 3
           },
           {
            "bin_start": 13.273455154970856,
            "bin_end": 15.320529515337851,
            "count": 5
           },
           {
            "bin_start": 15.320529515337851,
            "bin_end": 17.367603875704848,
            "count": 0
           },
           {
            "bin_start": 17.367603875704848,
            "bin_end": 19.414678236071847,
            "count": 1
           }
          ]
         }
        },
        {
         "name": "Operating Income",
         "dtype": "float64",
         "stats": {
          "unique_count": 4283,
          "nan_count": 0,
          "min": "-5.143851035311295",
          "max": "23.75394020051432",
          "histogram": [
           {
            "bin_start": -5.143851035311295,
            "bin_end": -2.2540719117287336,
            "count": 8
           },
           {
            "bin_start": -2.2540719117287336,
            "bin_end": 0.6357072118538278,
            "count": 4124
           },
           {
            "bin_start": 0.6357072118538278,
            "bin_end": 3.525486335436389,
            "count": 204
           },
           {
            "bin_start": 3.525486335436389,
            "bin_end": 6.415265459018951,
            "count": 34
           },
           {
            "bin_start": 6.415265459018951,
            "bin_end": 9.305044582601512,
            "count": 13
           },
           {
            "bin_start": 9.305044582601512,
            "bin_end": 12.194823706184073,
            "count": 4
           },
           {
            "bin_start": 12.194823706184073,
            "bin_end": 15.084602829766636,
            "count": 1
           },
           {
            "bin_start": 15.084602829766636,
            "bin_end": 17.974381953349194,
            "count": 1
           },
           {
            "bin_start": 17.974381953349194,
            "bin_end": 20.864161076931758,
            "count": 2
           },
           {
            "bin_start": 20.864161076931758,
            "bin_end": 23.75394020051432,
            "count": 1
           }
          ]
         }
        },
        {
         "name": "Interest Expense",
         "dtype": "float64",
         "stats": {
          "unique_count": 2951,
          "nan_count": 0,
          "min": "-4.077214927813852",
          "max": "24.510703623432914",
          "histogram": [
           {
            "bin_start": -4.077214927813852,
            "bin_end": -1.2184230726891756,
            "count": 2
           },
           {
            "bin_start": -1.2184230726891756,
            "bin_end": 1.6403687824355009,
            "count": 4262
           },
           {
            "bin_start": 1.6403687824355009,
            "bin_end": 4.499160637560177,
            "count": 98
           },
           {
            "bin_start": 4.499160637560177,
            "bin_end": 7.357952492684854,
            "count": 17
           },
           {
            "bin_start": 7.357952492684854,
            "bin_end": 10.21674434780953,
            "count": 4
           },
           {
            "bin_start": 10.21674434780953,
            "bin_end": 13.075536202934206,
            "count": 3
           },
           {
            "bin_start": 13.075536202934206,
            "bin_end": 15.934328058058885,
            "count": 4
           },
           {
            "bin_start": 15.934328058058885,
            "bin_end": 18.79311991318356,
            "count": 0
           },
           {
            "bin_start": 18.79311991318356,
            "bin_end": 21.651911768308235,
            "count": 1
           },
           {
            "bin_start": 21.651911768308235,
            "bin_end": 24.510703623432914,
            "count": 1
           }
          ]
         }
        },
        {
         "name": "Earnings before Tax",
         "dtype": "float64",
         "stats": {
          "unique_count": 4275,
          "nan_count": 0,
          "min": "-8.53087303153559",
          "max": "27.637706215941527",
          "histogram": [
           {
            "bin_start": -8.53087303153559,
            "bin_end": -4.914015106787878,
            "count": 2
           },
           {
            "bin_start": -4.914015106787878,
            "bin_end": -1.2971571820401664,
            "count": 6
           },
           {
            "bin_start": -1.2971571820401664,
            "bin_end": 2.3197007427075444,
            "count": 4297
           },
           {
            "bin_start": 2.3197007427075444,
            "bin_end": 5.936558667455257,
            "count": 65
           },
           {
            "bin_start": 5.936558667455257,
            "bin_end": 9.55341659220297,
            "count": 13
           },
           {
            "bin_start": 9.55341659220297,
            "bin_end": 13.170274516950679,
            "count": 6
           },
           {
            "bin_start": 13.170274516950679,
            "bin_end": 16.78713244169839,
            "count": 2
           },
           {
            "bin_start": 16.78713244169839,
            "bin_end": 20.403990366446102,
            "count": 0
           },
           {
            "bin_start": 20.403990366446102,
            "bin_end": 24.020848291193815,
            "count": 0
           },
           {
            "bin_start": 24.020848291193815,
            "bin_end": 27.637706215941527,
            "count": 1
           }
          ]
         }
        },
        {
         "name": "Income Tax Expense",
         "dtype": "float64",
         "stats": {
          "unique_count": 3413,
          "nan_count": 0,
          "min": "-11.350604983709632",
          "max": "27.357424741926298",
          "histogram": [
           {
            "bin_start": -11.350604983709632,
            "bin_end": -7.479802011146038,
            "count": 3
           },
           {
            "bin_start": -7.479802011146038,
            "bin_end": -3.6089990385824455,
            "count": 4
           },
           {
            "bin_start": -3.6089990385824455,
            "bin_end": 0.2618039339811471,
            "count": 4052
           },
           {
            "bin_start": 0.2618039339811471,
            "bin_end": 4.132606906544741,
            "count": 297
           },
           {
            "bin_start": 4.132606906544741,
            "bin_end": 8.003409879108334,
            "count": 24
           },
           {
            "bin_start": 8.003409879108334,
            "bin_end": 11.874212851671926,
            "count": 7
           },
           {
            "bin_start": 11.874212851671926,
            "bin_end": 15.745015824235521,
            "count": 2
           },
           {
            "bin_start": 15.745015824235521,
            "bin_end": 19.61581879679911,
            "count": 2
           },
           {
            "bin_start": 19.61581879679911,
            "bin_end": 23.486621769362706,
            "count": 0
           },
           {
            "bin_start": 23.486621769362706,
            "bin_end": 27.357424741926298,
            "count": 1
           }
          ]
         }
        },
        {
         "name": "Net Income - Non-Controlling int",
         "dtype": "float64",
         "stats": {
          "unique_count": 1206,
          "nan_count": 0,
          "min": "-8.406490163056844",
          "max": "40.53591490055986",
          "histogram": [
           {
            "bin_start": -8.406490163056844,
            "bin_end": -3.5122496566951735,
            "count": 3
           },
           {
            "bin_start": -3.5122496566951735,
            "bin_end": 1.3819908496664972,
            "count": 4316
           },
           {
            "bin_start": 1.3819908496664972,
            "bin_end": 6.276231356028168,
            "count": 61
           },
           {
            "bin_start": 6.276231356028168,
            "bin_end": 11.170471862389839,
            "count": 5
           },
           {
            "bin_start": 11.170471862389839,
            "bin_end": 16.064712368751508,
            "count": 3
           },
           {
            "bin_start": 16.064712368751508,
            "bin_end": 20.95895287511318,
            "count": 2
           },
           {
            "bin_start": 20.95895287511318,
            "bin_end": 25.853193381474853,
            "count": 0
           },
           {
            "bin_start": 25.853193381474853,
            "bin_end": 30.74743388783652,
            "count": 1
           },
           {
            "bin_start": 30.74743388783652,
            "bin_end": 35.64167439419819,
            "count": 0
           },
           {
            "bin_start": 35.64167439419819,
            "bin_end": 40.53591490055986,
            "count": 1
           }
          ]
         }
        },
        {
         "name": "Net Income - Discontinued ops",
         "dtype": "float64",
         "stats": {
          "unique_count": 357,
          "nan_count": 0,
          "min": "-46.50574641908792",
          "max": "16.314476402309758",
          "histogram": [
           {
            "bin_start": -46.50574641908792,
            "bin_end": -40.22372413694815,
            "count": 1
           },
           {
            "bin_start": -40.22372413694815,
            "bin_end": -33.941701854808386,
            "count": 0
           },
           {
            "bin_start": -33.941701854808386,
            "bin_end": -27.659679572668615,
            "count": 0
           },
           {
            "bin_start": -27.659679572668615,
            "bin_end": -21.377657290528848,
            "count": 1
           },
           {
            "bin_start": -21.377657290528848,
            "bin_end": -15.095635008389081,
            "count": 1
           },
           {
            "bin_start": -15.095635008389081,
            "bin_end": -8.81361272624931,
            "count": 3
           },
           {
            "bin_start": -8.81361272624931,
            "bin_end": -2.531590444109547,
            "count": 5
           },
           {
            "bin_start": -2.531590444109547,
            "bin_end": 3.7504318380302237,
            "count": 4377
           },
           {
            "bin_start": 3.7504318380302237,
            "bin_end": 10.032454120169994,
            "count": 2
           },
           {
            "bin_start": 10.032454120169994,
            "bin_end": 16.314476402309758,
            "count": 2
           }
          ]
         }
        },
        {
         "name": "Net Income",
         "dtype": "float64",
         "stats": {
          "unique_count": 4152,
          "nan_count": 0,
          "min": "-10.953836707390414",
          "max": "28.382760707244234",
          "histogram": [
           {
            "bin_start": -10.953836707390414,
            "bin_end": -7.020176965926949,
            "count": 1
           },
           {
            "bin_start": -7.020176965926949,
            "bin_end": -3.086517224463485,
            "count": 3
           },
           {
            "bin_start": -3.086517224463485,
            "bin_end": 0.8471425169999787,
            "count": 4174
           },
           {
            "bin_start": 0.8471425169999787,
            "bin_end": 4.780802258463444,
            "count": 179
           },
           {
            "bin_start": 4.780802258463444,
            "bin_end": 8.71446199992691,
            "count": 24
           },
           {
            "bin_start": 8.71446199992691,
            "bin_end": 12.648121741390371,
            "count": 6
           },
           {
            "bin_start": 12.648121741390371,
            "bin_end": 16.581781482853835,
            "count": 4
           },
           {
            "bin_start": 16.581781482853835,
            "bin_end": 20.5154412243173,
            "count": 0
           },
           {
            "bin_start": 20.5154412243173,
            "bin_end": 24.449100965780765,
            "count": 0
           },
           {
            "bin_start": 24.449100965780765,
            "bin_end": 28.382760707244234,
            "count": 1
           }
          ]
         }
        },
        {
         "name": "Preferred Dividends",
         "dtype": "float64",
         "stats": {
          "unique_count": 458,
          "nan_count": 0,
          "min": "-0.9607642920656603",
          "max": "38.03518553921748",
          "histogram": [
           {
            "bin_start": -0.9607642920656603,
            "bin_end": 2.938830691062654,
            "count": 4361
           },
           {
            "bin_start": 2.938830691062654,
            "bin_end": 6.838425674190969,
            "count": 21
           },
           {
            "bin_start": 6.838425674190969,
            "bin_end": 10.738020657319284,
            "count": 3
           },
           {
            "bin_start": 10.738020657319284,
            "bin_end": 14.637615640447597,
            "count": 4
           },
           {
            "bin_start": 14.637615640447597,
            "bin_end": 18.53721062357591,
            "count": 0
           },
           {
            "bin_start": 18.53721062357591,
            "bin_end": 22.436805606704226,
            "count": 1
           },
           {
            "bin_start": 22.436805606704226,
            "bin_end": 26.33640058983254,
            "count": 0
           },
           {
            "bin_start": 26.33640058983254,
            "bin_end": 30.235995572960853,
            "count": 0
           },
           {
            "bin_start": 30.235995572960853,
            "bin_end": 34.13559055608917,
            "count": 1
           },
           {
            "bin_start": 34.13559055608917,
            "bin_end": 38.03518553921748,
            "count": 1
           }
          ]
         }
        },
        {
         "name": "Net Income Com",
         "dtype": "float64",
         "stats": {
          "unique_count": 4182,
          "nan_count": 0,
          "min": "-11.203180157787292",
          "max": "28.468925215433362",
          "histogram": [
           {
            "bin_start": -11.203180157787292,
            "bin_end": -7.235969620465227,
            "count": 1
           },
           {
            "bin_start": -7.235969620465227,
            "bin_end": -3.268759083143162,
            "count": 3
           },
           {
            "bin_start": -3.268759083143162,
            "bin_end": 0.6984514541789029,
            "count": 4129
           },
           {
            "bin_start": 0.6984514541789029,
            "bin_end": 4.6656619915009685,
            "count": 225
           },
           {
            "bin_start": 4.6656619915009685,
            "bin_end": 8.632872528823034,
            "count": 23
           },
           {
            "bin_start": 8.632872528823034,
            "bin_end": 12.600083066145098,
            "count": 6
           },
           {
            "bin_start": 12.600083066145098,
            "bin_end": 16.567293603467164,
            "count": 4
           },
           {
            "bin_start": 16.567293603467164,
            "bin_end": 20.53450414078923,
            "count": 0
           },
           {
            "bin_start": 20.53450414078923,
            "bin_end": 24.50171467811129,
            "count": 0
           },
           {
            "bin_start": 24.50171467811129,
            "bin_end": 28.468925215433362,
            "count": 1
           }
          ]
         }
        },
        {
         "name": "EPS",
         "dtype": "float64",
         "stats": {
          "unique_count": 1590,
          "nan_count": 0,
          "min": "-63.3866729604291",
          "max": "17.920853941892528",
          "histogram": [
           {
            "bin_start": -63.3866729604291,
            "bin_end": -55.25592027019694,
            "count": 1
           },
           {
            "bin_start": -55.25592027019694,
            "bin_end": -47.12516757996478,
            "count": 0
           },
           {
            "bin_start": -47.12516757996478,
            "bin_end": -38.99441488973262,
            "count": 0
           },
           {
            "bin_start": -38.99441488973262,
            "bin_end": -30.863662199500453,
            "count": 0
           },
           {
            "bin_start": -30.863662199500453,
            "bin_end": -22.73290950926829,
            "count": 0
           },
           {
            "bin_start": -22.73290950926829,
            "bin_end": -14.602156819036132,
            "count": 0
           },
           {
            "bin_start": -14.602156819036132,
            "bin_end": -6.471404128803968,
            "count": 1
           },
           {
            "bin_start": -6.471404128803968,
            "bin_end": 1.659348561428196,
            "count": 4389
           },
           {
            "bin_start": 1.659348561428196,
            "bin_end": 9.790101251660353,
            "count": 0
           },
           {
            "bin_start": 9.790101251660353,
            "bin_end": 17.920853941892528,
            "count": 1
           }
          ]
         }
        },
        {
         "name": "EPS Diluted",
         "dtype": "float64",
         "stats": {
          "unique_count": 1558,
          "nan_count": 0,
          "min": "-63.67121027887146",
          "max": "16.867238283375105",
          "histogram": [
           {
            "bin_start": -63.67121027887146,
            "bin_end": -55.617365422646806,
            "count": 1
           },
           {
            "bin_start": -55.617365422646806,
            "bin_end": -47.56352056642215,
            "count": 0
           },
           {
            "bin_start": -47.56352056642215,
            "bin_end": -39.50967571019749,
            "count": 0
           },
           {
            "bin_start": -39.50967571019749,
            "bin_end": -31.455830853972834,
            "count": 0
           },
           {
            "bin_start": -31.455830853972834,
            "bin_end": -23.401985997748177,
            "count": 0
           },
           {
            "bin_start": -23.401985997748177,
            "bin_end": -15.34814114152352,
            "count": 0
           },
           {
            "bin_start": -15.34814114152352,
            "bin_end": -7.294296285298863,
            "count": 0
           },
           {
            "bin_start": -7.294296285298863,
            "bin_end": 0.7595485709257943,
            "count": 4390
           },
           {
            "bin_start": 0.7595485709257943,
            "bin_end": 8.813393427150451,
            "count": 0
           },
           {
            "bin_start": 8.813393427150451,
            "bin_end": 16.867238283375105,
            "count": 1
           }
          ]
         }
        },
        {
         "name": "Weighted Average Shs Out",
         "dtype": "float64",
         "stats": {
          "unique_count": 4294,
          "nan_count": 0,
          "min": "-0.1327624133651667",
          "max": "45.30836032403297",
          "histogram": [
           {
            "bin_start": -0.1327624133651667,
            "bin_end": 4.411349860374647,
            "count": 4378
           },
           {
            "bin_start": 4.411349860374647,
            "bin_end": 8.955462134114459,
            "count": 7
           },
           {
            "bin_start": 8.955462134114459,
            "bin_end": 13.499574407854272,
            "count": 4
           },
           {
            "bin_start": 13.499574407854272,
            "bin_end": 18.043686681594085,
            "count": 0
           },
           {
            "bin_start": 18.043686681594085,
            "bin_end": 22.5877989553339,
            "count": 1
           },
           {
            "bin_start": 22.5877989553339,
            "bin_end": 27.13191122907371,
            "count": 0
           },
           {
            "bin_start": 27.13191122907371,
            "bin_end": 31.676023502813525,
            "count": 1
           },
           {
            "bin_start": 31.676023502813525,
            "bin_end": 36.22013577655334,
            "count": 0
           },
           {
            "bin_start": 36.22013577655334,
            "bin_end": 40.764248050293155,
            "count": 0
           },
           {
            "bin_start": 40.764248050293155,
            "bin_end": 45.30836032403297,
            "count": 1
           }
          ]
         }
        },
        {
         "name": "Weighted Average Shs Out (Dil)",
         "dtype": "float64",
         "stats": {
          "unique_count": 4146,
          "nan_count": 0,
          "min": "-0.133522390329248",
          "max": "45.8251281743729",
          "histogram": [
           {
            "bin_start": -0.133522390329248,
            "bin_end": 4.462342666140967,
            "count": 4379
           },
           {
            "bin_start": 4.462342666140967,
            "bin_end": 9.058207722611183,
            "count": 6
           },
           {
            "bin_start": 9.058207722611183,
            "bin_end": 13.654072779081398,
            "count": 4
           },
           {
            "bin_start": 13.654072779081398,
            "bin_end": 18.249937835551613,
            "count": 0
           },
           {
            "bin_start": 18.249937835551613,
            "bin_end": 22.84580289202183,
            "count": 1
           },
           {
            "bin_start": 22.84580289202183,
            "bin_end": 27.441667948492043,
            "count": 0
           },
           {
            "bin_start": 27.441667948492043,
            "bin_end": 32.037533004962256,
            "count": 1
           },
           {
            "bin_start": 32.037533004962256,
            "bin_end": 36.63339806143247,
            "count": 0
           },
           {
            "bin_start": 36.63339806143247,
            "bin_end": 41.22926311790269,
            "count": 0
           },
           {
            "bin_start": 41.22926311790269,
            "bin_end": 45.8251281743729,
            "count": 1
           }
          ]
         }
        },
        {
         "name": "Dividend per Share",
         "dtype": "float64",
         "stats": {
          "unique_count": 737,
          "nan_count": 0,
          "min": "-0.4345752544755599",
          "max": "31.68472297142167",
          "histogram": [
           {
            "bin_start": -0.4345752544755599,
            "bin_end": 2.777354568114163,
            "count": 4334
           },
           {
            "bin_start": 2.777354568114163,
            "bin_end": 5.989284390703887,
            "count": 42
           },
           {
            "bin_start": 5.989284390703887,
            "bin_end": 9.201214213293609,
            "count": 9
           },
           {
            "bin_start": 9.201214213293609,
            "bin_end": 12.413144035883333,
            "count": 4
           },
           {
            "bin_start": 12.413144035883333,
            "bin_end": 15.625073858473057,
            "count": 2
           },
           {
            "bin_start": 15.625073858473057,
            "bin_end": 18.837003681062775,
            "count": 0
           },
           {
            "bin_start": 18.837003681062775,
            "bin_end": 22.0489335036525,
            "count": 0
           },
           {
            "bin_start": 22.0489335036525,
            "bin_end": 25.260863326242223,
            "count": 0
           },
           {
            "bin_start": 25.260863326242223,
            "bin_end": 28.472793148831947,
            "count": 0
           },
           {
            "bin_start": 28.472793148831947,
            "bin_end": 31.68472297142167,
            "count": 1
           }
          ]
         }
        },
        {
         "name": "Gross Margin",
         "dtype": "float64",
         "stats": {
          "unique_count": 2859,
          "nan_count": 0,
          "min": "-35.19128834801715",
          "max": "3.4504090625549813",
          "histogram": [
           {
            "bin_start": -35.19128834801715,
            "bin_end": -31.32711860695994,
            "count": 2
           },
           {
            "bin_start": -31.32711860695994,
            "bin_end": -27.462948865902725,
            "count": 0
           },
           {
            "bin_start": -27.462948865902725,
            "bin_end": -23.598779124845514,
            "count": 0
           },
           {
            "bin_start": -23.598779124845514,
            "bin_end": -19.7346093837883,
            "count": 0
           },
           {
            "bin_start": -19.7346093837883,
            "bin_end": -15.870439642731085,
            "count": 0
           },
           {
            "bin_start": -15.870439642731085,
            "bin_end": -12.006269901673875,
            "count": 2
           },
           {
            "bin_start": -12.006269901673875,
            "bin_end": -8.14210016061666,
            "count": 1
           },
           {
            "bin_start": -8.14210016061666,
            "bin_end": -4.277930419559446,
            "count": 5
           },
           {
            "bin_start": -4.277930419559446,
            "bin_end": -0.41376067850223563,
            "count": 1094
           },
           {
            "bin_start": -0.41376067850223563,
            "bin_end": 3.4504090625549813,
            "count": 3288
           }
          ]
         }
        },
        {
         "name": "EBITDA Margin",
         "dtype": "float64"
        },
        {
         "name": "EBIT Margin",
         "dtype": "float64"
        },
        {
         "name": "Profit Margin",
         "dtype": "float64"
        },
        {
         "name": "Free Cash Flow margin",
         "dtype": "float64"
        },
        {
         "name": "EBITDA",
         "dtype": "float64"
        },
        {
         "name": "EBIT",
         "dtype": "float64"
        },
        {
         "name": "Consolidated Income",
         "dtype": "float64"
        },
        {
         "name": "Earnings Before Tax Margin",
         "dtype": "float64"
        },
        {
         "name": "Net Profit Margin",
         "dtype": "float64"
        },
        {
         "name": "Cash and cash equivalents",
         "dtype": "float64"
        },
        {
         "name": "Short-term investments",
         "dtype": "float64"
        },
        {
         "name": "Cash and short-term investments",
         "dtype": "float64"
        },
        {
         "name": "Receivables",
         "dtype": "float64"
        },
        {
         "name": "Inventories",
         "dtype": "float64"
        },
        {
         "name": "Total current assets",
         "dtype": "float64"
        },
        {
         "name": "Property, Plant & Equipment Net",
         "dtype": "float64"
        },
        {
         "name": "Goodwill and Intangible Assets",
         "dtype": "float64"
        },
        {
         "name": "Long-term investments",
         "dtype": "float64"
        },
        {
         "name": "Tax assets",
         "dtype": "float64"
        },
        {
         "name": "Total non-current assets",
         "dtype": "float64"
        },
        {
         "name": "Total assets",
         "dtype": "float64"
        },
        {
         "name": "Payables",
         "dtype": "float64"
        },
        {
         "name": "Short-term debt",
         "dtype": "float64"
        },
        {
         "name": "Total current liabilities",
         "dtype": "float64"
        },
        {
         "name": "Long-term debt",
         "dtype": "float64"
        },
        {
         "name": "Total debt",
         "dtype": "float64"
        },
        {
         "name": "Deferred revenue",
         "dtype": "float64"
        },
        {
         "name": "Tax Liabilities",
         "dtype": "float64"
        },
        {
         "name": "Deposit Liabilities",
         "dtype": "float64"
        },
        {
         "name": "Total non-current liabilities",
         "dtype": "float64"
        },
        {
         "name": "Total liabilities",
         "dtype": "float64"
        },
        {
         "name": "Other comprehensive income",
         "dtype": "float64"
        },
        {
         "name": "Retained earnings (deficit)",
         "dtype": "float64"
        },
        {
         "name": "Total shareholders equity",
         "dtype": "float64"
        },
        {
         "name": "Investments",
         "dtype": "float64"
        },
        {
         "name": "Net Debt",
         "dtype": "float64"
        },
        {
         "name": "Other Assets",
         "dtype": "float64"
        },
        {
         "name": "Other Liabilities",
         "dtype": "float64"
        },
        {
         "name": "Depreciation & Amortization",
         "dtype": "float64"
        },
        {
         "name": "Stock-based compensation",
         "dtype": "float64"
        },
        {
         "name": "Operating Cash Flow",
         "dtype": "float64"
        },
        {
         "name": "Capital Expenditure",
         "dtype": "float64"
        },
        {
         "name": "Acquisitions and disposals",
         "dtype": "float64"
        },
        {
         "name": "Investment purchases and sales",
         "dtype": "float64"
        },
        {
         "name": "Investing Cash flow",
         "dtype": "float64"
        },
        {
         "name": "Issuance (repayment) of debt",
         "dtype": "float64"
        },
        {
         "name": "Issuance (buybacks) of shares",
         "dtype": "float64"
        },
        {
         "name": "Dividend payments",
         "dtype": "float64"
        },
        {
         "name": "Financing Cash Flow",
         "dtype": "float64"
        },
        {
         "name": "Effect of forex changes on cash",
         "dtype": "float64"
        },
        {
         "name": "Net cash flow / Change in cash",
         "dtype": "float64"
        },
        {
         "name": "Free Cash Flow",
         "dtype": "float64"
        },
        {
         "name": "Net Cash/Marketcap",
         "dtype": "float64"
        },
        {
         "name": "priceBookValueRatio",
         "dtype": "float64"
        },
        {
         "name": "priceToBookRatio",
         "dtype": "float64"
        },
        {
         "name": "priceToSalesRatio",
         "dtype": "float64"
        },
        {
         "name": "priceEarningsRatio",
         "dtype": "float64"
        },
        {
         "name": "priceToFreeCashFlowsRatio",
         "dtype": "float64"
        },
        {
         "name": "priceToOperatingCashFlowsRatio",
         "dtype": "float64"
        },
        {
         "name": "priceCashFlowRatio",
         "dtype": "float64"
        },
        {
         "name": "priceEarningsToGrowthRatio",
         "dtype": "float64"
        },
        {
         "name": "priceSalesRatio",
         "dtype": "float64"
        },
        {
         "name": "dividendYield",
         "dtype": "float64"
        },
        {
         "name": "enterpriseValueMultiple",
         "dtype": "float64"
        },
        {
         "name": "priceFairValue",
         "dtype": "float64"
        },
        {
         "name": "ebitperRevenue",
         "dtype": "float64"
        },
        {
         "name": "ebtperEBIT",
         "dtype": "float64"
        },
        {
         "name": "niperEBT",
         "dtype": "float64"
        },
        {
         "name": "grossProfitMargin",
         "dtype": "float64"
        },
        {
         "name": "operatingProfitMargin",
         "dtype": "float64"
        },
        {
         "name": "pretaxProfitMargin",
         "dtype": "float64"
        },
        {
         "name": "netProfitMargin",
         "dtype": "float64"
        },
        {
         "name": "effectiveTaxRate",
         "dtype": "float64"
        },
        {
         "name": "returnOnAssets",
         "dtype": "float64"
        },
        {
         "name": "returnOnEquity",
         "dtype": "float64"
        },
        {
         "name": "returnOnCapitalEmployed",
         "dtype": "float64"
        },
        {
         "name": "nIperEBT",
         "dtype": "float64"
        },
        {
         "name": "eBTperEBIT",
         "dtype": "float64"
        },
        {
         "name": "eBITperRevenue",
         "dtype": "float64"
        },
        {
         "name": "payablesTurnover",
         "dtype": "float64"
        },
        {
         "name": "inventoryTurnover",
         "dtype": "float64"
        },
        {
         "name": "fixedAssetTurnover",
         "dtype": "float64"
        },
        {
         "name": "assetTurnover",
         "dtype": "float64"
        },
        {
         "name": "currentRatio",
         "dtype": "float64"
        },
        {
         "name": "quickRatio",
         "dtype": "float64"
        },
        {
         "name": "cashRatio",
         "dtype": "float64"
        },
        {
         "name": "daysOfSalesOutstanding",
         "dtype": "float64"
        },
        {
         "name": "daysOfInventoryOutstanding",
         "dtype": "float64"
        },
        {
         "name": "operatingCycle",
         "dtype": "float64"
        },
        {
         "name": "daysOfPayablesOutstanding",
         "dtype": "float64"
        },
        {
         "name": "cashConversionCycle",
         "dtype": "float64"
        },
        {
         "name": "debtRatio",
         "dtype": "float64"
        },
        {
         "name": "debtEquityRatio",
         "dtype": "float64"
        },
        {
         "name": "longtermDebtToCapitalization",
         "dtype": "float64"
        },
        {
         "name": "totalDebtToCapitalization",
         "dtype": "float64"
        },
        {
         "name": "interestCoverage",
         "dtype": "float64"
        },
        {
         "name": "cashFlowToDebtRatio",
         "dtype": "float64"
        },
        {
         "name": "companyEquityMultiplier",
         "dtype": "float64"
        },
        {
         "name": "operatingCashFlowPerShare",
         "dtype": "float64"
        },
        {
         "name": "freeCashFlowPerShare",
         "dtype": "float64"
        },
        {
         "name": "cashPerShare",
         "dtype": "float64"
        },
        {
         "name": "payoutRatio",
         "dtype": "float64"
        },
        {
         "name": "operatingCashFlowSalesRatio",
         "dtype": "float64"
        },
        {
         "name": "freeCashFlowOperatingCashFlowRatio",
         "dtype": "float64"
        },
        {
         "name": "cashFlowCoverageRatios",
         "dtype": "float64"
        },
        {
         "name": "shortTermCoverageRatios",
         "dtype": "float64"
        },
        {
         "name": "capitalExpenditureCoverageRatios",
         "dtype": "float64"
        },
        {
         "name": "dividendpaidAndCapexCoverageRatios",
         "dtype": "float64"
        },
        {
         "name": "dividendPayoutRatio",
         "dtype": "float64"
        },
        {
         "name": "Revenue per Share",
         "dtype": "float64"
        },
        {
         "name": "Net Income per Share",
         "dtype": "float64"
        },
        {
         "name": "Operating Cash Flow per Share",
         "dtype": "float64"
        },
        {
         "name": "Free Cash Flow per Share",
         "dtype": "float64"
        },
        {
         "name": "Cash per Share",
         "dtype": "float64"
        },
        {
         "name": "Book Value per Share",
         "dtype": "float64"
        },
        {
         "name": "Tangible Book Value per Share",
         "dtype": "float64"
        },
        {
         "name": "Shareholders Equity per Share",
         "dtype": "float64"
        },
        {
         "name": "Interest Debt per Share",
         "dtype": "float64"
        },
        {
         "name": "Market Cap",
         "dtype": "float64"
        },
        {
         "name": "Enterprise Value",
         "dtype": "float64"
        },
        {
         "name": "PE ratio",
         "dtype": "float64"
        },
        {
         "name": "Price to Sales Ratio",
         "dtype": "float64"
        },
        {
         "name": "POCF ratio",
         "dtype": "float64"
        },
        {
         "name": "PFCF ratio",
         "dtype": "float64"
        },
        {
         "name": "PB ratio",
         "dtype": "float64"
        },
        {
         "name": "PTB ratio",
         "dtype": "float64"
        },
        {
         "name": "EV to Sales",
         "dtype": "float64"
        },
        {
         "name": "Enterprise Value over EBITDA",
         "dtype": "float64"
        },
        {
         "name": "EV to Operating cash flow",
         "dtype": "float64"
        },
        {
         "name": "EV to Free cash flow",
         "dtype": "float64"
        },
        {
         "name": "Earnings Yield",
         "dtype": "float64"
        },
        {
         "name": "Free Cash Flow Yield",
         "dtype": "float64"
        },
        {
         "name": "Debt to Equity",
         "dtype": "float64"
        },
        {
         "name": "Debt to Assets",
         "dtype": "float64"
        },
        {
         "name": "Net Debt to EBITDA",
         "dtype": "float64"
        },
        {
         "name": "Current ratio",
         "dtype": "float64"
        },
        {
         "name": "Interest Coverage",
         "dtype": "float64"
        },
        {
         "name": "Income Quality",
         "dtype": "float64"
        },
        {
         "name": "Dividend Yield",
         "dtype": "float64"
        },
        {
         "name": "Payout Ratio",
         "dtype": "float64"
        },
        {
         "name": "SG&A to Revenue",
         "dtype": "float64"
        },
        {
         "name": "R&D to Revenue",
         "dtype": "float64"
        },
        {
         "name": "Intangibles to Total Assets",
         "dtype": "float64"
        },
        {
         "name": "Capex to Operating Cash Flow",
         "dtype": "float64"
        },
        {
         "name": "Capex to Revenue",
         "dtype": "float64"
        },
        {
         "name": "Capex to Depreciation",
         "dtype": "float64"
        },
        {
         "name": "Stock-based compensation to Revenue",
         "dtype": "float64"
        },
        {
         "name": "Graham Number",
         "dtype": "float64"
        },
        {
         "name": "ROIC",
         "dtype": "float64"
        },
        {
         "name": "Return on Tangible Assets",
         "dtype": "float64"
        },
        {
         "name": "Graham Net-Net",
         "dtype": "float64"
        },
        {
         "name": "Working Capital",
         "dtype": "float64"
        },
        {
         "name": "Tangible Asset Value",
         "dtype": "float64"
        },
        {
         "name": "Net Current Asset Value",
         "dtype": "float64"
        },
        {
         "name": "Invested Capital",
         "dtype": "float64"
        },
        {
         "name": "Average Receivables",
         "dtype": "float64"
        },
        {
         "name": "Average Payables",
         "dtype": "float64"
        },
        {
         "name": "Average Inventory",
         "dtype": "float64"
        },
        {
         "name": "Days Sales Outstanding",
         "dtype": "float64"
        },
        {
         "name": "Days Payables Outstanding",
         "dtype": "float64"
        },
        {
         "name": "Days of Inventory on Hand",
         "dtype": "float64"
        },
        {
         "name": "Receivables Turnover",
         "dtype": "float64"
        },
        {
         "name": "Payables Turnover",
         "dtype": "float64"
        },
        {
         "name": "Inventory Turnover",
         "dtype": "float64"
        },
        {
         "name": "ROE",
         "dtype": "float64"
        },
        {
         "name": "Capex per Share",
         "dtype": "float64"
        },
        {
         "name": "Gross Profit Growth",
         "dtype": "float64"
        },
        {
         "name": "EBIT Growth",
         "dtype": "float64"
        },
        {
         "name": "Operating Income Growth",
         "dtype": "float64"
        },
        {
         "name": "Net Income Growth",
         "dtype": "float64"
        },
        {
         "name": "EPS Growth",
         "dtype": "float64"
        },
        {
         "name": "EPS Diluted Growth",
         "dtype": "float64"
        },
        {
         "name": "Weighted Average Shares Growth",
         "dtype": "float64"
        },
        {
         "name": "Weighted Average Shares Diluted Growth",
         "dtype": "float64"
        },
        {
         "name": "Dividends per Share Growth",
         "dtype": "float64"
        },
        {
         "name": "Operating Cash Flow growth",
         "dtype": "float64"
        },
        {
         "name": "Free Cash Flow growth",
         "dtype": "float64"
        },
        {
         "name": "10Y Revenue Growth (per Share)",
         "dtype": "float64"
        },
        {
         "name": "5Y Revenue Growth (per Share)",
         "dtype": "float64"
        },
        {
         "name": "3Y Revenue Growth (per Share)",
         "dtype": "float64"
        },
        {
         "name": "10Y Operating CF Growth (per Share)",
         "dtype": "float64"
        },
        {
         "name": "5Y Operating CF Growth (per Share)",
         "dtype": "float64"
        },
        {
         "name": "3Y Operating CF Growth (per Share)",
         "dtype": "float64"
        },
        {
         "name": "10Y Net Income Growth (per Share)",
         "dtype": "float64"
        },
        {
         "name": "5Y Net Income Growth (per Share)",
         "dtype": "float64"
        },
        {
         "name": "3Y Net Income Growth (per Share)",
         "dtype": "float64"
        },
        {
         "name": "10Y Shareholders Equity Growth (per Share)",
         "dtype": "float64"
        },
        {
         "name": "5Y Shareholders Equity Growth (per Share)",
         "dtype": "float64"
        },
        {
         "name": "3Y Shareholders Equity Growth (per Share)",
         "dtype": "float64"
        },
        {
         "name": "10Y Dividend per Share Growth (per Share)",
         "dtype": "float64"
        },
        {
         "name": "5Y Dividend per Share Growth (per Share)",
         "dtype": "float64"
        },
        {
         "name": "3Y Dividend per Share Growth (per Share)",
         "dtype": "float64"
        },
        {
         "name": "Receivables growth",
         "dtype": "float64"
        },
        {
         "name": "Inventory Growth",
         "dtype": "float64"
        },
        {
         "name": "Asset Growth",
         "dtype": "float64"
        },
        {
         "name": "Book Value per Share Growth",
         "dtype": "float64"
        },
        {
         "name": "Debt Growth",
         "dtype": "float64"
        },
        {
         "name": "R&D Expense Growth",
         "dtype": "float64"
        },
        {
         "name": "SG&A Expenses Growth",
         "dtype": "float64"
        },
        {
         "name": "Sector_Basic Materials",
         "dtype": "float64"
        },
        {
         "name": "Sector_Communication Services",
         "dtype": "float64"
        },
        {
         "name": "Sector_Consumer Cyclical",
         "dtype": "float64"
        },
        {
         "name": "Sector_Consumer Defensive",
         "dtype": "float64"
        },
        {
         "name": "Sector_Energy",
         "dtype": "float64"
        },
        {
         "name": "Sector_Financial Services",
         "dtype": "float64"
        },
        {
         "name": "Sector_Healthcare",
         "dtype": "float64"
        },
        {
         "name": "Sector_Industrials",
         "dtype": "float64"
        },
        {
         "name": "Sector_Real Estate",
         "dtype": "float64"
        },
        {
         "name": "Sector_Technology",
         "dtype": "float64"
        },
        {
         "name": "Sector_Utilities",
         "dtype": "float64"
        },
        {
         "name": "_deepnote_index_column",
         "dtype": "int64"
        }
       ],
       "rows_top": [
        {
         "Revenue": 4.384956250543117,
         "Revenue Growth": -0.01738258129467585,
         "Cost of Revenue": -0.21299747203627153,
         "Gross Profit": 12.125809748260052,
         "R&D Expenses": -0.13005337680943954,
         "SG&A Expense": 17.80128233698798,
         "Operating Expenses": 13.684569917297472,
         "Operating Income": 6.206956531498401,
         "Interest Expense": 9.303461557660404,
         "Earnings before Tax": 5.559496214671947,
         "Income Tax Expense": 4.504929827977591,
         "Net Income - Non-Controlling int": 0.7747425242237137,
         "Net Income - Discontinued ops": 0.027999658641020775,
         "Net Income": 5.420479530736208,
         "Preferred Dividends": -0.10288159646087658,
         "Net Income Com": 5.436524636808176,
         "EPS": 0.012773618293381668,
         "EPS Diluted": 0.013089642314234193,
         "Weighted Average Shs Out": 2.130683302118146,
         "Weighted Average Shs Out (Dil)": 2.155701674157508,
         "Dividend per Share": 0.21553834166499325,
         "Gross Margin": 0.8669937330391391,
         "EBITDA Margin": 0.04688780381120652,
         "EBIT Margin": 0.049504232901521825,
         "Profit Margin": 0.04696305828690172,
         "Free Cash Flow margin": 0.05152306967306196,
         "EBITDA": 7.494613525975401,
         "EBIT": 6.5761214807378465,
         "Consolidated Income": 5.386039264640308,
         "Earnings Before Tax Margin": 0.047838219705264064,
         "Net Profit Margin": 0.048774186431351396,
         "Cash and cash equivalents": 0.046604189774825965,
         "Short-term investments": -0.08433275222989976,
         "Cash and short-term investments": 0.012492473476967806,
         "Receivables": 0.6018407111775103,
         "Inventories": -0.046358194766521456,
         "Total current assets": 0.3416589745353267,
         "Property, Plant & Equipment Net": 3.8175652749675733,
         "Goodwill and Intangible Assets": 17.85210988010218,
         "Long-term investments": 0.14562205188195834,
         "Tax assets": -0.1331186594903551,
         "Total non-current assets": 11.600876384718186,
         "Total assets": 2.025127229614072,
         "Payables": 1.2659718096549915,
         "Short-term debt": 0.6217571853699303,
         "Total current liabilities": 0.22264129416622835,
         "Long-term debt": 5.01655451977696,
         "Total debt": 4.7444889825007674,
         "Deferred revenue": 1.6309144878907649,
         "Tax Liabilities": 14.451819193583798,
         "Deposit Liabilities": -0.08907549129185777,
         "Total non-current liabilities": 13.717425264158301,
         "Total liabilities": 1.6292289146770478,
         "Other comprehensive income": -0.09538984268295597,
         "Retained earnings (deficit)": 3.062459133821374,
         "Total shareholders equity": 4.952133339803693,
         "Investments": -0.013406455190003363,
         "Net Debt": 5.015164738854253,
         "Other Assets": 0.19988983556240947,
         "Other Liabilities": 0.09509721468953969,
         "Depreciation & Amortization": 7.6558927848794385,
         "Stock-based compensation": 2.9412571546785014,
         "Operating Cash Flow": 2.3045838352795087,
         "Capital Expenditure": -7.313578532079177,
         "Acquisitions and disposals": -27.14188084561338,
         "Investment purchases and sales": -0.21338628649296576,
         "Investing Cash flow": -11.068263818885795,
         "Issuance (repayment) of debt": 16.150648149863976,
         "Issuance (buybacks) of shares": -3.31832931798287,
         "Dividend payments": -3.6956496665848846,
         "Financing Cash Flow": 2.6322656050037314,
         "Effect of forex changes on cash": 0.009973575642351252,
         "Net cash flow / Change in cash": -0.00281006630452682,
         "Free Cash Flow": 3.838472637058667,
         "Net Cash/Marketcap": -0.012030614201798942,
         "priceBookValueRatio": -0.018625487289554345,
         "priceToBookRatio": -0.018612398617658357,
         "priceToSalesRatio": -0.06086053516090035,
         "priceEarningsRatio": -0.10486131632564316,
         "priceToFreeCashFlowsRatio": -0.07628081149235771,
         "priceToOperatingCashFlowsRatio": -0.020001134633361412,
         "priceCashFlowRatio": -0.02504757328292832,
         "priceEarningsToGrowthRatio": -0.15969434123508378,
         "priceSalesRatio": -0.06195978582907597,
         "dividendYield": -0.036411289047361094,
         "enterpriseValueMultiple": -0.04901464932020865,
         "priceFairValue": -0.016875856647549866,
         "ebitperRevenue": 0.0519068917168729,
         "ebtperEBIT": 0.08190127671985244,
         "niperEBT": -0.042186416331762774,
         "grossProfitMargin": 0.3470570842020763,
         "operatingProfitMargin": 0,
         "pretaxProfitMargin": 0.055779672224033974,
         "netProfitMargin": 0.05160327403600663,
         "effectiveTaxRate": 0.04600380213392734,
         "returnOnAssets": 0.05293514499199342,
         "returnOnEquity": -0.015972902053279798,
         "returnOnCapitalEmployed": 0.10996588742873976,
         "nIperEBT": -0.042186416331762774,
         "eBTperEBIT": 0.08190127671985244,
         "eBITperRevenue": 0.0519068917168729,
         "payablesTurnover": -0.03349591745821058,
         "inventoryTurnover": -0.033073959591115094,
         "fixedAssetTurnover": -0.03113081138285037,
         "assetTurnover": -0.4064003161966057,
         "currentRatio": -0.06219840522980735,
         "quickRatio": -0.051906465206498324,
         "cashRatio": -0.2919955191721289,
         "daysOfSalesOutstanding": 0.018789800129593262,
         "daysOfInventoryOutstanding": -0.017847293066981944,
         "operatingCycle": -1.1023718896373237e-14,
         "daysOfPayablesOutstanding": -0.06381866106241801,
         "cashConversionCycle": -3.1746816102860844e-18,
         "debtRatio": 0.36812779468267337,
         "debtEquityRatio": 0.06084656910079824,
         "longtermDebtToCapitalization": 0.32468146678934606,
         "totalDebtToCapitalization": 0.4385644587527015,
         "interestCoverage": 0.006253164283462255,
         "cashFlowToDebtRatio": -0.014773094901520513,
         "companyEquityMultiplier": -0.01683832165345268,
         "operatingCashFlowPerShare": -0.020481353334272683,
         "freeCashFlowPerShare": -0.009902684615700373,
         "cashPerShare": -0.027444135192588676,
         "payoutRatio": 0.014204720885544277,
         "operatingCashFlowSalesRatio": -0.0013486277628099472,
         "freeCashFlowOperatingCashFlowRatio": 0.022430055554193952,
         "cashFlowCoverageRatios": -0.014773094901520513,
         "shortTermCoverageRatios": -0.08139211891908105,
         "capitalExpenditureCoverageRatios": 0.0713121237385383,
         "dividendpaidAndCapexCoverageRatios": 0.07375609840152936,
         "dividendPayoutRatio": -0.06784910642119503,
         "Revenue per Share": -0.03625560428125334,
         "Net Income per Share": -0.03327754446512488,
         "Operating Cash Flow per Share": -0.020481353334272683,
         "Free Cash Flow per Share": -0.009902684615700373,
         "Cash per Share": -0.027444135192588676,
         "Book Value per Share": 0.015674663893283976,
         "Tangible Book Value per Share": -0.03224333250742973,
         "Shareholders Equity per Share": -0.03995432599333368,
         "Interest Debt per Share": -0.03603305905667527,
         "Market Cap": 0.20155828478150747,
         "Enterprise Value": 7.224178923445453,
         "PE ratio": -0.10486131632564316,
         "Price to Sales Ratio": -0.06086053516090035,
         "POCF ratio": -0.020001134633361412,
         "PFCF ratio": -0.07628081149235771,
         "PB ratio": -0.018625487289554345,
         "PTB ratio": -0.018612398617658357,
         "EV to Sales": -0.054216037225150344,
         "Enterprise Value over EBITDA": -0.07433337471965405,
         "EV to Operating cash flow": -0.020839571322630295,
         "EV to Free cash flow": 0.03735548029948727,
         "Earnings Yield": -0.001294722181745621,
         "Free Cash Flow Yield": 0.072184907005093,
         "Debt to Equity": 0.06084656910079824,
         "Debt to Assets": 0.36812779468267337,
         "Net Debt to EBITDA": -0.011914707589806825,
         "Current ratio": -0.5562185988290516,
         "Interest Coverage": 0.006253164283462255,
         "Income Quality": 0.01656250765361724,
         "Dividend Yield": 0.043713111511858596,
         "Payout Ratio": 0.014204720885544277,
         "SG&A to Revenue": -0.04264144037954987,
         "R&D to Revenue": -0.049405032272586184,
         "Intangibles to Total Assets": 2.4108429601269568,
         "Capex to Operating Cash Flow": -0.017947777813120618,
         "Capex to Revenue": -0.01421906645076441,
         "Capex to Depreciation": 0.038443046906436254,
         "Stock-based compensation to Revenue": -0.05867799600317405,
         "Graham Number": -0.018383423529656818,
         "ROIC": 0.10996588742873976,
         "Return on Tangible Assets": 0.05293514499199342,
         "Graham Net-Net": 0.06455956308589679,
         "Working Capital": -0.04937058271782857,
         "Tangible Asset Value": 0.6262117981661315,
         "Net Current Asset Value": -2.469429709078142,
         "Invested Capital": 1.2931422229851708,
         "Average Receivables": 0.8966835859314752,
         "Average Payables": 0.5063298970565617,
         "Average Inventory": -0.07051591552097855,
         "Days Sales Outstanding": -0.023118897621261483,
         "Days Payables Outstanding": -0.06381866106241801,
         "Days of Inventory on Hand": 0.018789800129593262,
         "Receivables Turnover": -0.04170101452627042,
         "Payables Turnover": -0.03349591745821058,
         "Inventory Turnover": -0.033073959591115094,
         "ROE": -0.015972902053279798,
         "Capex per Share": 0.036271058915422066,
         "Gross Profit Growth": -0.009411977720094965,
         "EBIT Growth": 0.008879354822430246,
         "Operating Income Growth": -0.024504684551190127,
         "Net Income Growth": -0.031140843945057575,
         "EPS Growth": -0.0788105613754064,
         "EPS Diluted Growth": -0.015534671307971395,
         "Weighted Average Shares Growth": -0.016242042409977186,
         "Weighted Average Shares Diluted Growth": -0.047311722764058144,
         "Dividends per Share Growth": 0.35638556524702225,
         "Operating Cash Flow growth": 0.019435535885923637,
         "Free Cash Flow growth": -0.022364274915767632,
         "10Y Revenue Growth (per Share)": 0.9334851940280378,
         "5Y Revenue Growth (per Share)": 0.30594351513688034,
         "3Y Revenue Growth (per Share)": 0.14579442090344402,
         "10Y Operating CF Growth (per Share)": 0.8602012731332928,
         "5Y Operating CF Growth (per Share)": 0.5592178099024272,
         "3Y Operating CF Growth (per Share)": 0.10633805914974744,
         "10Y Net Income Growth (per Share)": 1.7476213949339179,
         "5Y Net Income Growth (per Share)": 0.4884971147518909,
         "3Y Net Income Growth (per Share)": 0.18942155039365755,
         "10Y Shareholders Equity Growth (per Share)": 0.520894018912126,
         "5Y Shareholders Equity Growth (per Share)": 0.3769153282656049,
         "3Y Shareholders Equity Growth (per Share)": 0.22959646527420027,
         "10Y Dividend per Share Growth (per Share)": 1.573278469896694,
         "5Y Dividend per Share Growth (per Share)": 0.9141100537280115,
         "3Y Dividend per Share Growth (per Share)": 0.9919011405563896,
         "Receivables growth": -0.015782363994088403,
         "Inventory Growth": -0.04012863896490188,
         "Asset Growth": -0.03054915438229597,
         "Book Value per Share Growth": -0.03501220928486876,
         "Debt Growth": -0.02608683782533936,
         "R&D Expense Growth": -0.1150732897005042,
         "SG&A Expenses Growth": -0.02797031696386095,
         "Sector_Basic Materials": -0.2589505620499902,
         "Sector_Communication Services": -0.14381670364807744,
         "Sector_Consumer Cyclical": 2.771252766752467,
         "Sector_Consumer Defensive": -0.21322608984172894,
         "Sector_Energy": -0.24463352150831627,
         "Sector_Financial Services": -0.4805639437534556,
         "Sector_Healthcare": -0.4320952390339252,
         "Sector_Industrials": -0.38773765925481135,
         "Sector_Real Estate": -0.2482717638908374,
         "Sector_Technology": -0.4114961403007665,
         "Sector_Utilities": -0.15419540776632673,
         "_deepnote_index_column": 0
        },
        {
         "Revenue": 0.4427115228427919,
         "Revenue Growth": -0.01779586092994882,
         "Cost of Revenue": 0.28059619480782366,
         "Gross Profit": 0.6310624595989839,
         "R&D Expenses": -0.13005337680943954,
         "SG&A Expense": -0.08340735745837644,
         "Operating Expenses": 0.3005209627398638,
         "Operating Income": 1.0617936545094977,
         "Interest Expense": 4.9110391693062745,
         "Earnings before Tax": 0.6255939069754382,
         "Income Tax Expense": 0.6420103645230889,
         "Net Income - Non-Controlling int": 1.9724836417366998,
         "Net Income - Discontinued ops": 0.027999658641020775,
         "Net Income": 0.5580483577526469,
         "Preferred Dividends": 2.7619497376745867,
         "Net Income Com": 0.4975684457849945,
         "EPS": 0.012438849748972304,
         "EPS Diluted": 0.012758679197397031,
         "Weighted Average Shs Out": 0.9652617014916959,
         "Weighted Average Shs Out (Dil)": 0.9815265430360292,
         "Dividend per Share": 0.07941859198234741,
         "Gross Margin": -0.021858453179404706,
         "EBITDA Margin": 0.04770022098185559,
         "EBIT Margin": 0.050425124685785125,
         "Profit Margin": 0.04685657506163505,
         "Free Cash Flow margin": 0.05177248488253482,
         "EBITDA": 1.4343753340661076,
         "EBIT": 1.2589047672373548,
         "Consolidated Income": 0.688267374290997,
         "Earnings Before Tax Margin": 0.0477928637811003,
         "Net Profit Margin": 0.048672580124046225,
         "Cash and cash equivalents": 0.028798761838776096,
         "Short-term investments": -0.08433275222989976,
         "Cash and short-term investments": -0.0032899314746506997,
         "Receivables": 0.01570628427484625,
         "Inventories": -0.019209760691247444,
         "Total current assets": -0.0022300449400970857,
         "Property, Plant & Equipment Net": 3.2208472481079786,
         "Goodwill and Intangible Assets": 2.468648836157833,
         "Long-term investments": 0.13365381331733697,
         "Tax assets": 1.4074969100044374,
         "Total non-current assets": 3.477564230369991,
         "Total assets": 0.5187822500586181,
         "Payables": 0.07692940934732714,
         "Short-term debt": 0.4519641751917642,
         "Total current liabilities": -0.015764362012538766,
         "Long-term debt": 1.4692315615128075,
         "Total debt": 1.458988428367948,
         "Deferred revenue": -0.11447537841400175,
         "Tax Liabilities": 0.0716652564153896,
         "Deposit Liabilities": -0.08907549129185777,
         "Total non-current liabilities": 3.0264277000419946,
         "Total liabilities": 0.28512075763858086,
         "Other comprehensive income": -0.07684542416705754,
         "Retained earnings (deficit)": -0.7643017395214406,
         "Total shareholders equity": 2.1911889928687645,
         "Investments": -0.018351771360863363,
         "Net Debt": 1.541176777666476,
         "Other Assets": -0.02956878663903599,
         "Other Liabilities": -0.05662258138884988,
         "Depreciation & Amortization": 1.4654324354620987,
         "Stock-based compensation": -0.13926238160350743,
         "Operating Cash Flow": 0.4059410063428048,
         "Capital Expenditure": -1.565979272122263,
         "Acquisitions and disposals": 2.1895725107567254,
         "Investment purchases and sales": 0.03496181209516903,
         "Investing Cash flow": 0.13720075636480095,
         "Issuance (repayment) of debt": 0.04279391921344454,
         "Issuance (buybacks) of shares": -0.05655614538977569,
         "Dividend payments": -1.6615807506718776,
         "Financing Cash Flow": -0.15427921283383697,
         "Effect of forex changes on cash": 0.015815023538420778,
         "Net cash flow / Change in cash": 0.06671059402897227,
         "Free Cash Flow": 0.5392582736348741,
         "Net Cash/Marketcap": -0.044525696707067415,
         "priceBookValueRatio": -0.018626181584666297,
         "priceToBookRatio": -0.01861000546580701,
         "priceToSalesRatio": -0.0586854458721474,
         "priceEarningsRatio": -0.007216034916558685,
         "priceToFreeCashFlowsRatio": -0.057812031753315826,
         "priceToOperatingCashFlowsRatio": -0.019958929432725137,
         "priceCashFlowRatio": -0.025016755344588724,
         "priceEarningsToGrowthRatio": -0.12461256846987491,
         "priceSalesRatio": -0.05983024935039237,
         "dividendYield": -0.03230349129007861,
         "enterpriseValueMultiple": -0.04613761480473431,
         "priceFairValue": -0.01687667433655237,
         "ebitperRevenue": 0.052828127294254484,
         "ebtperEBIT": 0.01343714175860243,
         "niperEBT": -0.05875893409160816,
         "grossProfitMargin": -0.007361363887250557,
         "operatingProfitMargin": 0,
         "pretaxProfitMargin": 0.05640237547711705,
         "netProfitMargin": 0.05150086349076509,
         "effectiveTaxRate": 0.06210902347548425,
         "returnOnAssets": 0.008225669007304186,
         "returnOnEquity": -0.015973592149287612,
         "returnOnCapitalEmployed": 0.10603619342527697,
         "nIperEBT": -0.05875893409160816,
         "eBTperEBIT": 0.01343714175860243,
         "eBITperRevenue": 0.052828127294254484,
         "payablesTurnover": -0.03905378093207928,
         "inventoryTurnover": -0.009003084904167053,
         "fixedAssetTurnover": -0.03203431838004634,
         "assetTurnover": -0.6721453062995341,
         "currentRatio": -0.06282412775642919,
         "quickRatio": -0.05055774923379948,
         "cashRatio": -0.22066135371579634,
         "daysOfSalesOutstanding": 0.0185453120973601,
         "daysOfInventoryOutstanding": -0.017918859059182453,
         "operatingCycle": -1.1023718896373237e-14,
         "daysOfPayablesOutstanding": -0.06335068062616048,
         "cashConversionCycle": -3.1746816102860844e-18,
         "debtRatio": 0.42969873250396623,
         "debtEquityRatio": 0.02588224054870366,
         "longtermDebtToCapitalization": 0.18806843655598454,
         "totalDebtToCapitalization": 0.26633201338741985,
         "interestCoverage": 0.005747184317117281,
         "cashFlowToDebtRatio": -0.014895446784667919,
         "companyEquityMultiplier": -0.016847214372104534,
         "operatingCashFlowPerShare": -0.0204846226525227,
         "freeCashFlowPerShare": -0.009932224292262112,
         "cashPerShare": -0.027443932540533924,
         "payoutRatio": 0.1640679650171901,
         "operatingCashFlowSalesRatio": -0.0013243784039047588,
         "freeCashFlowOperatingCashFlowRatio": 0.022021425426279467,
         "cashFlowCoverageRatios": -0.014895446784667919,
         "shortTermCoverageRatios": -0.08606826698049931,
         "capitalExpenditureCoverageRatios": 0.07094924327111386,
         "dividendpaidAndCapexCoverageRatios": 0.07311119215271812,
         "dividendPayoutRatio": 0.011026378191448213,
         "Revenue per Share": -0.03625901758863429,
         "Net Income per Share": -0.03328130579376039,
         "Operating Cash Flow per Share": -0.0204846226525227,
         "Free Cash Flow per Share": -0.009932224292262112,
         "Cash per Share": -0.027443932540533924,
         "Book Value per Share": 0.015575634062978856,
         "Tangible Book Value per Share": -0.03022481032631022,
         "Shareholders Equity per Share": -0.03995442752851493,
         "Interest Debt per Share": -0.03603384258239844,
         "Market Cap": 0.021675513870351854,
         "Enterprise Value": 1.6757113102380885,
         "PE ratio": -0.007216034916558685,
         "Price to Sales Ratio": -0.0586854458721474,
         "POCF ratio": -0.019958929432725137,
         "PFCF ratio": -0.057812031753315826,
         "PB ratio": -0.018626181584666297,
         "PTB ratio": -0.01861000546580701,
         "EV to Sales": -0.03774442675757351,
         "Enterprise Value over EBITDA": -0.06352788370220373,
         "EV to Operating cash flow": -0.02049586280406072,
         "EV to Free cash flow": 0.07620936724530877,
         "Earnings Yield": -0.0014273333664208726,
         "Free Cash Flow Yield": 0.06526151608251493,
         "Debt to Equity": 0.02588224054870366,
         "Debt to Assets": 0.42969873250396623,
         "Net Debt to EBITDA": -0.007789955921485233,
         "Current ratio": -0.5644682521875357,
         "Interest Coverage": 0.005747184317117281,
         "Income Quality": 0.05803067509687558,
         "Dividend Yield": 0.23324981315173074,
         "Payout Ratio": 0.1640679650171901,
         "SG&A to Revenue": -0.059718042159679637,
         "R&D to Revenue": -0.049405032272586184,
         "Intangibles to Total Assets": 0.7262710033493873,
         "Capex to Operating Cash Flow": -0.01753955147246974,
         "Capex to Revenue": -0.002124979443538008,
         "Capex to Depreciation": 0.031028376948843472,
         "Stock-based compensation to Revenue": -0.05943637300778192,
         "Graham Number": -0.018970765535463587,
         "ROIC": 0.10603619342527697,
         "Return on Tangible Assets": 0.008225669007304186,
         "Graham Net-Net": 0.048279229789516966,
         "Working Capital": -0.03511450364974567,
         "Tangible Asset Value": 0.34810295748008196,
         "Net Current Asset Value": -0.48434964441100875,
         "Invested Capital": 0.5539674950757737,
         "Average Receivables": 0.04070706947601075,
         "Average Payables": 0.01799054651765227,
         "Average Inventory": -0.015625181471055658,
         "Days Sales Outstanding": -0.02318131663400702,
         "Days Payables Outstanding": -0.06335068062616048,
         "Days of Inventory on Hand": 0.0185453120973601,
         "Receivables Turnover": -0.0412737951978927,
         "Payables Turnover": -0.03905378093207928,
         "Inventory Turnover": -0.009003084904167053,
         "ROE": -0.015973592149287612,
         "Capex per Share": 0.03627413419132869,
         "Gross Profit Growth": -0.00967470416524775,
         "EBIT Growth": 0.008975459390537205,
         "Operating Income Growth": -0.02349787115974542,
         "Net Income Growth": 0.8556668001313007,
         "EPS Growth": 4.973412671892113,
         "EPS Diluted Growth": -0.015425316458744209,
         "Weighted Average Shares Growth": -0.016236011266342852,
         "Weighted Average Shares Diluted Growth": -0.04497624972222204,
         "Dividends per Share Growth": 0.13940235784134042,
         "Operating Cash Flow growth": 0.019267777898941612,
         "Free Cash Flow growth": -0.02007474013772161,
         "10Y Revenue Growth (per Share)": 2.7710350914747775e-17,
         "5Y Revenue Growth (per Share)": -0.6406823134981461,
         "3Y Revenue Growth (per Share)": -0.1403953458837922,
         "10Y Operating CF Growth (per Share)": -1.4927332012268451e-16,
         "5Y Operating CF Growth (per Share)": -0.8592893419887815,
         "3Y Operating CF Growth (per Share)": -0.31398228392148175,
         "10Y Net Income Growth (per Share)": -7.847921032780662e-17,
         "5Y Net Income Growth (per Share)": -0.7968049191507128,
         "3Y Net Income Growth (per Share)": 1.9445099430465322,
         "10Y Shareholders Equity Growth (per Share)": -1.0228176065540887e-16,
         "5Y Shareholders Equity Growth (per Share)": 0.046105839343135196,
         "3Y Shareholders Equity Growth (per Share)": -0.13839454115333888,
         "10Y Dividend per Share Growth (per Share)": 0.17125488738743425,
         "5Y Dividend per Share Growth (per Share)": -0.6128587396507109,
         "3Y Dividend per Share Growth (per Share)": -1.2341579959785878,
         "Receivables growth": -0.015878541189366022,
         "Inventory Growth": -0.060295380856823,
         "Asset Growth": -0.040621143381112265,
         "Book Value per Share Growth": -0.04689574989988428,
         "Debt Growth": -0.028198733625971945,
         "R&D Expense Growth": -0.1150732897005042,
         "SG&A Expenses Growth": -0.34348288765622886,
         "Sector_Basic Materials": -0.2589505620499902,
         "Sector_Communication Services": -0.14381670364807744,
         "Sector_Consumer Cyclical": -0.3608476325210366,
         "Sector_Consumer Defensive": -0.21322608984172894,
         "Sector_Energy": 4.087747230364768,
         "Sector_Financial Services": -0.4805639437534556,
         "Sector_Healthcare": -0.4320952390339252,
         "Sector_Industrials": -0.38773765925481135,
         "Sector_Real Estate": -0.2482717638908374,
         "Sector_Technology": -0.4114961403007665,
         "Sector_Utilities": -0.15419540776632673,
         "_deepnote_index_column": 1
        }
       ],
       "rows_bottom": [
        {
         "Revenue": -0.2511290434450942,
         "Revenue Growth": -0.01796221248125366,
         "Cost of Revenue": -0.21299747203627153,
         "Gross Profit": -0.2680486447929828,
         "R&D Expenses": -0.1186840522317535,
         "SG&A Expense": -0.24951868525609003,
         "Operating Expenses": -0.26217068018184886,
         "Operating Income": -0.2268299312962398,
         "Interest Expense": -0.27066773437056574,
         "Earnings before Tax": -0.21970129465124744,
         "Income Tax Expense": -0.16985276653591316,
         "Net Income - Non-Controlling int": -0.10181661764333191,
         "Net Income - Discontinued ops": 0.027999658641020775,
         "Net Income": -0.22288426322714194,
         "Preferred Dividends": -0.10288159646087658,
         "Net Income Com": -0.22407217037892746,
         "EPS": 0.012290846813549217,
         "EPS Diluted": 0.012610011273256273,
         "Weighted Average Shs Out": -0.08559995937029705,
         "Weighted Average Shs Out (Dil)": -0.08650502862753254,
         "Dividend per Share": -0.4345752544755599,
         "Gross Margin": -0.8579280333465467,
         "EBITDA Margin": -5.0459538375128744e-18,
         "EBIT Margin": 0.04755793698917091,
         "Profit Margin": 0,
         "Free Cash Flow margin": 0.050148032779098524,
         "EBITDA": -0.2649033762472086,
         "EBIT": -0.251289985320076,
         "Consolidated Income": -0.2262686101813214,
         "Earnings Before Tax Margin": 0.046261608341397586,
         "Net Profit Margin": 0.04754997839867455,
         "Cash and cash equivalents": -0.08050321640393783,
         "Short-term investments": -0.08433275222989976,
         "Cash and short-term investments": -0.10017320149967926,
         "Receivables": -0.07569470678417702,
         "Inventories": -0.046358194766521456,
         "Total current assets": -0.12417009382869433,
         "Property, Plant & Equipment Net": -0.23685843454670055,
         "Goodwill and Intangible Assets": -0.20824738566599804,
         "Long-term investments": -0.08906855658796796,
         "Tax assets": -0.1331186594903551,
         "Total non-current assets": -0.3142942935269977,
         "Total assets": -0.16859009886664283,
         "Payables": -0.1448009116468339,
         "Short-term debt": -0.1175989124157871,
         "Total current liabilities": -0.10561096323828588,
         "Long-term debt": -0.1706484519957851,
         "Total debt": -0.18881687246185835,
         "Deferred revenue": -0.11447537841400175,
         "Tax Liabilities": -0.18457374423584413,
         "Deposit Liabilities": -0.08907549129185777,
         "Total non-current liabilities": -0.3171536178702066,
         "Total liabilities": -0.14799388679508652,
         "Other comprehensive income": 0.084198210313113,
         "Retained earnings (deficit)": -0.17266442622767306,
         "Total shareholders equity": -0.25966080132123875,
         "Investments": -0.11038139890863365,
         "Net Debt": -0.059624286256217233,
         "Other Assets": -0.049634547549625346,
         "Other Liabilities": -0.09279317339945677,
         "Depreciation & Amortization": -0.23145426105979083,
         "Stock-based compensation": -0.11815761918883563,
         "Operating Cash Flow": -0.09245002723075761,
         "Capital Expenditure": 0.22379730323083694,
         "Acquisitions and disposals": 0.09518399621125224,
         "Investment purchases and sales": 0.050051316819511395,
         "Investing Cash flow": 0.15206775597416877,
         "Issuance (repayment) of debt": -0.005967629207889102,
         "Issuance (buybacks) of shares": 0.12115533061331826,
         "Dividend payments": 0.2364143507971227,
         "Financing Cash Flow": 0.02218964216635016,
         "Effect of forex changes on cash": 0.024429684072018263,
         "Net cash flow / Change in cash": -0.011660014615388346,
         "Free Cash Flow": -0.17327522772156226,
         "Net Cash/Marketcap": 0.06366743397262302,
         "priceBookValueRatio": -0.018607044560009386,
         "priceToBookRatio": -0.018592563079984633,
         "priceToSalesRatio": -0.0655466403832912,
         "priceEarningsRatio": -0.2347087857789585,
         "priceToFreeCashFlowsRatio": -0.15185744849578078,
         "priceToOperatingCashFlowsRatio": -0.022001532816897356,
         "priceCashFlowRatio": 0,
         "priceEarningsToGrowthRatio": 0,
         "priceSalesRatio": 1.0465777607044754e-17,
         "dividendYield": -0.03973849900766561,
         "enterpriseValueMultiple": -1.0458343124671073e-17,
         "priceFairValue": -0.016855281591786227,
         "ebitperRevenue": -1.7516479536445852e-17,
         "ebtperEBIT": 0,
         "niperEBT": 4.217475706749372e-17,
         "grossProfitMargin": 0,
         "operatingProfitMargin": 0,
         "pretaxProfitMargin": 0,
         "netProfitMargin": 8.771439242584129e-18,
         "effectiveTaxRate": 5.123194069251046e-18,
         "returnOnAssets": -1.3063573579642405,
         "returnOnEquity": -0.016000958620369966,
         "returnOnCapitalEmployed": -1.1414574482677522,
         "nIperEBT": 4.217475706749372e-17,
         "eBTperEBIT": 0,
         "eBITperRevenue": -1.7516479536445852e-17,
         "payablesTurnover": -0.05889937913835444,
         "inventoryTurnover": -0.033073959591115094,
         "fixedAssetTurnover": -0.03222661996705388,
         "assetTurnover": -0.9151109633878103,
         "currentRatio": -0.047306209096207336,
         "quickRatio": -0.04752064608908308,
         "cashRatio": -0.12846287702493803,
         "daysOfSalesOutstanding": 0.018789800129593262,
         "daysOfInventoryOutstanding": -0.018573215876252876,
         "operatingCycle": -1.1023718896373237e-14,
         "daysOfPayablesOutstanding": -0.07286263455842514,
         "cashConversionCycle": -3.1746816102860844e-18,
         "debtRatio": -0.5648925600154168,
         "debtEquityRatio": -0.05983102053133711,
         "longtermDebtToCapitalization": -0.5121280748184853,
         "totalDebtToCapitalization": -0.8146378095034562,
         "interestCoverage": 0.005399320050192186,
         "cashFlowToDebtRatio": 5.2802362359594425e-18,
         "companyEquityMultiplier": -0.016852461056712075,
         "operatingCashFlowPerShare": -0.020487177390755194,
         "freeCashFlowPerShare": -0.009951271926374034,
         "cashPerShare": -0.027444393322932647,
         "payoutRatio": -0.05829668641057627,
         "operatingCashFlowSalesRatio": 1.7324646197309823e-18,
         "freeCashFlowOperatingCashFlowRatio": -2.4829961972621426e-18,
         "cashFlowCoverageRatios": 5.2802362359594425e-18,
         "shortTermCoverageRatios": 1.6464554978285442e-17,
         "capitalExpenditureCoverageRatios": 0.04216120063106937,
         "dividendpaidAndCapexCoverageRatios": 0.04514100146417077,
         "dividendPayoutRatio": 0,
         "Revenue per Share": -0.03626053153323728,
         "Net Income per Share": -0.03328314198976832,
         "Operating Cash Flow per Share": -0.020487177390755194,
         "Free Cash Flow per Share": -0.009951271926374034,
         "Cash per Share": -0.027444393322932647,
         "Book Value per Share": 0.012811005706449738,
         "Tangible Book Value per Share": -0.038541764793644524,
         "Shareholders Equity per Share": -0.039957261502365886,
         "Interest Debt per Share": -0.03603555233854014,
         "Market Cap": -0.028627223918140526,
         "Enterprise Value": -0.2570032386609332,
         "PE ratio": -0.2347087857789585,
         "Price to Sales Ratio": -0.0655466403832912,
         "POCF ratio": -0.022001532816897356,
         "PFCF ratio": -0.15185744849578078,
         "PB ratio": -0.018607044560009386,
         "PTB ratio": -0.018592563079984633,
         "EV to Sales": -0.0768319747411578,
         "Enterprise Value over EBITDA": -0.13321137642220537,
         "EV to Operating cash flow": -0.02356253038516547,
         "EV to Free cash flow": -0.08384605598956416,
         "Earnings Yield": -0.002204114671082099,
         "Free Cash Flow Yield": -0.01011113309461824,
         "Debt to Equity": -0.05983102053133711,
         "Debt to Assets": -0.5648925600154168,
         "Net Debt to EBITDA": -0.020921544867513225,
         "Current ratio": -0.35987684889712673,
         "Interest Coverage": 0.005399320050192186,
         "Income Quality": -0.02701031151458945,
         "Dividend Yield": -0.20868972384024836,
         "Payout Ratio": -0.05829668641057627,
         "SG&A to Revenue": -0.06084604274353963,
         "R&D to Revenue": -0.049405032272586184,
         "Intangibles to Total Assets": -0.7749657718073756,
         "Capex to Operating Cash Flow": -0.020777439739355908,
         "Capex to Revenue": -0.03484550018167541,
         "Capex to Depreciation": -0.0763667425037025,
         "Stock-based compensation to Revenue": -0.05943637300778192,
         "Graham Number": -0.019547039907610923,
         "ROIC": -1.1414574482677522,
         "Return on Tangible Assets": -1.3063573579642405,
         "Graham Net-Net": 0.22820635417746477,
         "Working Capital": -0.02843565993298857,
         "Tangible Asset Value": -0.1519650631348307,
         "Net Current Asset Value": 0.1466301100362076,
         "Invested Capital": -0.15548564193762435,
         "Average Receivables": -0.10769433627174282,
         "Average Payables": -0.08461999876795165,
         "Average Inventory": -0.07051591552097855,
         "Days Sales Outstanding": -0.02375203891771985,
         "Days Payables Outstanding": -0.07286263455842514,
         "Days of Inventory on Hand": 0.018789800129593262,
         "Receivables Turnover": -0.07487121890754542,
         "Payables Turnover": -0.05889937913835444,
         "Inventory Turnover": -0.033073959591115094,
         "ROE": -0.016000958620369966,
         "Capex per Share": 0.03627704580143744,
         "Gross Profit Growth": -0.009943629237963124,
         "EBIT Growth": 0.0032367179641719086,
         "Operating Income Growth": -0.0803252240251197,
         "Net Income Growth": -0.040610196529501805,
         "EPS Growth": -0.1197098788281601,
         "EPS Diluted Growth": -0.015535560947588952,
         "Weighted Average Shares Growth": -0.01621360987570104,
         "Weighted Average Shares Diluted Growth": -0.03769961057534427,
         "Dividends per Share Growth": -0.060398017302013045,
         "Operating Cash Flow growth": 0.016869233832391344,
         "Free Cash Flow growth": -0.03674069380126474,
         "10Y Revenue Growth (per Share)": 2.7710350914747775e-17,
         "5Y Revenue Growth (per Share)": 2.6316250767615037e-17,
         "3Y Revenue Growth (per Share)": 0,
         "10Y Operating CF Growth (per Share)": -1.4927332012268451e-16,
         "5Y Operating CF Growth (per Share)": 0,
         "3Y Operating CF Growth (per Share)": 0,
         "10Y Net Income Growth (per Share)": -7.847921032780662e-17,
         "5Y Net Income Growth (per Share)": 3.8048525800880283e-17,
         "3Y Net Income Growth (per Share)": -3.547443096008555e-17,
         "10Y Shareholders Equity Growth (per Share)": -1.0228176065540887e-16,
         "5Y Shareholders Equity Growth (per Share)": -1.7849548569508484e-17,
         "3Y Shareholders Equity Growth (per Share)": 0,
         "10Y Dividend per Share Growth (per Share)": -1.9015818783830482e-17,
         "5Y Dividend per Share Growth (per Share)": -8.061073076561315e-18,
         "3Y Dividend per Share Growth (per Share)": -3.761540077011382e-18,
         "Receivables growth": -0.015505287220277358,
         "Inventory Growth": -0.04012863896490188,
         "Asset Growth": -0.03597343135615124,
         "Book Value per Share Growth": -0.08876407565805042,
         "Debt Growth": -0.028159876558460976,
         "R&D Expense Growth": 3.328581421386631,
         "SG&A Expenses Growth": -0.009699281972348007,
         "Sector_Basic Materials": -0.2589505620499902,
         "Sector_Communication Services": -0.14381670364807744,
         "Sector_Consumer Cyclical": -0.3608476325210366,
         "Sector_Consumer Defensive": -0.21322608984172894,
         "Sector_Energy": -0.24463352150831627,
         "Sector_Financial Services": -0.4805639437534556,
         "Sector_Healthcare": -0.4320952390339252,
         "Sector_Industrials": 2.57906338507817,
         "Sector_Real Estate": -0.2482717638908374,
         "Sector_Technology": -0.4114961403007665,
         "Sector_Utilities": -0.15419540776632673,
         "_deepnote_index_column": 4390
        },
        {
         "Revenue": -0.2485281714863825,
         "Revenue Growth": -0.017835889271981546,
         "Cost of Revenue": -0.21299747203627153,
         "Gross Profit": -0.2610956150899843,
         "R&D Expenses": -0.06758858692393965,
         "SG&A Expense": -0.24257443990855557,
         "Operating Expenses": -0.24932960352022893,
         "Operating Income": -0.23240232090436425,
         "Interest Expense": -0.2702190315296631,
         "Earnings before Tax": -0.22647745954037135,
         "Income Tax Expense": -0.16685011771559102,
         "Net Income - Non-Controlling int": -0.10181661764333191,
         "Net Income - Discontinued ops": 0.027999658641020775,
         "Net Income": -0.23244786742914883,
         "Preferred Dividends": -0.10288159646087658,
         "Net Income Com": -0.23366497874421305,
         "EPS": 0.012100557325148106,
         "EPS Diluted": 0.012418866799361014,
         "Weighted Average Shs Out": -0.11685853265492269,
         "Weighted Average Shs Out (Dil)": -0.11888494625160512,
         "Dividend per Share": -0.4345752544755599,
         "Gross Margin": 0.8669937330391391,
         "EBITDA Margin": 0.04184854485760003,
         "EBIT Margin": 0.04119451560198103,
         "Profit Margin": 0.04240669712154366,
         "Free Cash Flow margin": 0.05492921390329788,
         "EBITDA": -0.26864414480255555,
         "EBIT": -0.2577157404206089,
         "Consolidated Income": -0.23567469619114498,
         "Earnings Before Tax Margin": 0.03986740903265834,
         "Net Profit Margin": 0.04074827462324601,
         "Cash and cash equivalents": -0.07916064929268943,
         "Short-term investments": -0.07480084917534063,
         "Cash and short-term investments": -0.09431468603752137,
         "Receivables": -0.07561530216610082,
         "Inventories": -0.046358194766521456,
         "Total current assets": -0.11989423410152597,
         "Property, Plant & Equipment Net": -0.23633225406509306,
         "Goodwill and Intangible Assets": -0.20678024299139378,
         "Long-term investments": -0.08906855658796796,
         "Tax assets": -0.13303602110731708,
         "Total non-current assets": -0.3123335338511774,
         "Total assets": -0.16651273182626275,
         "Payables": -0.1429690053403945,
         "Short-term debt": -0.1175989124157871,
         "Total current liabilities": -0.10528260563903614,
         "Long-term debt": -0.1706484519957851,
         "Total debt": -0.18881687246185835,
         "Deferred revenue": -0.0853020906898949,
         "Tax Liabilities": -0.18457374423584413,
         "Deposit Liabilities": -0.08907549129185777,
         "Total non-current liabilities": -0.3140160475301509,
         "Total liabilities": -0.14738392375285986,
         "Other comprehensive income": 0.0809485449737086,
         "Retained earnings (deficit)": -0.18136514737429688,
         "Total shareholders equity": -0.24679073221087777,
         "Investments": -0.10843822180158669,
         "Net Debt": -0.06894453893283192,
         "Other Assets": -0.049599144940297005,
         "Other Liabilities": -0.09258137363698789,
         "Depreciation & Amortization": -0.22892441518156353,
         "Stock-based compensation": -0.08913494445197416,
         "Operating Cash Flow": -0.08896666472048578,
         "Capital Expenditure": 0.22368465138735272,
         "Acquisitions and disposals": 0.09518399621125224,
         "Investment purchases and sales": 0.027914594235992133,
         "Investing Cash flow": 0.1281443333553941,
         "Issuance (repayment) of debt": -0.009653492375047342,
         "Issuance (buybacks) of shares": 0.17912069977170758,
         "Dividend payments": 0.2364143507971227,
         "Financing Cash Flow": 0.029999005885104856,
         "Effect of forex changes on cash": 0.02441180570118484,
         "Net cash flow / Change in cash": -0.01145755538577741,
         "Free Cash Flow": -0.16152415080911012,
         "Net Cash/Marketcap": 0.10716754605266728,
         "priceBookValueRatio": -0.018625218701664455,
         "priceToBookRatio": -0.018610678127258178,
         "priceToSalesRatio": -0.040242072435404314,
         "priceEarningsRatio": -0.2347087857789585,
         "priceToFreeCashFlowsRatio": -0.04503076611930972,
         "priceToOperatingCashFlowsRatio": -0.01845239863636436,
         "priceCashFlowRatio": -0.023696978179550236,
         "priceEarningsToGrowthRatio": 0,
         "priceSalesRatio": -0.043036028270456994,
         "dividendYield": -0.03973849900766561,
         "enterpriseValueMultiple": -1.0458343124671073e-17,
         "priceFairValue": -0.016875706172855574,
         "ebitperRevenue": 0.043596303938426235,
         "ebtperEBIT": 0,
         "niperEBT": 4.217475706749372e-17,
         "grossProfitMargin": 0.3470570842020763,
         "operatingProfitMargin": 0,
         "pretaxProfitMargin": 0.04811492257229206,
         "netProfitMargin": 0.04356818522792567,
         "effectiveTaxRate": 5.123194069251046e-18,
         "returnOnAssets": -0.03440992328269517,
         "returnOnEquity": -0.015975081209897577,
         "returnOnCapitalEmployed": -0.19904723790605958,
         "nIperEBT": 4.217475706749372e-17,
         "eBTperEBIT": 0,
         "eBITperRevenue": 0.043596303938426235,
         "payablesTurnover": -0.04080101977160796,
         "inventoryTurnover": -0.033073959591115094,
         "fixedAssetTurnover": -0.028013498518245375,
         "assetTurnover": -0.6211710637153233,
         "currentRatio": 0.045479502708575426,
         "quickRatio": 0.038876432329709706,
         "cashRatio": 0.014045379347060575,
         "daysOfSalesOutstanding": 0.018789800129593262,
         "daysOfInventoryOutstanding": -0.01841531501647757,
         "operatingCycle": -1.1023718896373237e-14,
         "daysOfPayablesOutstanding": -0.04742473432764778,
         "cashConversionCycle": -3.1746816102860844e-18,
         "debtRatio": -0.5648925600154168,
         "debtEquityRatio": -0.05983102053133711,
         "longtermDebtToCapitalization": -0.5121280748184853,
         "totalDebtToCapitalization": -0.8146378095034562,
         "interestCoverage": -0.028023310093813984,
         "cashFlowToDebtRatio": 5.2802362359594425e-18,
         "companyEquityMultiplier": -0.016854705349421805,
         "operatingCashFlowPerShare": -0.020486163602355962,
         "freeCashFlowPerShare": -0.009934908917217813,
         "cashPerShare": -0.027443941792178055,
         "payoutRatio": -0.05829668641057627,
         "operatingCashFlowSalesRatio": -0.001300127944578308,
         "freeCashFlowOperatingCashFlowRatio": 0.025077582237990892,
         "cashFlowCoverageRatios": 5.2802362359594425e-18,
         "shortTermCoverageRatios": 1.6464554978285442e-17,
         "capitalExpenditureCoverageRatios": 0.11235604256106649,
         "dividendpaidAndCapexCoverageRatios": 0.11553323620287972,
         "dividendPayoutRatio": 0,
         "Revenue per Share": -0.03626009922160844,
         "Net Income per Share": -0.033285331901738414,
         "Operating Cash Flow per Share": -0.020486163602355962,
         "Free Cash Flow per Share": -0.009934908917217813,
         "Cash per Share": -0.027443941792178055,
         "Book Value per Share": 0.013935532287778225,
         "Tangible Book Value per Share": -0.03585040188548518,
         "Shareholders Equity per Share": -0.039956108832213094,
         "Interest Debt per Share": -0.03603555233854014,
         "Market Cap": -0.02810278396162093,
         "Enterprise Value": -0.2526052482393389,
         "PE ratio": -0.2347087857789585,
         "Price to Sales Ratio": -0.040242072435404314,
         "POCF ratio": -0.01845239863636436,
         "PFCF ratio": -0.04503076611930972,
         "PB ratio": -0.018625218701664455,
         "PTB ratio": -0.018610678127258178,
         "EV to Sales": -0.035557807457251914,
         "Enterprise Value over EBITDA": -0.13321137642220537,
         "EV to Operating cash flow": -0.02079918512009547,
         "EV to Free cash flow": -0.0025062766726809366,
         "Earnings Yield": -0.001955725300405544,
         "Free Cash Flow Yield": 0.05944586770754936,
         "Debt to Equity": -0.05983102053133711,
         "Debt to Assets": -0.5648925600154168,
         "Net Debt to EBITDA": -0.004673128489917554,
         "Current ratio": 0.8634288919752497,
         "Interest Coverage": -0.028023310093813984,
         "Income Quality": -0.06838832400951174,
         "Dividend Yield": -0.20868972384024836,
         "Payout Ratio": -0.05829668641057627,
         "SG&A to Revenue": -0.046099757463713545,
         "R&D to Revenue": -0.034528626581944284,
         "Intangibles to Total Assets": -0.517720595501741,
         "Capex to Operating Cash Flow": -0.02059203461610544,
         "Capex to Revenue": -0.032455176702498464,
         "Capex to Depreciation": 0.09612645592543857,
         "Stock-based compensation to Revenue": -0.03733883614938027,
         "Graham Number": -0.019547039907610923,
         "ROIC": -0.19904723790605958,
         "Return on Tangible Assets": -0.03440992328269517,
         "Graham Net-Net": 0.273832664598502,
         "Working Capital": -0.027806870250240166,
         "Tangible Asset Value": -0.14988468551469394,
         "Net Current Asset Value": 0.14894149300503468,
         "Invested Capital": -0.15410352096897556,
         "Average Receivables": -0.10751283071317594,
         "Average Payables": -0.0838812250294565,
         "Average Inventory": -0.07051591552097855,
         "Days Sales Outstanding": -0.02361431965364212,
         "Days Payables Outstanding": -0.04742473432764778,
         "Days of Inventory on Hand": 0.018789800129593262,
         "Receivables Turnover": 0.025812585397664102,
         "Payables Turnover": -0.04080101977160796,
         "Inventory Turnover": -0.033073959591115094,
         "ROE": -0.015975081209897577,
         "Capex per Share": 0.03627699922986894,
         "Gross Profit Growth": -0.009827762584293201,
         "EBIT Growth": -0.0046734672172587385,
         "Operating Income Growth": -0.16158157644311014,
         "Net Income Growth": -0.06425583255904815,
         "EPS Growth": -0.15602538598526555,
         "EPS Diluted Growth": -0.015535508832012409,
         "Weighted Average Shares Growth": -0.016124509384275593,
         "Weighted Average Shares Diluted Growth": -0.009201049035914472,
         "Dividends per Share Growth": -0.060398017302013045,
         "Operating Cash Flow growth": 0.4119048075931516,
         "Free Cash Flow growth": 0.20622892076640098,
         "10Y Revenue Growth (per Share)": 2.7710350914747775e-17,
         "5Y Revenue Growth (per Share)": 2.6316250767615037e-17,
         "3Y Revenue Growth (per Share)": 0.5595997732110002,
         "10Y Operating CF Growth (per Share)": -1.4927332012268451e-16,
         "5Y Operating CF Growth (per Share)": 0,
         "3Y Operating CF Growth (per Share)": -0.24220398863926232,
         "10Y Net Income Growth (per Share)": -7.847921032780662e-17,
         "5Y Net Income Growth (per Share)": 3.8048525800880283e-17,
         "3Y Net Income Growth (per Share)": -0.21420276827789644,
         "10Y Shareholders Equity Growth (per Share)": -1.0228176065540887e-16,
         "5Y Shareholders Equity Growth (per Share)": -1.7849548569508484e-17,
         "3Y Shareholders Equity Growth (per Share)": 1.221399855854887,
         "10Y Dividend per Share Growth (per Share)": -1.9015818783830482e-17,
         "5Y Dividend per Share Growth (per Share)": -8.061073076561315e-18,
         "3Y Dividend per Share Growth (per Share)": -0.026370211982890867,
         "Receivables growth": -0.01607435363638069,
         "Inventory Growth": -0.04012863896490188,
         "Asset Growth": -0.01568056308636224,
         "Book Value per Share Growth": -0.023919678339273776,
         "Debt Growth": -0.028159876558460976,
         "R&D Expense Growth": 0.3328685591506789,
         "SG&A Expenses Growth": 0.5326684211649793,
         "Sector_Basic Materials": -0.2589505620499902,
         "Sector_Communication Services": -0.14381670364807744,
         "Sector_Consumer Cyclical": -0.3608476325210366,
         "Sector_Consumer Defensive": -0.21322608984172894,
         "Sector_Energy": -0.24463352150831627,
         "Sector_Financial Services": -0.4805639437534556,
         "Sector_Healthcare": 2.314304601540604,
         "Sector_Industrials": -0.38773765925481135,
         "Sector_Real Estate": -0.2482717638908374,
         "Sector_Technology": -0.4114961403007665,
         "Sector_Utilities": -0.15419540776632673,
         "_deepnote_index_column": 4391
        }
       ]
      },
      "text/plain": "       Revenue  Revenue Growth  Cost of Revenue  Gross Profit  R&D Expenses  \\\n0     4.384956       -0.017383        -0.212997     12.125810     -0.130053   \n1     0.442712       -0.017796         0.280596      0.631062     -0.130053   \n2     3.224353       -0.017292         1.623147      5.467719     14.794099   \n3     1.239716       -0.015386         0.633589      2.078217      2.229292   \n4     5.714752       -0.017814         6.252280      3.161845     -0.130053   \n...        ...             ...              ...           ...           ...   \n4387 -0.251129       -0.017962        -0.212997     -0.268049     -0.130053   \n4388 -0.251102       -0.020099        -0.212997     -0.267976     -0.124809   \n4389 -0.248437       -0.016813        -0.210519     -0.265650     -0.128232   \n4390 -0.251129       -0.017962        -0.212997     -0.268049     -0.118684   \n4391 -0.248528       -0.017836        -0.212997     -0.261096     -0.067589   \n\n      SG&A Expense  Operating Expenses  Operating Income  Interest Expense  \\\n0        17.801282           13.684570          6.206957          9.303462   \n1        -0.083407            0.300521          1.061794          4.911039   \n2         1.629007            3.507955          7.663428         -0.611249   \n3        -0.024368            0.270034          4.849229          0.653768   \n4         4.792893            7.256952         -5.143851         13.403957   \n...            ...                 ...               ...               ...   \n4387     -0.249732           -0.264553         -0.222470         -0.240776   \n4388     -0.249366           -0.263431         -0.224336         -0.270668   \n4389     -0.248823           -0.263644         -0.217948         -0.267318   \n4390     -0.249519           -0.262171         -0.226830         -0.270668   \n4391     -0.242574           -0.249330         -0.232402         -0.270219   \n\n      Earnings before Tax  ...  Sector_Communication Services  \\\n0                5.559496  ...                      -0.143817   \n1                0.625594  ...                      -0.143817   \n2                8.694425  ...                      -0.143817   \n3                5.250817  ...                      -0.143817   \n4               -8.530873  ...                      -0.143817   \n...                   ...  ...                            ...   \n4387            -0.219005  ...                      -0.143817   \n4388            -0.216845  ...                      -0.143817   \n4389            -0.210126  ...                      -0.143817   \n4390            -0.219701  ...                      -0.143817   \n4391            -0.226477  ...                      -0.143817   \n\n      Sector_Consumer Cyclical  Sector_Consumer Defensive  Sector_Energy  \\\n0                     2.771253                  -0.213226      -0.244634   \n1                    -0.360848                  -0.213226       4.087747   \n2                    -0.360848                  -0.213226      -0.244634   \n3                    -0.360848                  -0.213226      -0.244634   \n4                    -0.360848                  -0.213226      -0.244634   \n...                        ...                        ...            ...   \n4387                 -0.360848                  -0.213226      -0.244634   \n4388                 -0.360848                  -0.213226      -0.244634   \n4389                 -0.360848                  -0.213226      -0.244634   \n4390                 -0.360848                  -0.213226      -0.244634   \n4391                 -0.360848                  -0.213226      -0.244634   \n\n      Sector_Financial Services  Sector_Healthcare  Sector_Industrials  \\\n0                     -0.480564          -0.432095           -0.387738   \n1                     -0.480564          -0.432095           -0.387738   \n2                     -0.480564          -0.432095           -0.387738   \n3                     -0.480564          -0.432095           -0.387738   \n4                     -0.480564          -0.432095            2.579063   \n...                         ...                ...                 ...   \n4387                  -0.480564          -0.432095           -0.387738   \n4388                  -0.480564          -0.432095           -0.387738   \n4389                  -0.480564          -0.432095           -0.387738   \n4390                  -0.480564          -0.432095            2.579063   \n4391                  -0.480564           2.314305           -0.387738   \n\n      Sector_Real Estate  Sector_Technology  Sector_Utilities  \n0              -0.248272          -0.411496         -0.154195  \n1              -0.248272          -0.411496         -0.154195  \n2              -0.248272           2.430156         -0.154195  \n3              -0.248272           2.430156         -0.154195  \n4              -0.248272          -0.411496         -0.154195  \n...                  ...                ...               ...  \n4387            4.027844          -0.411496         -0.154195  \n4388           -0.248272          -0.411496         -0.154195  \n4389           -0.248272          -0.411496         -0.154195  \n4390           -0.248272          -0.411496         -0.154195  \n4391           -0.248272          -0.411496         -0.154195  \n\n[4392 rows x 232 columns]",
      "text/html": "<div>\n<style scoped>\n    .dataframe tbody tr th:only-of-type {\n        vertical-align: middle;\n    }\n\n    .dataframe tbody tr th {\n        vertical-align: top;\n    }\n\n    .dataframe thead th {\n        text-align: right;\n    }\n</style>\n<table border=\"1\" class=\"dataframe\">\n  <thead>\n    <tr style=\"text-align: right;\">\n      <th></th>\n      <th>Revenue</th>\n      <th>Revenue Growth</th>\n      <th>Cost of Revenue</th>\n      <th>Gross Profit</th>\n      <th>R&amp;D Expenses</th>\n      <th>SG&amp;A Expense</th>\n      <th>Operating Expenses</th>\n      <th>Operating Income</th>\n      <th>Interest Expense</th>\n      <th>Earnings before Tax</th>\n      <th>...</th>\n      <th>Sector_Communication Services</th>\n      <th>Sector_Consumer Cyclical</th>\n      <th>Sector_Consumer Defensive</th>\n      <th>Sector_Energy</th>\n      <th>Sector_Financial Services</th>\n      <th>Sector_Healthcare</th>\n      <th>Sector_Industrials</th>\n      <th>Sector_Real Estate</th>\n      <th>Sector_Technology</th>\n      <th>Sector_Utilities</th>\n    </tr>\n  </thead>\n  <tbody>\n    <tr>\n      <th>0</th>\n      <td>4.384956</td>\n      <td>-0.017383</td>\n      <td>-0.212997</td>\n      <td>12.125810</td>\n      <td>-0.130053</td>\n      <td>17.801282</td>\n      <td>13.684570</td>\n      <td>6.206957</td>\n      <td>9.303462</td>\n      <td>5.559496</td>\n      <td>...</td>\n      <td>-0.143817</td>\n      <td>2.771253</td>\n      <td>-0.213226</td>\n      <td>-0.244634</td>\n      <td>-0.480564</td>\n      <td>-0.432095</td>\n      <td>-0.387738</td>\n      <td>-0.248272</td>\n      <td>-0.411496</td>\n      <td>-0.154195</td>\n    </tr>\n    <tr>\n      <th>1</th>\n      <td>0.442712</td>\n      <td>-0.017796</td>\n      <td>0.280596</td>\n      <td>0.631062</td>\n      <td>-0.130053</td>\n      <td>-0.083407</td>\n      <td>0.300521</td>\n      <td>1.061794</td>\n      <td>4.911039</td>\n      <td>0.625594</td>\n      <td>...</td>\n      <td>-0.143817</td>\n      <td>-0.360848</td>\n      <td>-0.213226</td>\n      <td>4.087747</td>\n      <td>-0.480564</td>\n      <td>-0.432095</td>\n      <td>-0.387738</td>\n      <td>-0.248272</td>\n      <td>-0.411496</td>\n      <td>-0.154195</td>\n    </tr>\n    <tr>\n      <th>2</th>\n      <td>3.224353</td>\n      <td>-0.017292</td>\n      <td>1.623147</td>\n      <td>5.467719</td>\n      <td>14.794099</td>\n      <td>1.629007</td>\n      <td>3.507955</td>\n      <td>7.663428</td>\n      <td>-0.611249</td>\n      <td>8.694425</td>\n      <td>...</td>\n      <td>-0.143817</td>\n      <td>-0.360848</td>\n      <td>-0.213226</td>\n      <td>-0.244634</td>\n      <td>-0.480564</td>\n      <td>-0.432095</td>\n      <td>-0.387738</td>\n      <td>-0.248272</td>\n      <td>2.430156</td>\n      <td>-0.154195</td>\n    </tr>\n    <tr>\n      <th>3</th>\n      <td>1.239716</td>\n      <td>-0.015386</td>\n      <td>0.633589</td>\n      <td>2.078217</td>\n      <td>2.229292</td>\n      <td>-0.024368</td>\n      <td>0.270034</td>\n      <td>4.849229</td>\n      <td>0.653768</td>\n      <td>5.250817</td>\n      <td>...</td>\n      <td>-0.143817</td>\n      <td>-0.360848</td>\n      <td>-0.213226</td>\n      <td>-0.244634</td>\n      <td>-0.480564</td>\n      <td>-0.432095</td>\n      <td>-0.387738</td>\n      <td>-0.248272</td>\n      <td>2.430156</td>\n      <td>-0.154195</td>\n    </tr>\n    <tr>\n      <th>4</th>\n      <td>5.714752</td>\n      <td>-0.017814</td>\n      <td>6.252280</td>\n      <td>3.161845</td>\n      <td>-0.130053</td>\n      <td>4.792893</td>\n      <td>7.256952</td>\n      <td>-5.143851</td>\n      <td>13.403957</td>\n      <td>-8.530873</td>\n      <td>...</td>\n      <td>-0.143817</td>\n      <td>-0.360848</td>\n      <td>-0.213226</td>\n      <td>-0.244634</td>\n      <td>-0.480564</td>\n      <td>-0.432095</td>\n      <td>2.579063</td>\n      <td>-0.248272</td>\n      <td>-0.411496</td>\n      <td>-0.154195</td>\n    </tr>\n    <tr>\n      <th>...</th>\n      <td>...</td>\n      <td>...</td>\n      <td>...</td>\n      <td>...</td>\n      <td>...</td>\n      <td>...</td>\n      <td>...</td>\n      <td>...</td>\n      <td>...</td>\n      <td>...</td>\n      <td>...</td>\n      <td>...</td>\n      <td>...</td>\n      <td>...</td>\n      <td>...</td>\n      <td>...</td>\n      <td>...</td>\n      <td>...</td>\n      <td>...</td>\n      <td>...</td>\n      <td>...</td>\n    </tr>\n    <tr>\n      <th>4387</th>\n      <td>-0.251129</td>\n      <td>-0.017962</td>\n      <td>-0.212997</td>\n      <td>-0.268049</td>\n      <td>-0.130053</td>\n      <td>-0.249732</td>\n      <td>-0.264553</td>\n      <td>-0.222470</td>\n      <td>-0.240776</td>\n      <td>-0.219005</td>\n      <td>...</td>\n      <td>-0.143817</td>\n      <td>-0.360848</td>\n      <td>-0.213226</td>\n      <td>-0.244634</td>\n      <td>-0.480564</td>\n      <td>-0.432095</td>\n      <td>-0.387738</td>\n      <td>4.027844</td>\n      <td>-0.411496</td>\n      <td>-0.154195</td>\n    </tr>\n    <tr>\n      <th>4388</th>\n      <td>-0.251102</td>\n      <td>-0.020099</td>\n      <td>-0.212997</td>\n      <td>-0.267976</td>\n      <td>-0.124809</td>\n      <td>-0.249366</td>\n      <td>-0.263431</td>\n      <td>-0.224336</td>\n      <td>-0.270668</td>\n      <td>-0.216845</td>\n      <td>...</td>\n      <td>-0.143817</td>\n      <td>-0.360848</td>\n      <td>-0.213226</td>\n      <td>-0.244634</td>\n      <td>-0.480564</td>\n      <td>-0.432095</td>\n      <td>-0.387738</td>\n      <td>-0.248272</td>\n      <td>-0.411496</td>\n      <td>-0.154195</td>\n    </tr>\n    <tr>\n      <th>4389</th>\n      <td>-0.248437</td>\n      <td>-0.016813</td>\n      <td>-0.210519</td>\n      <td>-0.265650</td>\n      <td>-0.128232</td>\n      <td>-0.248823</td>\n      <td>-0.263644</td>\n      <td>-0.217948</td>\n      <td>-0.267318</td>\n      <td>-0.210126</td>\n      <td>...</td>\n      <td>-0.143817</td>\n      <td>-0.360848</td>\n      <td>-0.213226</td>\n      <td>-0.244634</td>\n      <td>-0.480564</td>\n      <td>-0.432095</td>\n      <td>-0.387738</td>\n      <td>-0.248272</td>\n      <td>-0.411496</td>\n      <td>-0.154195</td>\n    </tr>\n    <tr>\n      <th>4390</th>\n      <td>-0.251129</td>\n      <td>-0.017962</td>\n      <td>-0.212997</td>\n      <td>-0.268049</td>\n      <td>-0.118684</td>\n      <td>-0.249519</td>\n      <td>-0.262171</td>\n      <td>-0.226830</td>\n      <td>-0.270668</td>\n      <td>-0.219701</td>\n      <td>...</td>\n      <td>-0.143817</td>\n      <td>-0.360848</td>\n      <td>-0.213226</td>\n      <td>-0.244634</td>\n      <td>-0.480564</td>\n      <td>-0.432095</td>\n      <td>2.579063</td>\n      <td>-0.248272</td>\n      <td>-0.411496</td>\n      <td>-0.154195</td>\n    </tr>\n    <tr>\n      <th>4391</th>\n      <td>-0.248528</td>\n      <td>-0.017836</td>\n      <td>-0.212997</td>\n      <td>-0.261096</td>\n      <td>-0.067589</td>\n      <td>-0.242574</td>\n      <td>-0.249330</td>\n      <td>-0.232402</td>\n      <td>-0.270219</td>\n      <td>-0.226477</td>\n      <td>...</td>\n      <td>-0.143817</td>\n      <td>-0.360848</td>\n      <td>-0.213226</td>\n      <td>-0.244634</td>\n      <td>-0.480564</td>\n      <td>2.314305</td>\n      <td>-0.387738</td>\n      <td>-0.248272</td>\n      <td>-0.411496</td>\n      <td>-0.154195</td>\n    </tr>\n  </tbody>\n</table>\n<p>4392 rows × 232 columns</p>\n</div>"
     },
     "metadata": {},
     "output_type": "display_data"
    },
    {
     "data": {
      "application/vnd.deepnote.dataframe.v2+json": {
       "row_count": 4392,
       "column_count": 1,
       "columns": [
        {
         "name": "prive_var",
         "dtype": "float64",
         "stats": {
          "unique_count": 4381,
          "nan_count": 0,
          "min": "-99.86477876342504",
          "max": "3756.716344616256",
          "histogram": [
           {
            "bin_start": -99.86477876342504,
            "bin_end": 285.79333357454306,
            "count": 4371
           },
           {
            "bin_start": 285.79333357454306,
            "bin_end": 671.4514459125111,
            "count": 16
           },
           {
            "bin_start": 671.4514459125111,
            "bin_end": 1057.1095582504793,
            "count": 3
           },
           {
            "bin_start": 1057.1095582504793,
            "bin_end": 1442.7676705884473,
            "count": 1
           },
           {
            "bin_start": 1442.7676705884473,
            "bin_end": 1828.4257829264154,
            "count": 0
           },
           {
            "bin_start": 1828.4257829264154,
            "bin_end": 2214.0838952643835,
            "count": 0
           },
           {
            "bin_start": 2214.0838952643835,
            "bin_end": 2599.7420076023514,
            "count": 0
           },
           {
            "bin_start": 2599.7420076023514,
            "bin_end": 2985.4001199403197,
            "count": 0
           },
           {
            "bin_start": 2985.4001199403197,
            "bin_end": 3371.058232278288,
            "count": 0
           },
           {
            "bin_start": 3371.058232278288,
            "bin_end": 3756.716344616256,
            "count": 1
           }
          ]
         }
        },
        {
         "name": "_deepnote_index_column",
         "dtype": "int64"
        }
       ],
       "rows_top": [
        {
         "prive_var": 32.79457340696426,
         "_deepnote_index_column": 0
        },
        {
         "prive_var": 40.58806776062004,
         "_deepnote_index_column": 1
        },
        {
         "prive_var": 30.295513769487663,
         "_deepnote_index_column": 2
        },
        {
         "prive_var": 64.21373673067748,
         "_deepnote_index_column": 3
        },
        {
         "prive_var": 44.75784025571753,
         "_deepnote_index_column": 4
        },
        {
         "prive_var": 44.31598762467044,
         "_deepnote_index_column": 5
        },
        {
         "prive_var": 88.74246462864862,
         "_deepnote_index_column": 6
        },
        {
         "prive_var": 58.25926290883441,
         "_deepnote_index_column": 7
        },
        {
         "prive_var": 22.161943160855284,
         "_deepnote_index_column": 8
        },
        {
         "prive_var": 3.016788856333025,
         "_deepnote_index_column": 9
        },
        {
         "prive_var": -21.971691533209423,
         "_deepnote_index_column": 10
        },
        {
         "prive_var": 96.53179525329288,
         "_deepnote_index_column": 11
        },
        {
         "prive_var": 25.537204035802425,
         "_deepnote_index_column": 12
        },
        {
         "prive_var": 143.54753476454374,
         "_deepnote_index_column": 13
        },
        {
         "prive_var": 182.03799708626968,
         "_deepnote_index_column": 14
        },
        {
         "prive_var": 51.27506712832904,
         "_deepnote_index_column": 15
        },
        {
         "prive_var": 19.21621178864888,
         "_deepnote_index_column": 16
        },
        {
         "prive_var": 32.87280261506347,
         "_deepnote_index_column": 17
        },
        {
         "prive_var": 40.618216354998616,
         "_deepnote_index_column": 18
        },
        {
         "prive_var": 53.48648158207718,
         "_deepnote_index_column": 19
        },
        {
         "prive_var": 0.5828063550309523,
         "_deepnote_index_column": 20
        },
        {
         "prive_var": 30.210967053055956,
         "_deepnote_index_column": 21
        },
        {
         "prive_var": 37.65689612741407,
         "_deepnote_index_column": 22
        },
        {
         "prive_var": 44.751098676230576,
         "_deepnote_index_column": 23
        },
        {
         "prive_var": 19.158552111272424,
         "_deepnote_index_column": 24
        },
        {
         "prive_var": 38.24324761856872,
         "_deepnote_index_column": 25
        },
        {
         "prive_var": 40.680272751880864,
         "_deepnote_index_column": 26
        },
        {
         "prive_var": -43.37349298090662,
         "_deepnote_index_column": 27
        },
        {
         "prive_var": 7.298488876768565,
         "_deepnote_index_column": 28
        },
        {
         "prive_var": -6.046939564816331,
         "_deepnote_index_column": 29
        },
        {
         "prive_var": 65.63234031044496,
         "_deepnote_index_column": 30
        },
        {
         "prive_var": -34.002130984551,
         "_deepnote_index_column": 31
        },
        {
         "prive_var": 11.246094519884725,
         "_deepnote_index_column": 32
        },
        {
         "prive_var": 29.443615891074447,
         "_deepnote_index_column": 33
        },
        {
         "prive_var": 85.65883117085035,
         "_deepnote_index_column": 34
        },
        {
         "prive_var": 53.76884060879406,
         "_deepnote_index_column": 35
        },
        {
         "prive_var": 4.9247933385599545,
         "_deepnote_index_column": 36
        },
        {
         "prive_var": 59.391731754533474,
         "_deepnote_index_column": 37
        },
        {
         "prive_var": 160.00001049916713,
         "_deepnote_index_column": 38
        },
        {
         "prive_var": 14.819570082879045,
         "_deepnote_index_column": 39
        },
        {
         "prive_var": 32.01876328800341,
         "_deepnote_index_column": 40
        },
        {
         "prive_var": 26.641747684811488,
         "_deepnote_index_column": 41
        },
        {
         "prive_var": 42.27031236190148,
         "_deepnote_index_column": 42
        },
        {
         "prive_var": -26.687113132029552,
         "_deepnote_index_column": 43
        },
        {
         "prive_var": 30.7692369413096,
         "_deepnote_index_column": 44
        },
        {
         "prive_var": 40.439900160992025,
         "_deepnote_index_column": 45
        },
        {
         "prive_var": 30.51943045029569,
         "_deepnote_index_column": 46
        },
        {
         "prive_var": 8.690633021320489,
         "_deepnote_index_column": 47
        },
        {
         "prive_var": -7.406170031687082,
         "_deepnote_index_column": 48
        },
        {
         "prive_var": 55.15728664121453,
         "_deepnote_index_column": 49
        },
        {
         "prive_var": -6.405819277441032,
         "_deepnote_index_column": 50
        },
        {
         "prive_var": 6.367174645398372,
         "_deepnote_index_column": 51
        },
        {
         "prive_var": 13.37436463422488,
         "_deepnote_index_column": 52
        },
        {
         "prive_var": 28.96251918469469,
         "_deepnote_index_column": 53
        },
        {
         "prive_var": 19.985242145326037,
         "_deepnote_index_column": 54
        },
        {
         "prive_var": 27.35980695948599,
         "_deepnote_index_column": 55
        },
        {
         "prive_var": 9.37063031269113,
         "_deepnote_index_column": 56
        },
        {
         "prive_var": 10.985028287390804,
         "_deepnote_index_column": 57
        },
        {
         "prive_var": -34.9462350085507,
         "_deepnote_index_column": 58
        },
        {
         "prive_var": 32.3633518425123,
         "_deepnote_index_column": 59
        },
        {
         "prive_var": 0.4545496768344453,
         "_deepnote_index_column": 60
        },
        {
         "prive_var": 10.79968057716632,
         "_deepnote_index_column": 61
        },
        {
         "prive_var": 14.184102689736106,
         "_deepnote_index_column": 62
        },
        {
         "prive_var": 59.94930417128572,
         "_deepnote_index_column": 63
        },
        {
         "prive_var": -1.1473814428627072,
         "_deepnote_index_column": 64
        },
        {
         "prive_var": 4.834143746663969,
         "_deepnote_index_column": 65
        },
        {
         "prive_var": 45.02756921443456,
         "_deepnote_index_column": 66
        },
        {
         "prive_var": 14.24088630479263,
         "_deepnote_index_column": 67
        },
        {
         "prive_var": 88.73627864997576,
         "_deepnote_index_column": 68
        },
        {
         "prive_var": -22.28412176721168,
         "_deepnote_index_column": 69
        },
        {
         "prive_var": -37.5318847482328,
         "_deepnote_index_column": 70
        },
        {
         "prive_var": 38.83196591161589,
         "_deepnote_index_column": 71
        },
        {
         "prive_var": -7.004212967550644,
         "_deepnote_index_column": 72
        },
        {
         "prive_var": -42.58339201577644,
         "_deepnote_index_column": 73
        },
        {
         "prive_var": 13.438387893337032,
         "_deepnote_index_column": 74
        },
        {
         "prive_var": 44.61868196298485,
         "_deepnote_index_column": 75
        },
        {
         "prive_var": 4.929742899084674,
         "_deepnote_index_column": 76
        },
        {
         "prive_var": 33.918031893216344,
         "_deepnote_index_column": 77
        },
        {
         "prive_var": 77.78488073183964,
         "_deepnote_index_column": 78
        },
        {
         "prive_var": 53.4922726086907,
         "_deepnote_index_column": 79
        },
        {
         "prive_var": 21.67873851751337,
         "_deepnote_index_column": 80
        },
        {
         "prive_var": 25.25752173281757,
         "_deepnote_index_column": 81
        },
        {
         "prive_var": 50.33543226047795,
         "_deepnote_index_column": 82
        },
        {
         "prive_var": 4.896407928260095,
         "_deepnote_index_column": 83
        },
        {
         "prive_var": -62.10045837331472,
         "_deepnote_index_column": 84
        },
        {
         "prive_var": 34.346651812448485,
         "_deepnote_index_column": 85
        },
        {
         "prive_var": 40.05981817427868,
         "_deepnote_index_column": 86
        },
        {
         "prive_var": 13.294984217372768,
         "_deepnote_index_column": 87
        },
        {
         "prive_var": 26.145770459411445,
         "_deepnote_index_column": 88
        },
        {
         "prive_var": 66.14338481613517,
         "_deepnote_index_column": 89
        },
        {
         "prive_var": 29.898016946139087,
         "_deepnote_index_column": 90
        },
        {
         "prive_var": 10.28436631873672,
         "_deepnote_index_column": 91
        },
        {
         "prive_var": 23.59785206575685,
         "_deepnote_index_column": 92
        },
        {
         "prive_var": 40.91671797736591,
         "_deepnote_index_column": 93
        },
        {
         "prive_var": 34.52956736206912,
         "_deepnote_index_column": 94
        },
        {
         "prive_var": 89.99000305687113,
         "_deepnote_index_column": 95
        },
        {
         "prive_var": 46.29628880142786,
         "_deepnote_index_column": 96
        },
        {
         "prive_var": 16.236967523659587,
         "_deepnote_index_column": 97
        },
        {
         "prive_var": 33.63452258023262,
         "_deepnote_index_column": 98
        },
        {
         "prive_var": -13.445384717409889,
         "_deepnote_index_column": 99
        },
        {
         "prive_var": -9.19786711512817,
         "_deepnote_index_column": 100
        },
        {
         "prive_var": 73.40989975467198,
         "_deepnote_index_column": 101
        },
        {
         "prive_var": 17.402705347423357,
         "_deepnote_index_column": 102
        },
        {
         "prive_var": 71.16930169570263,
         "_deepnote_index_column": 103
        },
        {
         "prive_var": 31.224615270169352,
         "_deepnote_index_column": 104
        },
        {
         "prive_var": 39.73963834622175,
         "_deepnote_index_column": 105
        },
        {
         "prive_var": 45.29200335593318,
         "_deepnote_index_column": 106
        },
        {
         "prive_var": -0.4199581734327056,
         "_deepnote_index_column": 107
        },
        {
         "prive_var": 8.56514336651388,
         "_deepnote_index_column": 108
        },
        {
         "prive_var": 100.55249885071704,
         "_deepnote_index_column": 109
        },
        {
         "prive_var": -2.0874844709776683,
         "_deepnote_index_column": 110
        },
        {
         "prive_var": -71.09826693879377,
         "_deepnote_index_column": 111
        },
        {
         "prive_var": 6.024097942928766,
         "_deepnote_index_column": 112
        },
        {
         "prive_var": 42.45619839004899,
         "_deepnote_index_column": 113
        },
        {
         "prive_var": 19.920668681643875,
         "_deepnote_index_column": 114
        },
        {
         "prive_var": 10.83505378385938,
         "_deepnote_index_column": 115
        },
        {
         "prive_var": 6.183969613590753,
         "_deepnote_index_column": 116
        },
        {
         "prive_var": 9.339455808907177,
         "_deepnote_index_column": 117
        },
        {
         "prive_var": 15.751650213870766,
         "_deepnote_index_column": 118
        },
        {
         "prive_var": 26.751845819476504,
         "_deepnote_index_column": 119
        },
        {
         "prive_var": -23.26203534115563,
         "_deepnote_index_column": 120
        },
        {
         "prive_var": 27.05125022624156,
         "_deepnote_index_column": 121
        },
        {
         "prive_var": 31.45704757852865,
         "_deepnote_index_column": 122
        },
        {
         "prive_var": 0.5475846904230076,
         "_deepnote_index_column": 123
        },
        {
         "prive_var": 31.748342774333345,
         "_deepnote_index_column": 124
        },
        {
         "prive_var": 2.9201564729036003,
         "_deepnote_index_column": 125
        },
        {
         "prive_var": 25.36841909420005,
         "_deepnote_index_column": 126
        },
        {
         "prive_var": 15.555545874911372,
         "_deepnote_index_column": 127
        },
        {
         "prive_var": -20.05935669747982,
         "_deepnote_index_column": 128
        },
        {
         "prive_var": 27.055128467550077,
         "_deepnote_index_column": 129
        },
        {
         "prive_var": 29.35505333018873,
         "_deepnote_index_column": 130
        },
        {
         "prive_var": -3.479897880323387,
         "_deepnote_index_column": 131
        },
        {
         "prive_var": 62.62733317637122,
         "_deepnote_index_column": 132
        },
        {
         "prive_var": -10.612647654439453,
         "_deepnote_index_column": 133
        },
        {
         "prive_var": -10.050041256953907,
         "_deepnote_index_column": 134
        },
        {
         "prive_var": 39.72320197805502,
         "_deepnote_index_column": 135
        },
        {
         "prive_var": 74.3943392003311,
         "_deepnote_index_column": 136
        },
        {
         "prive_var": 27.94796419947425,
         "_deepnote_index_column": 137
        },
        {
         "prive_var": 27.45903201866738,
         "_deepnote_index_column": 138
        },
        {
         "prive_var": 8.045047648933885,
         "_deepnote_index_column": 139
        },
        {
         "prive_var": 31.74119996587337,
         "_deepnote_index_column": 140
        },
        {
         "prive_var": -3.641453177962776,
         "_deepnote_index_column": 141
        },
        {
         "prive_var": 30.916087923383788,
         "_deepnote_index_column": 142
        },
        {
         "prive_var": -59.11504595064408,
         "_deepnote_index_column": 143
        },
        {
         "prive_var": -28.06122759291148,
         "_deepnote_index_column": 144
        },
        {
         "prive_var": -6.469136732239251,
         "_deepnote_index_column": 145
        },
        {
         "prive_var": 21.45070451335486,
         "_deepnote_index_column": 146
        },
        {
         "prive_var": 39.63731490726845,
         "_deepnote_index_column": 147
        },
        {
         "prive_var": -41.15523442399362,
         "_deepnote_index_column": 148
        },
        {
         "prive_var": 46.51230673371597,
         "_deepnote_index_column": 149
        },
        {
         "prive_var": 17.152815275319387,
         "_deepnote_index_column": 150
        },
        {
         "prive_var": 60.80183870695557,
         "_deepnote_index_column": 151
        },
        {
         "prive_var": 8.118431230335213,
         "_deepnote_index_column": 152
        },
        {
         "prive_var": 94.62859126109188,
         "_deepnote_index_column": 153
        },
        {
         "prive_var": -9.432331318127028,
         "_deepnote_index_column": 154
        },
        {
         "prive_var": 6.918132489749447,
         "_deepnote_index_column": 155
        },
        {
         "prive_var": -8.705106350257093,
         "_deepnote_index_column": 156
        },
        {
         "prive_var": -29.00030718687149,
         "_deepnote_index_column": 157
        },
        {
         "prive_var": 42.521118457195136,
         "_deepnote_index_column": 158
        },
        {
         "prive_var": 52.22532135082445,
         "_deepnote_index_column": 159
        },
        {
         "prive_var": 36.0619926688552,
         "_deepnote_index_column": 160
        },
        {
         "prive_var": 16.073460659346246,
         "_deepnote_index_column": 161
        },
        {
         "prive_var": 10.903586095415044,
         "_deepnote_index_column": 162
        },
        {
         "prive_var": -18.02591304685354,
         "_deepnote_index_column": 163
        },
        {
         "prive_var": 13.886604800501196,
         "_deepnote_index_column": 164
        },
        {
         "prive_var": 30.61872970348016,
         "_deepnote_index_column": 165
        },
        {
         "prive_var": -90.50279299379686,
         "_deepnote_index_column": 166
        },
        {
         "prive_var": -5.744682474339262,
         "_deepnote_index_column": 167
        },
        {
         "prive_var": 85.45594916281044,
         "_deepnote_index_column": 168
        },
        {
         "prive_var": 22.77778461070609,
         "_deepnote_index_column": 169
        },
        {
         "prive_var": -20.35929496470451,
         "_deepnote_index_column": 170
        },
        {
         "prive_var": 9.042083589515215,
         "_deepnote_index_column": 171
        },
        {
         "prive_var": 20.057432442882227,
         "_deepnote_index_column": 172
        },
        {
         "prive_var": 20.88844164131801,
         "_deepnote_index_column": 173
        },
        {
         "prive_var": 70.2230902686627,
         "_deepnote_index_column": 174
        },
        {
         "prive_var": 18.400053729855674,
         "_deepnote_index_column": 175
        },
        {
         "prive_var": 37.37023312679713,
         "_deepnote_index_column": 176
        },
        {
         "prive_var": -5.891174698230758,
         "_deepnote_index_column": 177
        },
        {
         "prive_var": 11.2743343927164,
         "_deepnote_index_column": 178
        },
        {
         "prive_var": 28.351400552088137,
         "_deepnote_index_column": 179
        },
        {
         "prive_var": 3.3777787950303817,
         "_deepnote_index_column": 180
        },
        {
         "prive_var": -48.58533689588775,
         "_deepnote_index_column": 181
        },
        {
         "prive_var": 9.280305964637147,
         "_deepnote_index_column": 182
        },
        {
         "prive_var": 12.294940081757138,
         "_deepnote_index_column": 183
        },
        {
         "prive_var": 51.06680235633382,
         "_deepnote_index_column": 184
        },
        {
         "prive_var": 21.54367495506319,
         "_deepnote_index_column": 185
        },
        {
         "prive_var": 30.60893620378232,
         "_deepnote_index_column": 186
        },
        {
         "prive_var": 34.69172958491354,
         "_deepnote_index_column": 187
        },
        {
         "prive_var": 62.4249682700073,
         "_deepnote_index_column": 188
        },
        {
         "prive_var": 21.977557820154228,
         "_deepnote_index_column": 189
        },
        {
         "prive_var": -29.20026859091845,
         "_deepnote_index_column": 190
        },
        {
         "prive_var": 38.21022305886056,
         "_deepnote_index_column": 191
        },
        {
         "prive_var": 21.165677693789988,
         "_deepnote_index_column": 192
        },
        {
         "prive_var": -4.496326054553061,
         "_deepnote_index_column": 193
        },
        {
         "prive_var": -2.612488559288676,
         "_deepnote_index_column": 194
        },
        {
         "prive_var": 68.69328090971952,
         "_deepnote_index_column": 195
        },
        {
         "prive_var": 51.665345081973975,
         "_deepnote_index_column": 196
        },
        {
         "prive_var": 7.255007654289485,
         "_deepnote_index_column": 197
        },
        {
         "prive_var": 47.70797973644424,
         "_deepnote_index_column": 198
        },
        {
         "prive_var": 39.25823361126532,
         "_deepnote_index_column": 199
        },
        {
         "prive_var": 16.984740976068732,
         "_deepnote_index_column": 200
        },
        {
         "prive_var": 34.103202226514725,
         "_deepnote_index_column": 201
        },
        {
         "prive_var": 153.31228831890385,
         "_deepnote_index_column": 202
        },
        {
         "prive_var": 30.32953680876733,
         "_deepnote_index_column": 203
        },
        {
         "prive_var": -38.17034728786463,
         "_deepnote_index_column": 204
        },
        {
         "prive_var": -4.799286393750849,
         "_deepnote_index_column": 205
        },
        {
         "prive_var": 29.25077385297757,
         "_deepnote_index_column": 206
        },
        {
         "prive_var": 8.960001627604166,
         "_deepnote_index_column": 207
        },
        {
         "prive_var": 33.40631975526089,
         "_deepnote_index_column": 208
        },
        {
         "prive_var": 42.26116405291685,
         "_deepnote_index_column": 209
        },
        {
         "prive_var": 30.113034475460463,
         "_deepnote_index_column": 210
        },
        {
         "prive_var": -22.095530646607767,
         "_deepnote_index_column": 211
        },
        {
         "prive_var": -70.7991819897828,
         "_deepnote_index_column": 212
        },
        {
         "prive_var": 66.73291951400432,
         "_deepnote_index_column": 213
        },
        {
         "prive_var": 53.26004775684163,
         "_deepnote_index_column": 214
        },
        {
         "prive_var": 33.572505908867214,
         "_deepnote_index_column": 215
        },
        {
         "prive_var": -26.0524140956493,
         "_deepnote_index_column": 216
        },
        {
         "prive_var": 29.87110526738914,
         "_deepnote_index_column": 217
        },
        {
         "prive_var": 51.62149887578504,
         "_deepnote_index_column": 218
        },
        {
         "prive_var": 4.644804013471165,
         "_deepnote_index_column": 219
        },
        {
         "prive_var": -4.340227672813462,
         "_deepnote_index_column": 220
        },
        {
         "prive_var": -68.02227877419192,
         "_deepnote_index_column": 221
        },
        {
         "prive_var": 18.66610924851136,
         "_deepnote_index_column": 222
        },
        {
         "prive_var": 19.20942576172236,
         "_deepnote_index_column": 223
        },
        {
         "prive_var": 19.150145590719298,
         "_deepnote_index_column": 224
        },
        {
         "prive_var": -21.747380976204948,
         "_deepnote_index_column": 225
        },
        {
         "prive_var": -24.753092134338328,
         "_deepnote_index_column": 226
        },
        {
         "prive_var": 21.92424576900648,
         "_deepnote_index_column": 227
        },
        {
         "prive_var": 48.18288511500536,
         "_deepnote_index_column": 228
        },
        {
         "prive_var": -10.602069105335785,
         "_deepnote_index_column": 229
        },
        {
         "prive_var": -13.232710808130212,
         "_deepnote_index_column": 230
        },
        {
         "prive_var": 36.97917783089687,
         "_deepnote_index_column": 231
        },
        {
         "prive_var": 45.56530067735304,
         "_deepnote_index_column": 232
        },
        {
         "prive_var": 4.7977835356435525,
         "_deepnote_index_column": 233
        },
        {
         "prive_var": 9.017197922046677,
         "_deepnote_index_column": 234
        },
        {
         "prive_var": 19.92462041137923,
         "_deepnote_index_column": 235
        },
        {
         "prive_var": 26.97047353226857,
         "_deepnote_index_column": 236
        },
        {
         "prive_var": 33.74042948336133,
         "_deepnote_index_column": 237
        },
        {
         "prive_var": 22.447364300289337,
         "_deepnote_index_column": 238
        },
        {
         "prive_var": 20.16613555304312,
         "_deepnote_index_column": 239
        },
        {
         "prive_var": 76.35998620149459,
         "_deepnote_index_column": 240
        },
        {
         "prive_var": -28.008594818966174,
         "_deepnote_index_column": 241
        },
        {
         "prive_var": 50.39481006263575,
         "_deepnote_index_column": 242
        },
        {
         "prive_var": 51.64538446047106,
         "_deepnote_index_column": 243
        },
        {
         "prive_var": 39.33497139942836,
         "_deepnote_index_column": 244
        },
        {
         "prive_var": -1.754384313814067,
         "_deepnote_index_column": 245
        },
        {
         "prive_var": 20.16548513934049,
         "_deepnote_index_column": 246
        },
        {
         "prive_var": 4.62510327992648,
         "_deepnote_index_column": 247
        },
        {
         "prive_var": 58.70461670017825,
         "_deepnote_index_column": 248
        },
        {
         "prive_var": 4.889883870771578,
         "_deepnote_index_column": 249
        },
        {
         "prive_var": 46.89070137823435,
         "_deepnote_index_column": 250
        },
        {
         "prive_var": 37.00604893360682,
         "_deepnote_index_column": 251
        },
        {
         "prive_var": 99.1182734492175,
         "_deepnote_index_column": 252
        },
        {
         "prive_var": -6.719960029977517,
         "_deepnote_index_column": 253
        },
        {
         "prive_var": 0.0691802031187413,
         "_deepnote_index_column": 254
        },
        {
         "prive_var": 64.52708764176509,
         "_deepnote_index_column": 255
        },
        {
         "prive_var": 65.09912378347884,
         "_deepnote_index_column": 256
        },
        {
         "prive_var": 11.3723294429881,
         "_deepnote_index_column": 257
        },
        {
         "prive_var": -13.455148593785829,
         "_deepnote_index_column": 258
        },
        {
         "prive_var": -16.715010137999524,
         "_deepnote_index_column": 259
        },
        {
         "prive_var": 44.94937005360163,
         "_deepnote_index_column": 260
        },
        {
         "prive_var": 34.46355475860547,
         "_deepnote_index_column": 261
        },
        {
         "prive_var": 14.533641500306596,
         "_deepnote_index_column": 262
        },
        {
         "prive_var": 6.459970321880844,
         "_deepnote_index_column": 263
        },
        {
         "prive_var": 35.22457104619105,
         "_deepnote_index_column": 264
        },
        {
         "prive_var": 60.10780630832786,
         "_deepnote_index_column": 265
        },
        {
         "prive_var": 46.86288765286307,
         "_deepnote_index_column": 266
        },
        {
         "prive_var": 26.901034526759247,
         "_deepnote_index_column": 267
        },
        {
         "prive_var": 44.7881085779794,
         "_deepnote_index_column": 268
        },
        {
         "prive_var": -40.16463008312871,
         "_deepnote_index_column": 269
        },
        {
         "prive_var": 34.892942460607216,
         "_deepnote_index_column": 270
        },
        {
         "prive_var": 85.40692845456597,
         "_deepnote_index_column": 271
        },
        {
         "prive_var": 66.59481370130715,
         "_deepnote_index_column": 272
        },
        {
         "prive_var": 26.851276054632866,
         "_deepnote_index_column": 273
        },
        {
         "prive_var": 33.255998187431075,
         "_deepnote_index_column": 274
        },
        {
         "prive_var": -54.87804780539693,
         "_deepnote_index_column": 275
        },
        {
         "prive_var": 31.374031501770823,
         "_deepnote_index_column": 276
        },
        {
         "prive_var": 62.83200848536112,
         "_deepnote_index_column": 277
        },
        {
         "prive_var": 20.13640777003113,
         "_deepnote_index_column": 278
        },
        {
         "prive_var": 26.95112286566876,
         "_deepnote_index_column": 279
        },
        {
         "prive_var": 18.655044920622792,
         "_deepnote_index_column": 280
        },
        {
         "prive_var": -17.58106114672224,
         "_deepnote_index_column": 281
        },
        {
         "prive_var": 56.46623293349309,
         "_deepnote_index_column": 282
        },
        {
         "prive_var": 36.9929027757152,
         "_deepnote_index_column": 283
        },
        {
         "prive_var": 38.5793424897492,
         "_deepnote_index_column": 284
        },
        {
         "prive_var": 41.404392226719104,
         "_deepnote_index_column": 285
        },
        {
         "prive_var": -67.65094764290298,
         "_deepnote_index_column": 286
        },
        {
         "prive_var": 50.63290976245381,
         "_deepnote_index_column": 287
        },
        {
         "prive_var": -54.327730109198114,
         "_deepnote_index_column": 288
        },
        {
         "prive_var": -31.97220010423304,
         "_deepnote_index_column": 289
        },
        {
         "prive_var": -0.3973537622577146,
         "_deepnote_index_column": 290
        },
        {
         "prive_var": 19.76470947265625,
         "_deepnote_index_column": 291
        },
        {
         "prive_var": -18.127271089932854,
         "_deepnote_index_column": 292
        },
        {
         "prive_var": 18.89839691979628,
         "_deepnote_index_column": 293
        },
        {
         "prive_var": 6.903763791242298,
         "_deepnote_index_column": 294
        },
        {
         "prive_var": 38.147571706599216,
         "_deepnote_index_column": 295
        },
        {
         "prive_var": 87.81516095239338,
         "_deepnote_index_column": 296
        },
        {
         "prive_var": 21.280185452980326,
         "_deepnote_index_column": 297
        },
        {
         "prive_var": 65.72874824708063,
         "_deepnote_index_column": 298
        },
        {
         "prive_var": 15.205649031067464,
         "_deepnote_index_column": 299
        },
        {
         "prive_var": 28.77463315970832,
         "_deepnote_index_column": 300
        },
        {
         "prive_var": 52.34655178815852,
         "_deepnote_index_column": 301
        },
        {
         "prive_var": 58.07559343488654,
         "_deepnote_index_column": 302
        },
        {
         "prive_var": 44.95356894981416,
         "_deepnote_index_column": 303
        },
        {
         "prive_var": 1.3395371547965116,
         "_deepnote_index_column": 304
        },
        {
         "prive_var": 38.87711281688993,
         "_deepnote_index_column": 305
        },
        {
         "prive_var": 47.26756319481699,
         "_deepnote_index_column": 306
        },
        {
         "prive_var": 36.41234976591528,
         "_deepnote_index_column": 307
        },
        {
         "prive_var": 51.840499514721024,
         "_deepnote_index_column": 308
        },
        {
         "prive_var": 36.8339150069489,
         "_deepnote_index_column": 309
        },
        {
         "prive_var": 34.19282339412971,
         "_deepnote_index_column": 310
        },
        {
         "prive_var": 31.534902694869334,
         "_deepnote_index_column": 311
        },
        {
         "prive_var": 1.4427709967156213,
         "_deepnote_index_column": 312
        },
        {
         "prive_var": 10.300865027805854,
         "_deepnote_index_column": 313
        },
        {
         "prive_var": 69.12938043185594,
         "_deepnote_index_column": 314
        },
        {
         "prive_var": 58.24366515505511,
         "_deepnote_index_column": 315
        },
        {
         "prive_var": 58.38325284081319,
         "_deepnote_index_column": 316
        },
        {
         "prive_var": 33.70704831911719,
         "_deepnote_index_column": 317
        },
        {
         "prive_var": 10.652529018599044,
         "_deepnote_index_column": 318
        },
        {
         "prive_var": 30.332242462354326,
         "_deepnote_index_column": 319
        },
        {
         "prive_var": 50.77262823282023,
         "_deepnote_index_column": 320
        },
        {
         "prive_var": 44.37710426466446,
         "_deepnote_index_column": 321
        },
        {
         "prive_var": 67.98336839556983,
         "_deepnote_index_column": 322
        },
        {
         "prive_var": 47.66904929042384,
         "_deepnote_index_column": 323
        },
        {
         "prive_var": 49.23400757471271,
         "_deepnote_index_column": 324
        },
        {
         "prive_var": 4.26569634033144,
         "_deepnote_index_column": 325
        },
        {
         "prive_var": 14.417862916463095,
         "_deepnote_index_column": 326
        },
        {
         "prive_var": 42.86873267599498,
         "_deepnote_index_column": 327
        },
        {
         "prive_var": 12.370286235494644,
         "_deepnote_index_column": 328
        },
        {
         "prive_var": 19.1365022627099,
         "_deepnote_index_column": 329
        },
        {
         "prive_var": -48.29545277517196,
         "_deepnote_index_column": 330
        },
        {
         "prive_var": 29.7825630322506,
         "_deepnote_index_column": 331
        },
        {
         "prive_var": 46.03815035742093,
         "_deepnote_index_column": 332
        },
        {
         "prive_var": 13.674658847706397,
         "_deepnote_index_column": 333
        },
        {
         "prive_var": 18.14273117725312,
         "_deepnote_index_column": 334
        },
        {
         "prive_var": 17.15979458036437,
         "_deepnote_index_column": 335
        },
        {
         "prive_var": 6.460364387131769,
         "_deepnote_index_column": 336
        },
        {
         "prive_var": 11.479134256496026,
         "_deepnote_index_column": 337
        },
        {
         "prive_var": -9.3220254224934,
         "_deepnote_index_column": 338
        },
        {
         "prive_var": 60.291770773069,
         "_deepnote_index_column": 339
        },
        {
         "prive_var": 56.88969545666398,
         "_deepnote_index_column": 340
        },
        {
         "prive_var": 24.66367478080993,
         "_deepnote_index_column": 341
        },
        {
         "prive_var": 115.95541493153068,
         "_deepnote_index_column": 342
        },
        {
         "prive_var": 71.62702612101664,
         "_deepnote_index_column": 343
        },
        {
         "prive_var": 37.95054989299966,
         "_deepnote_index_column": 344
        },
        {
         "prive_var": 25.921004012099825,
         "_deepnote_index_column": 345
        },
        {
         "prive_var": 88.20224485829563,
         "_deepnote_index_column": 346
        },
        {
         "prive_var": 39.50198749299437,
         "_deepnote_index_column": 347
        },
        {
         "prive_var": 57.62186115747604,
         "_deepnote_index_column": 348
        },
        {
         "prive_var": 26.91322335283215,
         "_deepnote_index_column": 349
        },
        {
         "prive_var": 39.0052024108284,
         "_deepnote_index_column": 350
        },
        {
         "prive_var": 60.48451283445985,
         "_deepnote_index_column": 351
        },
        {
         "prive_var": -20.96378328459836,
         "_deepnote_index_column": 352
        },
        {
         "prive_var": -15.069229686225706,
         "_deepnote_index_column": 353
        },
        {
         "prive_var": 12.21205221533364,
         "_deepnote_index_column": 354
        },
        {
         "prive_var": -39.16990876763138,
         "_deepnote_index_column": 355
        },
        {
         "prive_var": -7.561523513255903,
         "_deepnote_index_column": 356
        },
        {
         "prive_var": 1.0840097895054734,
         "_deepnote_index_column": 357
        },
        {
         "prive_var": 51.73766715218344,
         "_deepnote_index_column": 358
        },
        {
         "prive_var": 32.66453109175481,
         "_deepnote_index_column": 359
        },
        {
         "prive_var": 36.9958070553383,
         "_deepnote_index_column": 360
        },
        {
         "prive_var": 58.08797279764502,
         "_deepnote_index_column": 361
        },
        {
         "prive_var": 26.99491281130573,
         "_deepnote_index_column": 362
        },
        {
         "prive_var": 24.47061035029693,
         "_deepnote_index_column": 363
        },
        {
         "prive_var": 18.902951046490536,
         "_deepnote_index_column": 364
        },
        {
         "prive_var": 47.803962455445735,
         "_deepnote_index_column": 365
        },
        {
         "prive_var": 45.99209742949876,
         "_deepnote_index_column": 366
        },
        {
         "prive_var": 45.837082946624726,
         "_deepnote_index_column": 367
        },
        {
         "prive_var": 29.44296743197752,
         "_deepnote_index_column": 368
        },
        {
         "prive_var": 31.484956012221733,
         "_deepnote_index_column": 369
        },
        {
         "prive_var": 14.231159797874534,
         "_deepnote_index_column": 370
        },
        {
         "prive_var": 46.20625288838304,
         "_deepnote_index_column": 371
        },
        {
         "prive_var": 51.92565586571649,
         "_deepnote_index_column": 372
        },
        {
         "prive_var": 5.800265508181595,
         "_deepnote_index_column": 373
        },
        {
         "prive_var": -43.79607278442096,
         "_deepnote_index_column": 374
        },
        {
         "prive_var": 7.282711370495725,
         "_deepnote_index_column": 375
        },
        {
         "prive_var": 9.21450165412688,
         "_deepnote_index_column": 376
        },
        {
         "prive_var": 8.615037117840634,
         "_deepnote_index_column": 377
        },
        {
         "prive_var": -67.4242431768263,
         "_deepnote_index_column": 378
        },
        {
         "prive_var": 19.48124683144373,
         "_deepnote_index_column": 379
        },
        {
         "prive_var": 7.390843155334582,
         "_deepnote_index_column": 380
        },
        {
         "prive_var": 51.36737413274556,
         "_deepnote_index_column": 381
        },
        {
         "prive_var": 41.76920452347621,
         "_deepnote_index_column": 382
        },
        {
         "prive_var": 11.167107130373877,
         "_deepnote_index_column": 383
        },
        {
         "prive_var": 10.486323179648764,
         "_deepnote_index_column": 384
        },
        {
         "prive_var": 27.95849098443689,
         "_deepnote_index_column": 385
        },
        {
         "prive_var": 8.465610654833167,
         "_deepnote_index_column": 386
        },
        {
         "prive_var": 3.310414210250092,
         "_deepnote_index_column": 387
        },
        {
         "prive_var": 25.832826832464384,
         "_deepnote_index_column": 388
        },
        {
         "prive_var": 6.712644844072048,
         "_deepnote_index_column": 389
        },
        {
         "prive_var": -2.0589401644753784,
         "_deepnote_index_column": 390
        },
        {
         "prive_var": 34.13653149899581,
         "_deepnote_index_column": 391
        },
        {
         "prive_var": 25.11255431523548,
         "_deepnote_index_column": 392
        },
        {
         "prive_var": -51.90293832009107,
         "_deepnote_index_column": 393
        },
        {
         "prive_var": 53.71433523612605,
         "_deepnote_index_column": 394
        },
        {
         "prive_var": 74.58645849892669,
         "_deepnote_index_column": 395
        },
        {
         "prive_var": 17.81995152333712,
         "_deepnote_index_column": 396
        },
        {
         "prive_var": -26.99845038535964,
         "_deepnote_index_column": 397
        },
        {
         "prive_var": 67.05361853928315,
         "_deepnote_index_column": 398
        },
        {
         "prive_var": -11.517241905475483,
         "_deepnote_index_column": 399
        },
        {
         "prive_var": 37.82444165948148,
         "_deepnote_index_column": 400
        },
        {
         "prive_var": -2.2989123108863243,
         "_deepnote_index_column": 401
        },
        {
         "prive_var": -42.32558316962663,
         "_deepnote_index_column": 402
        },
        {
         "prive_var": 50.88130942874263,
         "_deepnote_index_column": 403
        },
        {
         "prive_var": 56.94716728408212,
         "_deepnote_index_column": 404
        },
        {
         "prive_var": 45.05875974047613,
         "_deepnote_index_column": 405
        },
        {
         "prive_var": -28.07997942309653,
         "_deepnote_index_column": 406
        },
        {
         "prive_var": 41.01289823199623,
         "_deepnote_index_column": 407
        },
        {
         "prive_var": 16.812746012824526,
         "_deepnote_index_column": 408
        },
        {
         "prive_var": -1.7456750397108958,
         "_deepnote_index_column": 409
        },
        {
         "prive_var": 13.849073814129712,
         "_deepnote_index_column": 410
        },
        {
         "prive_var": 43.41638049366053,
         "_deepnote_index_column": 411
        },
        {
         "prive_var": -0.4604924208913216,
         "_deepnote_index_column": 412
        },
        {
         "prive_var": 35.892768278874435,
         "_deepnote_index_column": 413
        },
        {
         "prive_var": 37.65745811109736,
         "_deepnote_index_column": 414
        },
        {
         "prive_var": 10.032065184068236,
         "_deepnote_index_column": 415
        },
        {
         "prive_var": 3.6285544434689374,
         "_deepnote_index_column": 416
        },
        {
         "prive_var": -26.259545296835128,
         "_deepnote_index_column": 417
        },
        {
         "prive_var": 16.6979530228159,
         "_deepnote_index_column": 418
        },
        {
         "prive_var": 38.6521959081778,
         "_deepnote_index_column": 419
        },
        {
         "prive_var": 7.760134195681396,
         "_deepnote_index_column": 420
        },
        {
         "prive_var": -26.425832089137877,
         "_deepnote_index_column": 421
        },
        {
         "prive_var": 18.36772049515372,
         "_deepnote_index_column": 422
        },
        {
         "prive_var": 37.05565058315271,
         "_deepnote_index_column": 423
        },
        {
         "prive_var": -55.63636259599165,
         "_deepnote_index_column": 424
        },
        {
         "prive_var": 23.9699081020708,
         "_deepnote_index_column": 425
        },
        {
         "prive_var": -22.57868832593144,
         "_deepnote_index_column": 426
        },
        {
         "prive_var": 3.99307884133556,
         "_deepnote_index_column": 427
        },
        {
         "prive_var": 35.2536944926098,
         "_deepnote_index_column": 428
        },
        {
         "prive_var": -25.464946942143484,
         "_deepnote_index_column": 429
        },
        {
         "prive_var": 11.63570638064603,
         "_deepnote_index_column": 430
        },
        {
         "prive_var": 25.308744594823786,
         "_deepnote_index_column": 431
        },
        {
         "prive_var": 32.05999550119503,
         "_deepnote_index_column": 432
        },
        {
         "prive_var": 24.645330453402995,
         "_deepnote_index_column": 433
        },
        {
         "prive_var": 16.101632943342718,
         "_deepnote_index_column": 434
        },
        {
         "prive_var": 48.95883829984921,
         "_deepnote_index_column": 435
        },
        {
         "prive_var": 30.742256231712407,
         "_deepnote_index_column": 436
        },
        {
         "prive_var": 19.806325443224694,
         "_deepnote_index_column": 437
        },
        {
         "prive_var": 47.38655986390668,
         "_deepnote_index_column": 438
        },
        {
         "prive_var": 14.758676377381766,
         "_deepnote_index_column": 439
        },
        {
         "prive_var": 50.46457896331911,
         "_deepnote_index_column": 440
        },
        {
         "prive_var": 50.134206371437074,
         "_deepnote_index_column": 441
        },
        {
         "prive_var": 26.42481393738661,
         "_deepnote_index_column": 442
        },
        {
         "prive_var": 10.601174079288617,
         "_deepnote_index_column": 443
        },
        {
         "prive_var": 20.310590150108432,
         "_deepnote_index_column": 444
        },
        {
         "prive_var": 17.547958435081643,
         "_deepnote_index_column": 445
        },
        {
         "prive_var": 24.29592503817973,
         "_deepnote_index_column": 446
        },
        {
         "prive_var": 263.9819052168573,
         "_deepnote_index_column": 447
        },
        {
         "prive_var": -35.066465273758375,
         "_deepnote_index_column": 448
        },
        {
         "prive_var": 34.67752447088458,
         "_deepnote_index_column": 449
        },
        {
         "prive_var": 47.42113317255328,
         "_deepnote_index_column": 450
        },
        {
         "prive_var": -89.8984775001612,
         "_deepnote_index_column": 451
        },
        {
         "prive_var": 42.89440532319294,
         "_deepnote_index_column": 452
        },
        {
         "prive_var": 68.46636699353158,
         "_deepnote_index_column": 453
        },
        {
         "prive_var": -35.54200903819378,
         "_deepnote_index_column": 454
        },
        {
         "prive_var": 11.785974843391768,
         "_deepnote_index_column": 455
        },
        {
         "prive_var": -6.863470790293355,
         "_deepnote_index_column": 456
        },
        {
         "prive_var": 36.65868009586959,
         "_deepnote_index_column": 457
        },
        {
         "prive_var": 75.32353120691636,
         "_deepnote_index_column": 458
        },
        {
         "prive_var": 89.9114472248657,
         "_deepnote_index_column": 459
        },
        {
         "prive_var": 1.7328818683697265,
         "_deepnote_index_column": 460
        },
        {
         "prive_var": 18.11131028473893,
         "_deepnote_index_column": 461
        },
        {
         "prive_var": 31.16002592303604,
         "_deepnote_index_column": 462
        },
        {
         "prive_var": -9.863520777610155,
         "_deepnote_index_column": 463
        },
        {
         "prive_var": 28.293722405694066,
         "_deepnote_index_column": 464
        },
        {
         "prive_var": 54.678727086806624,
         "_deepnote_index_column": 465
        },
        {
         "prive_var": 31.87887075020229,
         "_deepnote_index_column": 466
        },
        {
         "prive_var": 5.552336805318072,
         "_deepnote_index_column": 467
        },
        {
         "prive_var": 14.296737524141722,
         "_deepnote_index_column": 468
        },
        {
         "prive_var": 16.98916891458315,
         "_deepnote_index_column": 469
        },
        {
         "prive_var": 113.72811735130573,
         "_deepnote_index_column": 470
        },
        {
         "prive_var": 17.70983346853423,
         "_deepnote_index_column": 471
        },
        {
         "prive_var": 100.80146559605105,
         "_deepnote_index_column": 472
        },
        {
         "prive_var": 25.870398480104733,
         "_deepnote_index_column": 473
        },
        {
         "prive_var": 28.42833798767609,
         "_deepnote_index_column": 474
        },
        {
         "prive_var": 27.84051735357019,
         "_deepnote_index_column": 475
        },
        {
         "prive_var": 11.360125261492026,
         "_deepnote_index_column": 476
        },
        {
         "prive_var": -17.440005949971756,
         "_deepnote_index_column": 477
        },
        {
         "prive_var": 68.65148949396638,
         "_deepnote_index_column": 478
        },
        {
         "prive_var": 27.608277648554484,
         "_deepnote_index_column": 479
        },
        {
         "prive_var": 1.7313423357018205,
         "_deepnote_index_column": 480
        },
        {
         "prive_var": -8.517349351050214,
         "_deepnote_index_column": 481
        },
        {
         "prive_var": 121.1863128786095,
         "_deepnote_index_column": 482
        },
        {
         "prive_var": -9.557950886267635,
         "_deepnote_index_column": 483
        },
        {
         "prive_var": 11.999348170402373,
         "_deepnote_index_column": 484
        },
        {
         "prive_var": 17.49383640582385,
         "_deepnote_index_column": 485
        },
        {
         "prive_var": 5.314002094582006,
         "_deepnote_index_column": 486
        },
        {
         "prive_var": 36.8249629655984,
         "_deepnote_index_column": 487
        },
        {
         "prive_var": -19.82132958714168,
         "_deepnote_index_column": 488
        },
        {
         "prive_var": 17.37911326335712,
         "_deepnote_index_column": 489
        },
        {
         "prive_var": 32.145105304294304,
         "_deepnote_index_column": 490
        },
        {
         "prive_var": -17.624518646180327,
         "_deepnote_index_column": 491
        },
        {
         "prive_var": 114.01236803391107,
         "_deepnote_index_column": 492
        },
        {
         "prive_var": 29.560080281736276,
         "_deepnote_index_column": 493
        },
        {
         "prive_var": 36.61506687531799,
         "_deepnote_index_column": 494
        },
        {
         "prive_var": 89.9803902863018,
         "_deepnote_index_column": 495
        },
        {
         "prive_var": -95.40229868126568,
         "_deepnote_index_column": 496
        },
        {
         "prive_var": 260.2311028230309,
         "_deepnote_index_column": 497
        },
        {
         "prive_var": 4.0783463098334485,
         "_deepnote_index_column": 498
        },
        {
         "prive_var": 33.64533225853245,
         "_deepnote_index_column": 499
        }
       ],
       "rows_bottom": [
        {
         "prive_var": 24.128915500758968,
         "_deepnote_index_column": 3892
        },
        {
         "prive_var": 42.40505942318851,
         "_deepnote_index_column": 3893
        },
        {
         "prive_var": 22.96295831887001,
         "_deepnote_index_column": 3894
        },
        {
         "prive_var": 14.995512411642272,
         "_deepnote_index_column": 3895
        },
        {
         "prive_var": 8.108106714865881,
         "_deepnote_index_column": 3896
        },
        {
         "prive_var": -86.77248667236978,
         "_deepnote_index_column": 3897
        },
        {
         "prive_var": 39.73289157566428,
         "_deepnote_index_column": 3898
        },
        {
         "prive_var": -42.25806397032165,
         "_deepnote_index_column": 3899
        },
        {
         "prive_var": -55.7374730978429,
         "_deepnote_index_column": 3900
        },
        {
         "prive_var": -20.512816985918324,
         "_deepnote_index_column": 3901
        },
        {
         "prive_var": -8.74402530170634,
         "_deepnote_index_column": 3902
        },
        {
         "prive_var": -17.886180910464326,
         "_deepnote_index_column": 3903
        },
        {
         "prive_var": 3.058101076937457,
         "_deepnote_index_column": 3904
        },
        {
         "prive_var": -18.34724054256848,
         "_deepnote_index_column": 3905
        },
        {
         "prive_var": 39.211444381414815,
         "_deepnote_index_column": 3906
        },
        {
         "prive_var": 19.565760092440065,
         "_deepnote_index_column": 3907
        },
        {
         "prive_var": 61.363632361258325,
         "_deepnote_index_column": 3908
        },
        {
         "prive_var": -72.45901682273704,
         "_deepnote_index_column": 3909
        },
        {
         "prive_var": -5.555561074503927,
         "_deepnote_index_column": 3910
        },
        {
         "prive_var": -14.728677800753037,
         "_deepnote_index_column": 3911
        },
        {
         "prive_var": -28.675137867376623,
         "_deepnote_index_column": 3912
        },
        {
         "prive_var": 11.833394416625843,
         "_deepnote_index_column": 3913
        },
        {
         "prive_var": 216.6089718475517,
         "_deepnote_index_column": 3914
        },
        {
         "prive_var": -15.490016059647791,
         "_deepnote_index_column": 3915
        },
        {
         "prive_var": 15.696166394536537,
         "_deepnote_index_column": 3916
        },
        {
         "prive_var": 4.678358007099575,
         "_deepnote_index_column": 3917
        },
        {
         "prive_var": -25.40716574432845,
         "_deepnote_index_column": 3918
        },
        {
         "prive_var": -53.45454649491743,
         "_deepnote_index_column": 3919
        },
        {
         "prive_var": -44.230768789906456,
         "_deepnote_index_column": 3920
        },
        {
         "prive_var": 12.344184650850284,
         "_deepnote_index_column": 3921
        },
        {
         "prive_var": -22.85713781972734,
         "_deepnote_index_column": 3922
        },
        {
         "prive_var": 11.111113803281246,
         "_deepnote_index_column": 3923
        },
        {
         "prive_var": -64.7058842940653,
         "_deepnote_index_column": 3924
        },
        {
         "prive_var": 206.81818889931216,
         "_deepnote_index_column": 3925
        },
        {
         "prive_var": -36.20689607923389,
         "_deepnote_index_column": 3926
        },
        {
         "prive_var": 8.238800959800606,
         "_deepnote_index_column": 3927
        },
        {
         "prive_var": -28.25377674210701,
         "_deepnote_index_column": 3928
        },
        {
         "prive_var": 21.718359597081005,
         "_deepnote_index_column": 3929
        },
        {
         "prive_var": -24.50450606803186,
         "_deepnote_index_column": 3930
        },
        {
         "prive_var": -40.13869508870541,
         "_deepnote_index_column": 3931
        },
        {
         "prive_var": -27.08333294528225,
         "_deepnote_index_column": 3932
        },
        {
         "prive_var": 44.570840653078,
         "_deepnote_index_column": 3933
        },
        {
         "prive_var": -80.34188035639434,
         "_deepnote_index_column": 3934
        },
        {
         "prive_var": -94.10898367882608,
         "_deepnote_index_column": 3935
        },
        {
         "prive_var": -64.81481341317706,
         "_deepnote_index_column": 3936
        },
        {
         "prive_var": 152.360190649594,
         "_deepnote_index_column": 3937
        },
        {
         "prive_var": -6.148742345966048,
         "_deepnote_index_column": 3938
        },
        {
         "prive_var": 13.17830087760218,
         "_deepnote_index_column": 3939
        },
        {
         "prive_var": -22.535207247454903,
         "_deepnote_index_column": 3940
        },
        {
         "prive_var": -2.000001758657431,
         "_deepnote_index_column": 3941
        },
        {
         "prive_var": -42.346940140881046,
         "_deepnote_index_column": 3942
        },
        {
         "prive_var": -69.59707042081315,
         "_deepnote_index_column": 3943
        },
        {
         "prive_var": 46.5116243610001,
         "_deepnote_index_column": 3944
        },
        {
         "prive_var": -35.32846875891677,
         "_deepnote_index_column": 3945
        },
        {
         "prive_var": -50.83333253860474,
         "_deepnote_index_column": 3946
        },
        {
         "prive_var": 7.611986059219303,
         "_deepnote_index_column": 3947
        },
        {
         "prive_var": 12.420392893008618,
         "_deepnote_index_column": 3948
        },
        {
         "prive_var": 47.8561864117436,
         "_deepnote_index_column": 3949
        },
        {
         "prive_var": 44.28511928899619,
         "_deepnote_index_column": 3950
        },
        {
         "prive_var": 18.861019284019413,
         "_deepnote_index_column": 3951
        },
        {
         "prive_var": 4.482533300961633,
         "_deepnote_index_column": 3952
        },
        {
         "prive_var": -27.69230522347616,
         "_deepnote_index_column": 3953
        },
        {
         "prive_var": 131.78392807187063,
         "_deepnote_index_column": 3954
        },
        {
         "prive_var": 67.63565647910825,
         "_deepnote_index_column": 3955
        },
        {
         "prive_var": 59.99999576144748,
         "_deepnote_index_column": 3956
        },
        {
         "prive_var": -0.8908677926962563,
         "_deepnote_index_column": 3957
        },
        {
         "prive_var": 4.326068695930259,
         "_deepnote_index_column": 3958
        },
        {
         "prive_var": -3.4482726727597006,
         "_deepnote_index_column": 3959
        },
        {
         "prive_var": 22.12121165532165,
         "_deepnote_index_column": 3960
        },
        {
         "prive_var": 42.6086973648216,
         "_deepnote_index_column": 3961
        },
        {
         "prive_var": 50.76923923379602,
         "_deepnote_index_column": 3962
        },
        {
         "prive_var": -55.714283281443,
         "_deepnote_index_column": 3963
        },
        {
         "prive_var": 161.90477379865982,
         "_deepnote_index_column": 3964
        },
        {
         "prive_var": -7.142856273984786,
         "_deepnote_index_column": 3965
        },
        {
         "prive_var": 5.206843925829445,
         "_deepnote_index_column": 3966
        },
        {
         "prive_var": 3.6859493470905216,
         "_deepnote_index_column": 3967
        },
        {
         "prive_var": -10.63151778728498,
         "_deepnote_index_column": 3968
        },
        {
         "prive_var": -10.255970904395005,
         "_deepnote_index_column": 3969
        },
        {
         "prive_var": -22.9166664785207,
         "_deepnote_index_column": 3970
        },
        {
         "prive_var": 24.14285568963913,
         "_deepnote_index_column": 3971
        },
        {
         "prive_var": -82.71889461679433,
         "_deepnote_index_column": 3972
        },
        {
         "prive_var": 48.67469721702904,
         "_deepnote_index_column": 3973
        },
        {
         "prive_var": -30.90909327357264,
         "_deepnote_index_column": 3974
        },
        {
         "prive_var": -62.00000047683716,
         "_deepnote_index_column": 3975
        },
        {
         "prive_var": 15.5393599610857,
         "_deepnote_index_column": 3976
        },
        {
         "prive_var": -36.47058686033113,
         "_deepnote_index_column": 3977
        },
        {
         "prive_var": 55.03355221438854,
         "_deepnote_index_column": 3978
        },
        {
         "prive_var": 42.12766222236411,
         "_deepnote_index_column": 3979
        },
        {
         "prive_var": 49.33333396911621,
         "_deepnote_index_column": 3980
        },
        {
         "prive_var": -82.22748726805176,
         "_deepnote_index_column": 3981
        },
        {
         "prive_var": -11.050297283848606,
         "_deepnote_index_column": 3982
        },
        {
         "prive_var": 78.99077197058554,
         "_deepnote_index_column": 3983
        },
        {
         "prive_var": 64.03941124752633,
         "_deepnote_index_column": 3984
        },
        {
         "prive_var": -0.0090131805809736,
         "_deepnote_index_column": 3985
        },
        {
         "prive_var": 1.592038252492909,
         "_deepnote_index_column": 3986
        },
        {
         "prive_var": 13.457758786731448,
         "_deepnote_index_column": 3987
        },
        {
         "prive_var": 30.555547277133,
         "_deepnote_index_column": 3988
        },
        {
         "prive_var": 2.8170147298031925,
         "_deepnote_index_column": 3989
        },
        {
         "prive_var": 15.934096065284074,
         "_deepnote_index_column": 3990
        },
        {
         "prive_var": 270.68964217893205,
         "_deepnote_index_column": 3991
        },
        {
         "prive_var": 1.9013490521488887,
         "_deepnote_index_column": 3992
        },
        {
         "prive_var": -26.11940411369897,
         "_deepnote_index_column": 3993
        },
        {
         "prive_var": -36.77248351868486,
         "_deepnote_index_column": 3994
        },
        {
         "prive_var": 94.40473777642056,
         "_deepnote_index_column": 3995
        },
        {
         "prive_var": 190.80459281875028,
         "_deepnote_index_column": 3996
        },
        {
         "prive_var": -16.614057400132687,
         "_deepnote_index_column": 3997
        },
        {
         "prive_var": 2.235289180980009,
         "_deepnote_index_column": 3998
        },
        {
         "prive_var": 45.83147797279339,
         "_deepnote_index_column": 3999
        },
        {
         "prive_var": 33.02718941291896,
         "_deepnote_index_column": 4000
        },
        {
         "prive_var": 108.69179273779206,
         "_deepnote_index_column": 4001
        },
        {
         "prive_var": -48.06827752128536,
         "_deepnote_index_column": 4002
        },
        {
         "prive_var": -28.571429923007827,
         "_deepnote_index_column": 4003
        },
        {
         "prive_var": 49.09195089140477,
         "_deepnote_index_column": 4004
        },
        {
         "prive_var": 33.96356078844842,
         "_deepnote_index_column": 4005
        },
        {
         "prive_var": 44.30582534111517,
         "_deepnote_index_column": 4006
        },
        {
         "prive_var": -49.05063384256573,
         "_deepnote_index_column": 4007
        },
        {
         "prive_var": 8.681754461491783,
         "_deepnote_index_column": 4008
        },
        {
         "prive_var": -17.449663677793776,
         "_deepnote_index_column": 4009
        },
        {
         "prive_var": -62.96296296296296,
         "_deepnote_index_column": 4010
        },
        {
         "prive_var": -23.461535287326488,
         "_deepnote_index_column": 4011
        },
        {
         "prive_var": 7.441853037907221,
         "_deepnote_index_column": 4012
        },
        {
         "prive_var": 19.506339939260485,
         "_deepnote_index_column": 4013
        },
        {
         "prive_var": 14.550418752236212,
         "_deepnote_index_column": 4014
        },
        {
         "prive_var": 24.028686018053737,
         "_deepnote_index_column": 4015
        },
        {
         "prive_var": 3.514846820081699,
         "_deepnote_index_column": 4016
        },
        {
         "prive_var": -19.666663805643715,
         "_deepnote_index_column": 4017
        },
        {
         "prive_var": -6.04533641285759,
         "_deepnote_index_column": 4018
        },
        {
         "prive_var": -68.47133832924011,
         "_deepnote_index_column": 4019
        },
        {
         "prive_var": 12.648802600896175,
         "_deepnote_index_column": 4020
        },
        {
         "prive_var": 24.869413597132983,
         "_deepnote_index_column": 4021
        },
        {
         "prive_var": -4.166662786155852,
         "_deepnote_index_column": 4022
        },
        {
         "prive_var": 13.300793715944955,
         "_deepnote_index_column": 4023
        },
        {
         "prive_var": -88.07860233820958,
         "_deepnote_index_column": 4024
        },
        {
         "prive_var": 15.900499637360676,
         "_deepnote_index_column": 4025
        },
        {
         "prive_var": 5.900001525878906,
         "_deepnote_index_column": 4026
        },
        {
         "prive_var": 14.307143819297073,
         "_deepnote_index_column": 4027
        },
        {
         "prive_var": 221.7364996527073,
         "_deepnote_index_column": 4028
        },
        {
         "prive_var": -8.974005784208767,
         "_deepnote_index_column": 4029
        },
        {
         "prive_var": 33.02064266556448,
         "_deepnote_index_column": 4030
        },
        {
         "prive_var": -36.65338488367311,
         "_deepnote_index_column": 4031
        },
        {
         "prive_var": -41.5094335155448,
         "_deepnote_index_column": 4032
        },
        {
         "prive_var": -32.098768278634594,
         "_deepnote_index_column": 4033
        },
        {
         "prive_var": 14.053427251981256,
         "_deepnote_index_column": 4034
        },
        {
         "prive_var": 5.425063010246452,
         "_deepnote_index_column": 4035
        },
        {
         "prive_var": 10.468221486406073,
         "_deepnote_index_column": 4036
        },
        {
         "prive_var": 11.631700750258448,
         "_deepnote_index_column": 4037
        },
        {
         "prive_var": 3.2520293685164203,
         "_deepnote_index_column": 4038
        },
        {
         "prive_var": -3.7238490350882985,
         "_deepnote_index_column": 4039
        },
        {
         "prive_var": 582.3529444763817,
         "_deepnote_index_column": 4040
        },
        {
         "prive_var": 23.65255283105976,
         "_deepnote_index_column": 4041
        },
        {
         "prive_var": -28.71286778131681,
         "_deepnote_index_column": 4042
        },
        {
         "prive_var": 19.7324385380428,
         "_deepnote_index_column": 4043
        },
        {
         "prive_var": -36.71874839928929,
         "_deepnote_index_column": 4044
        },
        {
         "prive_var": -2.868005413826629,
         "_deepnote_index_column": 4045
        },
        {
         "prive_var": 6.1647259065929285,
         "_deepnote_index_column": 4046
        },
        {
         "prive_var": 2.8804372477422486,
         "_deepnote_index_column": 4047
        },
        {
         "prive_var": -41.57689553969748,
         "_deepnote_index_column": 4048
        },
        {
         "prive_var": 123.40426438531529,
         "_deepnote_index_column": 4049
        },
        {
         "prive_var": 25.212080162916877,
         "_deepnote_index_column": 4050
        },
        {
         "prive_var": 7.736999362310492,
         "_deepnote_index_column": 4051
        },
        {
         "prive_var": -24.99999813735488,
         "_deepnote_index_column": 4052
        },
        {
         "prive_var": 12.95680919968096,
         "_deepnote_index_column": 4053
        },
        {
         "prive_var": 21.43349051128279,
         "_deepnote_index_column": 4054
        },
        {
         "prive_var": -12.673273646542633,
         "_deepnote_index_column": 4055
        },
        {
         "prive_var": 1.5252528152177909,
         "_deepnote_index_column": 4056
        },
        {
         "prive_var": 3.960392113094816,
         "_deepnote_index_column": 4057
        },
        {
         "prive_var": 29.701655001961413,
         "_deepnote_index_column": 4058
        },
        {
         "prive_var": 5.5442135350233865,
         "_deepnote_index_column": 4059
        },
        {
         "prive_var": 29.871079629148504,
         "_deepnote_index_column": 4060
        },
        {
         "prive_var": 16.625380017219587,
         "_deepnote_index_column": 4061
        },
        {
         "prive_var": -26.84658915805052,
         "_deepnote_index_column": 4062
        },
        {
         "prive_var": 0.9312329089232148,
         "_deepnote_index_column": 4063
        },
        {
         "prive_var": 0,
         "_deepnote_index_column": 4064
        },
        {
         "prive_var": -45.05494663845205,
         "_deepnote_index_column": 4065
        },
        {
         "prive_var": 54.85520152990809,
         "_deepnote_index_column": 4066
        },
        {
         "prive_var": 46.5116243610001,
         "_deepnote_index_column": 4067
        },
        {
         "prive_var": -93.04678342495744,
         "_deepnote_index_column": 4068
        },
        {
         "prive_var": 20.62333864369575,
         "_deepnote_index_column": 4069
        },
        {
         "prive_var": -7.787699264453838,
         "_deepnote_index_column": 4070
        },
        {
         "prive_var": 12.897897406920167,
         "_deepnote_index_column": 4071
        },
        {
         "prive_var": -38.364058565269545,
         "_deepnote_index_column": 4072
        },
        {
         "prive_var": -12.254902189944811,
         "_deepnote_index_column": 4073
        },
        {
         "prive_var": -37.47847108240634,
         "_deepnote_index_column": 4074
        },
        {
         "prive_var": 31.19908560668071,
         "_deepnote_index_column": 4075
        },
        {
         "prive_var": -25.974025069249763,
         "_deepnote_index_column": 4076
        },
        {
         "prive_var": 180.280692117256,
         "_deepnote_index_column": 4077
        },
        {
         "prive_var": 38.88888507331959,
         "_deepnote_index_column": 4078
        },
        {
         "prive_var": 16.376632715308126,
         "_deepnote_index_column": 4079
        },
        {
         "prive_var": 44.61537765563139,
         "_deepnote_index_column": 4080
        },
        {
         "prive_var": -17.85714316124819,
         "_deepnote_index_column": 4081
        },
        {
         "prive_var": 12.908001445553516,
         "_deepnote_index_column": 4082
        },
        {
         "prive_var": 2.9955875549455024,
         "_deepnote_index_column": 4083
        },
        {
         "prive_var": -52.28757956051508,
         "_deepnote_index_column": 4084
        },
        {
         "prive_var": 93.75000582076622,
         "_deepnote_index_column": 4085
        },
        {
         "prive_var": 166.66666666666669,
         "_deepnote_index_column": 4086
        },
        {
         "prive_var": -35.87847887153088,
         "_deepnote_index_column": 4087
        },
        {
         "prive_var": -76.6502456357361,
         "_deepnote_index_column": 4088
        },
        {
         "prive_var": 163.4526197998893,
         "_deepnote_index_column": 4089
        },
        {
         "prive_var": 8.438817065619299,
         "_deepnote_index_column": 4090
        },
        {
         "prive_var": 16.678900100368626,
         "_deepnote_index_column": 4091
        },
        {
         "prive_var": 87.9549828710613,
         "_deepnote_index_column": 4092
        },
        {
         "prive_var": -20.32141267910124,
         "_deepnote_index_column": 4093
        },
        {
         "prive_var": 24.242418221753287,
         "_deepnote_index_column": 4094
        },
        {
         "prive_var": 19.170985224039047,
         "_deepnote_index_column": 4095
        },
        {
         "prive_var": 5.028482379363995,
         "_deepnote_index_column": 4096
        },
        {
         "prive_var": -33.55704676508394,
         "_deepnote_index_column": 4097
        },
        {
         "prive_var": 0.1844714939076416,
         "_deepnote_index_column": 4098
        },
        {
         "prive_var": 14.281407029522464,
         "_deepnote_index_column": 4099
        },
        {
         "prive_var": -25.30120453087219,
         "_deepnote_index_column": 4100
        },
        {
         "prive_var": 91.13923410749705,
         "_deepnote_index_column": 4101
        },
        {
         "prive_var": 63.636371025369215,
         "_deepnote_index_column": 4102
        },
        {
         "prive_var": 33.398438991571346,
         "_deepnote_index_column": 4103
        },
        {
         "prive_var": -21.42857490406085,
         "_deepnote_index_column": 4104
        },
        {
         "prive_var": 34.46492578846503,
         "_deepnote_index_column": 4105
        },
        {
         "prive_var": -5.061081341844724,
         "_deepnote_index_column": 4106
        },
        {
         "prive_var": 77.14285992324871,
         "_deepnote_index_column": 4107
        },
        {
         "prive_var": 6.109983707901398,
         "_deepnote_index_column": 4108
        },
        {
         "prive_var": 1.9830031645056647,
         "_deepnote_index_column": 4109
        },
        {
         "prive_var": 7.984342264681572,
         "_deepnote_index_column": 4110
        },
        {
         "prive_var": 12.37719693574936,
         "_deepnote_index_column": 4111
        },
        {
         "prive_var": 63.06728397501236,
         "_deepnote_index_column": 4112
        },
        {
         "prive_var": -31.438128903755363,
         "_deepnote_index_column": 4113
        },
        {
         "prive_var": 8.285713195800781,
         "_deepnote_index_column": 4114
        },
        {
         "prive_var": 1.333334507086338,
         "_deepnote_index_column": 4115
        },
        {
         "prive_var": -30.52631279548219,
         "_deepnote_index_column": 4116
        },
        {
         "prive_var": 304.70587773306573,
         "_deepnote_index_column": 4117
        },
        {
         "prive_var": 4.7959209987889295,
         "_deepnote_index_column": 4118
        },
        {
         "prive_var": 132.55814641192964,
         "_deepnote_index_column": 4119
        },
        {
         "prive_var": -5.263153051515314,
         "_deepnote_index_column": 4120
        },
        {
         "prive_var": 7.285717555454799,
         "_deepnote_index_column": 4121
        },
        {
         "prive_var": -73.03665005337164,
         "_deepnote_index_column": 4122
        },
        {
         "prive_var": -70.43478168476729,
         "_deepnote_index_column": 4123
        },
        {
         "prive_var": 32.37752653904906,
         "_deepnote_index_column": 4124
        },
        {
         "prive_var": 27.05571982863238,
         "_deepnote_index_column": 4125
        },
        {
         "prive_var": 24.53267172623718,
         "_deepnote_index_column": 4126
        },
        {
         "prive_var": 19.769132221375244,
         "_deepnote_index_column": 4127
        },
        {
         "prive_var": -34.91272453558917,
         "_deepnote_index_column": 4128
        },
        {
         "prive_var": 20.14562977574996,
         "_deepnote_index_column": 4129
        },
        {
         "prive_var": 3.166659303688633,
         "_deepnote_index_column": 4130
        },
        {
         "prive_var": 33.202852512290995,
         "_deepnote_index_column": 4131
        },
        {
         "prive_var": -61.701004315262864,
         "_deepnote_index_column": 4132
        },
        {
         "prive_var": 20.74829534773998,
         "_deepnote_index_column": 4133
        },
        {
         "prive_var": 66.66666365633121,
         "_deepnote_index_column": 4134
        },
        {
         "prive_var": 8.172036922124839,
         "_deepnote_index_column": 4135
        },
        {
         "prive_var": 7.644153896981355,
         "_deepnote_index_column": 4136
        },
        {
         "prive_var": 14.282924349167589,
         "_deepnote_index_column": 4137
        },
        {
         "prive_var": -23.125,
         "_deepnote_index_column": 4138
        },
        {
         "prive_var": -70.21276575507703,
         "_deepnote_index_column": 4139
        },
        {
         "prive_var": -21.590355754091437,
         "_deepnote_index_column": 4140
        },
        {
         "prive_var": 40.239006515232354,
         "_deepnote_index_column": 4141
        },
        {
         "prive_var": 64.1425447940212,
         "_deepnote_index_column": 4142
        },
        {
         "prive_var": 0.4081648223254145,
         "_deepnote_index_column": 4143
        },
        {
         "prive_var": 18.86719219296529,
         "_deepnote_index_column": 4144
        },
        {
         "prive_var": -10.150374895277327,
         "_deepnote_index_column": 4145
        },
        {
         "prive_var": 17.12959427330338,
         "_deepnote_index_column": 4146
        },
        {
         "prive_var": 14.742697278771931,
         "_deepnote_index_column": 4147
        },
        {
         "prive_var": 14.097367056006314,
         "_deepnote_index_column": 4148
        },
        {
         "prive_var": 308.8235209041813,
         "_deepnote_index_column": 4149
        },
        {
         "prive_var": 12.09872247979671,
         "_deepnote_index_column": 4150
        },
        {
         "prive_var": -93.69251010709914,
         "_deepnote_index_column": 4151
        },
        {
         "prive_var": 4.735235916890874,
         "_deepnote_index_column": 4152
        },
        {
         "prive_var": 24.117637406583743,
         "_deepnote_index_column": 4153
        },
        {
         "prive_var": 22.151896686126413,
         "_deepnote_index_column": 4154
        },
        {
         "prive_var": -39.86486660641765,
         "_deepnote_index_column": 4155
        },
        {
         "prive_var": 18.76470902386834,
         "_deepnote_index_column": 4156
        },
        {
         "prive_var": 5.962423091161276,
         "_deepnote_index_column": 4157
        },
        {
         "prive_var": 12.787882486979164,
         "_deepnote_index_column": 4158
        },
        {
         "prive_var": -13.716461646204513,
         "_deepnote_index_column": 4159
        },
        {
         "prive_var": -98.6124470788242,
         "_deepnote_index_column": 4160
        },
        {
         "prive_var": -63.73684109809325,
         "_deepnote_index_column": 4161
        },
        {
         "prive_var": -43.40659660959621,
         "_deepnote_index_column": 4162
        },
        {
         "prive_var": 4.585020884791606,
         "_deepnote_index_column": 4163
        },
        {
         "prive_var": 38.409054962833686,
         "_deepnote_index_column": 4164
        },
        {
         "prive_var": -17.123287223834534,
         "_deepnote_index_column": 4165
        },
        {
         "prive_var": -98.14726840935816,
         "_deepnote_index_column": 4166
        },
        {
         "prive_var": -21.292464399352767,
         "_deepnote_index_column": 4167
        },
        {
         "prive_var": 7.72014892964725,
         "_deepnote_index_column": 4168
        },
        {
         "prive_var": -42.72727440211396,
         "_deepnote_index_column": 4169
        },
        {
         "prive_var": 18.81614790150912,
         "_deepnote_index_column": 4170
        },
        {
         "prive_var": 25.1805162533575,
         "_deepnote_index_column": 4171
        },
        {
         "prive_var": -35.3535374212406,
         "_deepnote_index_column": 4172
        },
        {
         "prive_var": 6.579322769902992,
         "_deepnote_index_column": 4173
        },
        {
         "prive_var": -11.65048043659767,
         "_deepnote_index_column": 4174
        },
        {
         "prive_var": -4.000002997262137,
         "_deepnote_index_column": 4175
        },
        {
         "prive_var": 8.102563711313099,
         "_deepnote_index_column": 4176
        },
        {
         "prive_var": 14.307954857546957,
         "_deepnote_index_column": 4177
        },
        {
         "prive_var": 4.827587189676289,
         "_deepnote_index_column": 4178
        },
        {
         "prive_var": -42.59259537250739,
         "_deepnote_index_column": 4179
        },
        {
         "prive_var": 28.83812215479396,
         "_deepnote_index_column": 4180
        },
        {
         "prive_var": -36.60712316885828,
         "_deepnote_index_column": 4181
        },
        {
         "prive_var": -10.21126657103619,
         "_deepnote_index_column": 4182
        },
        {
         "prive_var": -69.71195279965862,
         "_deepnote_index_column": 4183
        },
        {
         "prive_var": -22.190749269209924,
         "_deepnote_index_column": 4184
        },
        {
         "prive_var": 14.775057931243277,
         "_deepnote_index_column": 4185
        },
        {
         "prive_var": -63.157894736842096,
         "_deepnote_index_column": 4186
        },
        {
         "prive_var": -79.43089486050962,
         "_deepnote_index_column": 4187
        },
        {
         "prive_var": -45.434781684767295,
         "_deepnote_index_column": 4188
        },
        {
         "prive_var": 28.92699726905079,
         "_deepnote_index_column": 4189
        },
        {
         "prive_var": 21.13090994658729,
         "_deepnote_index_column": 4190
        },
        {
         "prive_var": 11.30783950765853,
         "_deepnote_index_column": 4191
        },
        {
         "prive_var": 19.639874069201387,
         "_deepnote_index_column": 4192
        },
        {
         "prive_var": 22.97979390520237,
         "_deepnote_index_column": 4193
        },
        {
         "prive_var": -73.67292256560889,
         "_deepnote_index_column": 4194
        },
        {
         "prive_var": -59.99999887803021,
         "_deepnote_index_column": 4195
        },
        {
         "prive_var": 21.461994975236767,
         "_deepnote_index_column": 4196
        },
        {
         "prive_var": -22.46256788780348,
         "_deepnote_index_column": 4197
        },
        {
         "prive_var": 22.89993342446288,
         "_deepnote_index_column": 4198
        },
        {
         "prive_var": 20.38425274146897,
         "_deepnote_index_column": 4199
        },
        {
         "prive_var": 33.79469757084744,
         "_deepnote_index_column": 4200
        },
        {
         "prive_var": 1.2326216304485973,
         "_deepnote_index_column": 4201
        },
        {
         "prive_var": -71.01669313510801,
         "_deepnote_index_column": 4202
        },
        {
         "prive_var": -15.36458144158431,
         "_deepnote_index_column": 4203
        },
        {
         "prive_var": 36.04025581704472,
         "_deepnote_index_column": 4204
        },
        {
         "prive_var": 399.99997331135376,
         "_deepnote_index_column": 4205
        },
        {
         "prive_var": 103.91382403662432,
         "_deepnote_index_column": 4206
        },
        {
         "prive_var": 3.707728608500527,
         "_deepnote_index_column": 4207
        },
        {
         "prive_var": 35.48193795439594,
         "_deepnote_index_column": 4208
        },
        {
         "prive_var": -1.495509696148705,
         "_deepnote_index_column": 4209
        },
        {
         "prive_var": -96.05997216454806,
         "_deepnote_index_column": 4210
        },
        {
         "prive_var": -7.666667302449543,
         "_deepnote_index_column": 4211
        },
        {
         "prive_var": 26.96538012637624,
         "_deepnote_index_column": 4212
        },
        {
         "prive_var": -6.613225227305131,
         "_deepnote_index_column": 4213
        },
        {
         "prive_var": 53.27381714756145,
         "_deepnote_index_column": 4214
        },
        {
         "prive_var": 24.90572349117301,
         "_deepnote_index_column": 4215
        },
        {
         "prive_var": -38.32408803936072,
         "_deepnote_index_column": 4216
        },
        {
         "prive_var": 6.341560138525997,
         "_deepnote_index_column": 4217
        },
        {
         "prive_var": 6.0504831634436025,
         "_deepnote_index_column": 4218
        },
        {
         "prive_var": -5.696204489497172,
         "_deepnote_index_column": 4219
        },
        {
         "prive_var": 8.57619413888803,
         "_deepnote_index_column": 4220
        },
        {
         "prive_var": 8.71402771728551,
         "_deepnote_index_column": 4221
        },
        {
         "prive_var": -1.1669180767112235,
         "_deepnote_index_column": 4222
        },
        {
         "prive_var": 16.279080512826376,
         "_deepnote_index_column": 4223
        },
        {
         "prive_var": -5.349671361819421,
         "_deepnote_index_column": 4224
        },
        {
         "prive_var": 21.49625681296688,
         "_deepnote_index_column": 4225
        },
        {
         "prive_var": 44.325653431611975,
         "_deepnote_index_column": 4226
        },
        {
         "prive_var": 15.475257956550806,
         "_deepnote_index_column": 4227
        },
        {
         "prive_var": 254.08562715359471,
         "_deepnote_index_column": 4228
        },
        {
         "prive_var": 129.08163332540295,
         "_deepnote_index_column": 4229
        },
        {
         "prive_var": -6.828081522878297,
         "_deepnote_index_column": 4230
        },
        {
         "prive_var": 16.155608799733738,
         "_deepnote_index_column": 4231
        },
        {
         "prive_var": 28.372086885492767,
         "_deepnote_index_column": 4232
        },
        {
         "prive_var": 35.26735357723448,
         "_deepnote_index_column": 4233
        },
        {
         "prive_var": 19.62274890197598,
         "_deepnote_index_column": 4234
        },
        {
         "prive_var": 18.426742471836143,
         "_deepnote_index_column": 4235
        },
        {
         "prive_var": 6.962026032742868,
         "_deepnote_index_column": 4236
        },
        {
         "prive_var": 51.44697733358517,
         "_deepnote_index_column": 4237
        },
        {
         "prive_var": -39.265273680920174,
         "_deepnote_index_column": 4238
        },
        {
         "prive_var": -43.18181941331908,
         "_deepnote_index_column": 4239
        },
        {
         "prive_var": -10.198173939219233,
         "_deepnote_index_column": 4240
        },
        {
         "prive_var": 114.46192701655944,
         "_deepnote_index_column": 4241
        },
        {
         "prive_var": 53.20636058316719,
         "_deepnote_index_column": 4242
        },
        {
         "prive_var": 6.666660043928621,
         "_deepnote_index_column": 4243
        },
        {
         "prive_var": 38.14354363798832,
         "_deepnote_index_column": 4244
        },
        {
         "prive_var": -26.16861420063124,
         "_deepnote_index_column": 4245
        },
        {
         "prive_var": 50.43178057913891,
         "_deepnote_index_column": 4246
        },
        {
         "prive_var": -7.4309957918868035,
         "_deepnote_index_column": 4247
        },
        {
         "prive_var": 48.583931147661104,
         "_deepnote_index_column": 4248
        },
        {
         "prive_var": 68.53932102676788,
         "_deepnote_index_column": 4249
        },
        {
         "prive_var": 14.343430159371982,
         "_deepnote_index_column": 4250
        },
        {
         "prive_var": 22.722751045126127,
         "_deepnote_index_column": 4251
        },
        {
         "prive_var": 29.890356030288075,
         "_deepnote_index_column": 4252
        },
        {
         "prive_var": -6.8610651904289695,
         "_deepnote_index_column": 4253
        },
        {
         "prive_var": 55.71429313445591,
         "_deepnote_index_column": 4254
        },
        {
         "prive_var": -54.03356747837245,
         "_deepnote_index_column": 4255
        },
        {
         "prive_var": 22.528322930794005,
         "_deepnote_index_column": 4256
        },
        {
         "prive_var": 17.54386405205138,
         "_deepnote_index_column": 4257
        },
        {
         "prive_var": 0.8484811493844696,
         "_deepnote_index_column": 4258
        },
        {
         "prive_var": 1.4240835820043865,
         "_deepnote_index_column": 4259
        },
        {
         "prive_var": -11.76470835728622,
         "_deepnote_index_column": 4260
        },
        {
         "prive_var": -36.11111074318119,
         "_deepnote_index_column": 4261
        },
        {
         "prive_var": -58.63636334080342,
         "_deepnote_index_column": 4262
        },
        {
         "prive_var": 92.9487244147053,
         "_deepnote_index_column": 4263
        },
        {
         "prive_var": -9.36768377410247,
         "_deepnote_index_column": 4264
        },
        {
         "prive_var": 44.33062797413654,
         "_deepnote_index_column": 4265
        },
        {
         "prive_var": -1.83449487505482,
         "_deepnote_index_column": 4266
        },
        {
         "prive_var": -82.69230636971938,
         "_deepnote_index_column": 4267
        },
        {
         "prive_var": 32.95785864342744,
         "_deepnote_index_column": 4268
        },
        {
         "prive_var": -85.45774647591725,
         "_deepnote_index_column": 4269
        },
        {
         "prive_var": 12.699200270337712,
         "_deepnote_index_column": 4270
        },
        {
         "prive_var": 26.296952677965173,
         "_deepnote_index_column": 4271
        },
        {
         "prive_var": 5.478616329235576,
         "_deepnote_index_column": 4272
        },
        {
         "prive_var": 54.314716634681865,
         "_deepnote_index_column": 4273
        },
        {
         "prive_var": 0.2866029649547326,
         "_deepnote_index_column": 4274
        },
        {
         "prive_var": 29.95240802139325,
         "_deepnote_index_column": 4275
        },
        {
         "prive_var": -5.454550971669478,
         "_deepnote_index_column": 4276
        },
        {
         "prive_var": 8.32994560507103,
         "_deepnote_index_column": 4277
        },
        {
         "prive_var": 7.895489526317957,
         "_deepnote_index_column": 4278
        },
        {
         "prive_var": 54.24732530937982,
         "_deepnote_index_column": 4279
        },
        {
         "prive_var": 1.898732314868544,
         "_deepnote_index_column": 4280
        },
        {
         "prive_var": 2.8776951269557505,
         "_deepnote_index_column": 4281
        },
        {
         "prive_var": 18.158129449967944,
         "_deepnote_index_column": 4282
        },
        {
         "prive_var": 39.12453666539661,
         "_deepnote_index_column": 4283
        },
        {
         "prive_var": -18.103451465171226,
         "_deepnote_index_column": 4284
        },
        {
         "prive_var": 8.549513693397369,
         "_deepnote_index_column": 4285
        },
        {
         "prive_var": -5.625351054861016,
         "_deepnote_index_column": 4286
        },
        {
         "prive_var": 73.16521408066649,
         "_deepnote_index_column": 4287
        },
        {
         "prive_var": -35.29257018862968,
         "_deepnote_index_column": 4288
        },
        {
         "prive_var": -92.81045745013796,
         "_deepnote_index_column": 4289
        },
        {
         "prive_var": -12.442748602867164,
         "_deepnote_index_column": 4290
        },
        {
         "prive_var": -38.652486634694455,
         "_deepnote_index_column": 4291
        },
        {
         "prive_var": 7.046070092993583,
         "_deepnote_index_column": 4292
        },
        {
         "prive_var": -15.823990516930875,
         "_deepnote_index_column": 4293
        },
        {
         "prive_var": 4.9586728006576415,
         "_deepnote_index_column": 4294
        },
        {
         "prive_var": -2.2196388475521185,
         "_deepnote_index_column": 4295
        },
        {
         "prive_var": 53.92670725649428,
         "_deepnote_index_column": 4296
        },
        {
         "prive_var": 27.87878336875776,
         "_deepnote_index_column": 4297
        },
        {
         "prive_var": 104.10256008973344,
         "_deepnote_index_column": 4298
        },
        {
         "prive_var": -7.359546340335027,
         "_deepnote_index_column": 4299
        },
        {
         "prive_var": -28.17796068659301,
         "_deepnote_index_column": 4300
        },
        {
         "prive_var": -24.000000605507484,
         "_deepnote_index_column": 4301
        },
        {
         "prive_var": -21.0903886872612,
         "_deepnote_index_column": 4302
        },
        {
         "prive_var": 17.898276241828167,
         "_deepnote_index_column": 4303
        },
        {
         "prive_var": -83.99833598323394,
         "_deepnote_index_column": 4304
        },
        {
         "prive_var": 94.02983879612854,
         "_deepnote_index_column": 4305
        },
        {
         "prive_var": 13.59999656677246,
         "_deepnote_index_column": 4306
        },
        {
         "prive_var": 123.02158674426992,
         "_deepnote_index_column": 4307
        },
        {
         "prive_var": 53.59423992921483,
         "_deepnote_index_column": 4308
        },
        {
         "prive_var": -53.42105254902404,
         "_deepnote_index_column": 4309
        },
        {
         "prive_var": 14.398614164888237,
         "_deepnote_index_column": 4310
        },
        {
         "prive_var": -27.017544094471983,
         "_deepnote_index_column": 4311
        },
        {
         "prive_var": 92.0509684846693,
         "_deepnote_index_column": 4312
        },
        {
         "prive_var": -7.758613513709326,
         "_deepnote_index_column": 4313
        },
        {
         "prive_var": -75.72815466560867,
         "_deepnote_index_column": 4314
        },
        {
         "prive_var": -40.47618777303186,
         "_deepnote_index_column": 4315
        },
        {
         "prive_var": 14.313598588457747,
         "_deepnote_index_column": 4316
        },
        {
         "prive_var": -11.218172345910515,
         "_deepnote_index_column": 4317
        },
        {
         "prive_var": 9.610919079904042,
         "_deepnote_index_column": 4318
        },
        {
         "prive_var": 16.453899740411437,
         "_deepnote_index_column": 4319
        },
        {
         "prive_var": -22.00000286102295,
         "_deepnote_index_column": 4320
        },
        {
         "prive_var": 21.67931920640935,
         "_deepnote_index_column": 4321
        },
        {
         "prive_var": 71.46559632466266,
         "_deepnote_index_column": 4322
        },
        {
         "prive_var": -17.886177033739518,
         "_deepnote_index_column": 4323
        },
        {
         "prive_var": -12.416664759318037,
         "_deepnote_index_column": 4324
        },
        {
         "prive_var": 11.273937011795946,
         "_deepnote_index_column": 4325
        },
        {
         "prive_var": 86.34686788373337,
         "_deepnote_index_column": 4326
        },
        {
         "prive_var": 21.762757968501493,
         "_deepnote_index_column": 4327
        },
        {
         "prive_var": 15.56316332822094,
         "_deepnote_index_column": 4328
        },
        {
         "prive_var": -48.421050980480736,
         "_deepnote_index_column": 4329
        },
        {
         "prive_var": -37.36263995383064,
         "_deepnote_index_column": 4330
        },
        {
         "prive_var": -29.81715961494563,
         "_deepnote_index_column": 4331
        },
        {
         "prive_var": 44.44444297272478,
         "_deepnote_index_column": 4332
        },
        {
         "prive_var": -21.568622867770404,
         "_deepnote_index_column": 4333
        },
        {
         "prive_var": 24.875122019815464,
         "_deepnote_index_column": 4334
        },
        {
         "prive_var": 45.50705252052023,
         "_deepnote_index_column": 4335
        },
        {
         "prive_var": 22.58064268034779,
         "_deepnote_index_column": 4336
        },
        {
         "prive_var": -46.90721953557537,
         "_deepnote_index_column": 4337
        },
        {
         "prive_var": 82.11766033389502,
         "_deepnote_index_column": 4338
        },
        {
         "prive_var": -38.16330791431264,
         "_deepnote_index_column": 4339
        },
        {
         "prive_var": 63.63637254213336,
         "_deepnote_index_column": 4340
        },
        {
         "prive_var": -68.38526727161947,
         "_deepnote_index_column": 4341
        },
        {
         "prive_var": 72.22221670327386,
         "_deepnote_index_column": 4342
        },
        {
         "prive_var": -25.208338093426303,
         "_deepnote_index_column": 4343
        },
        {
         "prive_var": 19.444452906832502,
         "_deepnote_index_column": 4344
        },
        {
         "prive_var": 18.23203959950737,
         "_deepnote_index_column": 4345
        },
        {
         "prive_var": -36.06557761491922,
         "_deepnote_index_column": 4346
        },
        {
         "prive_var": 30.72652491017401,
         "_deepnote_index_column": 4347
        },
        {
         "prive_var": 12.222198554434351,
         "_deepnote_index_column": 4348
        },
        {
         "prive_var": 37.46379166664439,
         "_deepnote_index_column": 4349
        },
        {
         "prive_var": -3.2258069241733724,
         "_deepnote_index_column": 4350
        },
        {
         "prive_var": -23.034131053314425,
         "_deepnote_index_column": 4351
        },
        {
         "prive_var": 12.773090327364828,
         "_deepnote_index_column": 4352
        },
        {
         "prive_var": -3.8095203494807808,
         "_deepnote_index_column": 4353
        },
        {
         "prive_var": 4.395600076948939,
         "_deepnote_index_column": 4354
        },
        {
         "prive_var": -11.097855518798251,
         "_deepnote_index_column": 4355
        },
        {
         "prive_var": 87.57396266054809,
         "_deepnote_index_column": 4356
        },
        {
         "prive_var": 7.67115094929646,
         "_deepnote_index_column": 4357
        },
        {
         "prive_var": 33.6036832609597,
         "_deepnote_index_column": 4358
        },
        {
         "prive_var": 21.672133148693646,
         "_deepnote_index_column": 4359
        },
        {
         "prive_var": 19.46967915720357,
         "_deepnote_index_column": 4360
        },
        {
         "prive_var": 4.691347442846065,
         "_deepnote_index_column": 4361
        },
        {
         "prive_var": 69.53966112897292,
         "_deepnote_index_column": 4362
        },
        {
         "prive_var": -40.41450541657385,
         "_deepnote_index_column": 4363
        },
        {
         "prive_var": 43.25568968328344,
         "_deepnote_index_column": 4364
        },
        {
         "prive_var": -56.603774645864064,
         "_deepnote_index_column": 4365
        },
        {
         "prive_var": 25.203246989626276,
         "_deepnote_index_column": 4366
        },
        {
         "prive_var": 16.23932172560853,
         "_deepnote_index_column": 4367
        },
        {
         "prive_var": -82.32323279454748,
         "_deepnote_index_column": 4368
        },
        {
         "prive_var": -0.3452875660959961,
         "_deepnote_index_column": 4369
        },
        {
         "prive_var": 6.9304387730055526,
         "_deepnote_index_column": 4370
        },
        {
         "prive_var": 61.36422427334915,
         "_deepnote_index_column": 4371
        },
        {
         "prive_var": -28.98799449976919,
         "_deepnote_index_column": 4372
        },
        {
         "prive_var": 44.086540445420944,
         "_deepnote_index_column": 4373
        },
        {
         "prive_var": 70.71428298950195,
         "_deepnote_index_column": 4374
        },
        {
         "prive_var": 26.16964636780661,
         "_deepnote_index_column": 4375
        },
        {
         "prive_var": -52.29232909078867,
         "_deepnote_index_column": 4376
        },
        {
         "prive_var": 5.0049354763546665,
         "_deepnote_index_column": 4377
        },
        {
         "prive_var": 63.99999856948853,
         "_deepnote_index_column": 4378
        },
        {
         "prive_var": 68.70265677705825,
         "_deepnote_index_column": 4379
        },
        {
         "prive_var": -17.816095418951456,
         "_deepnote_index_column": 4380
        },
        {
         "prive_var": 11.671183300432205,
         "_deepnote_index_column": 4381
        },
        {
         "prive_var": -3.0769267705513643,
         "_deepnote_index_column": 4382
        },
        {
         "prive_var": -92.94117605809934,
         "_deepnote_index_column": 4383
        },
        {
         "prive_var": 262.4271955318415,
         "_deepnote_index_column": 4384
        },
        {
         "prive_var": 27.118649718337736,
         "_deepnote_index_column": 4385
        },
        {
         "prive_var": -22.15909021637164,
         "_deepnote_index_column": 4386
        },
        {
         "prive_var": -90.96209923175697,
         "_deepnote_index_column": 4387
        },
        {
         "prive_var": -77.92207714296508,
         "_deepnote_index_column": 4388
        },
        {
         "prive_var": -17.83440007927038,
         "_deepnote_index_column": 4389
        },
        {
         "prive_var": -73.51999998092651,
         "_deepnote_index_column": 4390
        },
        {
         "prive_var": 209.4622218041376,
         "_deepnote_index_column": 4391
        }
       ]
      },
      "text/plain": "       prive_var\n0      32.794573\n1      40.588068\n2      30.295514\n3      64.213737\n4      44.757840\n...          ...\n4387  -90.962099\n4388  -77.922077\n4389  -17.834400\n4390  -73.520000\n4391  209.462222\n\n[4392 rows x 1 columns]",
      "text/html": "<div>\n<style scoped>\n    .dataframe tbody tr th:only-of-type {\n        vertical-align: middle;\n    }\n\n    .dataframe tbody tr th {\n        vertical-align: top;\n    }\n\n    .dataframe thead th {\n        text-align: right;\n    }\n</style>\n<table border=\"1\" class=\"dataframe\">\n  <thead>\n    <tr style=\"text-align: right;\">\n      <th></th>\n      <th>prive_var</th>\n    </tr>\n  </thead>\n  <tbody>\n    <tr>\n      <th>0</th>\n      <td>32.794573</td>\n    </tr>\n    <tr>\n      <th>1</th>\n      <td>40.588068</td>\n    </tr>\n    <tr>\n      <th>2</th>\n      <td>30.295514</td>\n    </tr>\n    <tr>\n      <th>3</th>\n      <td>64.213737</td>\n    </tr>\n    <tr>\n      <th>4</th>\n      <td>44.757840</td>\n    </tr>\n    <tr>\n      <th>...</th>\n      <td>...</td>\n    </tr>\n    <tr>\n      <th>4387</th>\n      <td>-90.962099</td>\n    </tr>\n    <tr>\n      <th>4388</th>\n      <td>-77.922077</td>\n    </tr>\n    <tr>\n      <th>4389</th>\n      <td>-17.834400</td>\n    </tr>\n    <tr>\n      <th>4390</th>\n      <td>-73.520000</td>\n    </tr>\n    <tr>\n      <th>4391</th>\n      <td>209.462222</td>\n    </tr>\n  </tbody>\n</table>\n<p>4392 rows × 1 columns</p>\n</div>"
     },
     "metadata": {},
     "output_type": "display_data"
    }
   ]
  },
  {
   "cell_type": "markdown",
   "source": "## 3. Auto-ml logic",
   "metadata": {
    "tags": [],
    "cell_id": "00011-7d613d74-663a-456c-9fd6-b1fcb2bf711f",
    "deepnote_cell_type": "markdown"
   }
  },
  {
   "cell_type": "markdown",
   "source": "#### 3.1. Prepare a custom NoPreprocessing component for sklearn\nTo compare each AutoMl algorithm, we decided to disable looking for preprocessing steps for the state of the art algorithms. We do it because our algorithm also doesn't look for them. To disable preprocessing in auto-sklearn we had to create a custom component.",
   "metadata": {
    "tags": [],
    "cell_id": "00012-86c4aa56-4d4b-4728-bd90-6677f29364ac",
    "deepnote_cell_type": "markdown"
   }
  },
  {
   "cell_type": "code",
   "metadata": {
    "tags": [],
    "cell_id": "00002-3d4805a8-e136-402c-a7c4-46d1af39b656",
    "deepnote_to_be_reexecuted": false,
    "source_hash": "b3cabdd5",
    "execution_start": 1639350228654,
    "execution_millis": 2,
    "deepnote_cell_type": "code"
   },
   "source": "# https://automl.github.io/auto-sklearn/master/examples/80_extending/example_extending_data_preprocessor.html#create-nopreprocessing-component-for-auto-sklearn\n\nclass NoPreprocessing(AutoSklearnPreprocessingAlgorithm):\n\n    def __init__(self, **kwargs):\n        \"\"\" This preprocessors does not change the data \"\"\"\n        # Some internal checks makes sure parameters are set\n        for key, val in kwargs.items():\n            setattr(self, key, val)\n\n    def fit(self, X, Y=None):\n        return self\n\n    def transform(self, X):\n        return X\n\n    @staticmethod\n    def get_properties(dataset_properties=None):\n        return {\n            'shortname': 'NoPreprocessing',\n            'name': 'NoPreprocessing',\n            'handles_regression': True,\n            'handles_classification': True,\n            'handles_multiclass': True,\n            'handles_multilabel': True,\n            'handles_multioutput': True,\n            'is_deterministic': True,\n            'input': (SPARSE, DENSE, UNSIGNED_DATA),\n            'output': (INPUT,)\n        }\n\n    @staticmethod\n    def get_hyperparameter_search_space(dataset_properties=None):\n        return ConfigurationSpace()  # Return an empty configuration as there is None\n\nautosklearn.pipeline.components.data_preprocessing.add_preprocessor(NoPreprocessing)",
   "execution_count": null,
   "outputs": []
  },
  {
   "cell_type": "markdown",
   "source": "#### 3.2. Prepare methods that can be used by all algoritms",
   "metadata": {
    "tags": [],
    "cell_id": "00014-26ed0523-9a33-45a9-a658-c62038eb6240",
    "deepnote_cell_type": "markdown"
   }
  },
  {
   "cell_type": "code",
   "metadata": {
    "tags": [],
    "cell_id": "00014-3ee4683a-5ccc-4280-8b2a-d866322d6225",
    "deepnote_to_be_reexecuted": false,
    "source_hash": "8b7ee00",
    "execution_start": 1639350228678,
    "execution_millis": 6,
    "deepnote_cell_type": "code"
   },
   "source": "def get_single_best_optimization_score(array):\n    new_array = np.array([array[0]])\n    for i in range(1, len(array)):\n        min_of_previous_values = min(new_array[0: i])\n        if array[i] > min_of_previous_values:\n            new_array = np.append(new_array, min_of_previous_values)\n        else:\n            new_array = np.append(new_array, array[i])\n    return new_array\n\ndef create_graphs(mse_over_time_vector, summary_folder_path):\n    plt.rcParams['figure.figsize'] = [20, 5]\n\n    plt.plot(\n        range(1, mse_over_time_vector.size+1),\n        get_single_best_optimization_score(mse_over_time_vector),\n        label=\"Best MSE of previously evaluated models\"\n    )\n    plt.ylim(bottom=None, top=np.median(mse_over_time_vector)*5)\n    plt.plot(\n        range(1, mse_over_time_vector.size+1),\n        mse_over_time_vector,\n        label=\"MSE of currently evaluated model\"\n    )\n    plt.ylim(bottom=None, top=np.median(mse_over_time_vector)*5)\n    plt.title(\"Improvement of MSE over number of models evaluated\")\n    plt.xlabel(\"Number of models evaluated\")\n    plt.ylabel(\"MSE\")\n    plt.legend(loc=\"upper right\")\n    plt.grid()\n    plt.savefig(summary_folder_path + 'mse_plot.png')\n    plt.show()\n\n    plt.plot(\n        range(1, mse_over_time_vector.size+1),\n        get_single_best_optimization_score(mse_over_time_vector),\n        label=\"Best MSE of previously evaluated models\"\n    )\n    plt.ylim(bottom=None, top=np.median(mse_over_time_vector)*2)\n    plt.title(\"Best MSE of previously evaluated models\")\n    plt.xlabel(\"Number of models evaluated\")\n    plt.ylabel(\"MSE\")\n    plt.legend(loc=\"upper right\")\n    plt.grid()\n    plt.savefig(summary_folder_path + 'mse_plot_2.png')\n    plt.show()\n\n    plt.rcParams.update(plt.rcParamsDefault)\n\ndef save_summary_to_file(info, summary_folder_path):\n    with open(summary_folder_path + \"summary.txt\", \"w\") as f:\n        f.write(info)\n\ndef create_summary(X_train, y_train, X_test, y_test, automl, results_df, optimal_params, min_mse, summary_folder_path):\n    # test data\n    y_predicted = automl.predict(X_test)\n    mae = mean_squared_error(y_test, y_predicted)\n    r2 = r2_score(y_test, y_predicted)\n    info = \"MSE on test data: \" + str(mae) + \"\\n\"\n    info += \"R^2 on test data: \" + str(r2) + \"\\n\"\n\n    # train data\n    y_predicted = automl.predict(X_train)\n    mae = mean_squared_error(y_train, y_predicted)\n    r2 = r2_score(y_train, y_predicted)\n    info += \"MSE on train data: \" + str(mae) + \"\\n\"\n    info += \"R^2 on train data: \" + str(r2) + \"\\n\"\n    info += \"Min MSE from algorithm evaluation: \" + str(min_mse) + \"\\n\"\n\n    info += \"Best hyperparameters: \" + str(optimal_params) + \"\\n\"\n    save_summary_to_file(info, summary_folder_path)\n\n    display(results_df)\n    pd.DataFrame(results_df).to_csv(summary_folder_path + \"result.csv\", mode='w+')",
   "execution_count": null,
   "outputs": []
  },
  {
   "cell_type": "markdown",
   "source": "#### 3.3. Auto-sklearn logic",
   "metadata": {
    "tags": [],
    "cell_id": "00016-8443dec1-b3f8-408f-81a7-8c54fd5efeb2",
    "deepnote_cell_type": "markdown"
   }
  },
  {
   "cell_type": "code",
   "metadata": {
    "tags": [],
    "cell_id": "00002-196c0887-ecd6-4f5c-af57-025d98d08c29",
    "deepnote_to_be_reexecuted": false,
    "source_hash": "40e2d9b1",
    "execution_start": 1639350228695,
    "execution_millis": 4,
    "deepnote_output_heights": [
     78.75
    ],
    "deepnote_cell_type": "code"
   },
   "source": "def fit_autosklearn(X_train, y_train, X_test, y_test):\n    automl = autosklearn.regression.AutoSklearnRegressor(\n        include = {\n            'regressor': [\"random_forest\", \"liblinear_svr\", \"sgd\"],\n            'data_preprocessor': ['NoPreprocessing'],\n            'feature_preprocessor': [\"no_preprocessing\"],\n        },\n        exclude=None,\n        time_left_for_this_task=3600,\n        initial_configurations_via_metalearning=0,\n        metric=autosklearn.metrics.mean_squared_error,\n        per_run_time_limit=240,\n        # n_jobs=-1,\n        # memory_limit=None,\n    )\n\n    automl.fit(X_train, y_train)\n    return automl\n\ndef create_results_autosklearn(X_train, y_train, X_test, y_test, automl, summary_folder_path):\n    results = pd.DataFrame(automl.cv_results_)\n    create_summary(X_train, y_train, X_test, y_test,\n        automl, results, results.sort_values(\"mean_test_score\").loc[0, \"params\"], min(np.array(results[\"mean_test_score\"])), summary_folder_path,\n    )\n\n    mse_over_time_vector = np.array(results[\"mean_test_score\"])\n    create_graphs(mse_over_time_vector, summary_folder_path)\n\ndef do_autosklearn(X_train, y_train, X_test, y_test, summary_folder_path):\n    automl = fit_autosklearn(X_train, y_train, X_test, y_test)\n    create_results_autosklearn(X_train, y_train, X_test, y_test, automl, summary_folder_path)\n\n    return automl",
   "execution_count": null,
   "outputs": []
  },
  {
   "cell_type": "markdown",
   "source": "#### 3.4. Tpot logic",
   "metadata": {
    "tags": [],
    "cell_id": "00018-ef494b8f-3657-471f-8a58-80cd1f7e6d17",
    "deepnote_cell_type": "markdown"
   }
  },
  {
   "cell_type": "code",
   "metadata": {
    "tags": [],
    "cell_id": "00006-790a2d56-0477-4bc0-82f3-d072e73eaad9",
    "deepnote_to_be_reexecuted": false,
    "source_hash": "7fdcfe3a",
    "execution_start": 1639350228710,
    "execution_millis": 3,
    "deepnote_output_heights": [
     null,
     null,
     null,
     375.734375,
     380.65625
    ],
    "deepnote_cell_type": "code"
   },
   "source": "def fit_tpot(X_train, y_train, X_test, y_test):\n    # https://github.com/EpistasisLab/tpot/blob/master/tpot/config/regressor.py\n    tpot_config = {\n        'sklearn.ensemble.RandomForestRegressor': {\n            'n_estimators': [100],\n            'max_features': np.arange(0.05, 1.01, 0.05),\n            'min_samples_split': range(2, 21),\n            'min_samples_leaf': range(1, 21),\n            'bootstrap': [True, False]\n        },\n        # 'sklearn.svm.SVR': {\n        #     'tol': [1e-5, 1e-4, 1e-3, 1e-2, 1e-1],\n        #     'C': [1e-4, 1e-3, 1e-2, 1e-1, 0.5, 1., 5., 10., 15., 20., 25.],\n        #     'epsilon': [1e-4, 1e-3, 1e-2, 1e-1, 1.],\n        #     # \"kernel\": ['linear', 'poly', 'rbf', 'sigmoid'],\n        #     # \"degree\": [2, 3, 4, 5],\n        # },\n        'sklearn.svm.LinearSVR': {\n            'loss': [\"epsilon_insensitive\", \"squared_epsilon_insensitive\"],\n            'dual': [True, False],\n            'tol': [1e-5, 1e-4, 1e-3, 1e-2, 1e-1],\n            'C': [1e-4, 1e-3, 1e-2, 1e-1, 0.5, 1., 5., 10., 15., 20., 25.],\n            'epsilon': [1e-4, 1e-3, 1e-2, 1e-1, 1.]\n        },\n        'sklearn.linear_model.SGDRegressor': {\n            'loss': ['squared_loss', 'huber', 'epsilon_insensitive'],\n            'penalty': ['elasticnet'],\n            'alpha': [0.0, 0.01, 0.001] ,\n            'learning_rate': ['invscaling', 'constant'] ,\n            'fit_intercept': [True, False],\n            'l1_ratio': [0.25, 0.0, 1.0, 0.75, 0.5],\n            'eta0': [0.1, 1.0, 0.01],\n            'power_t': [0.5, 0.0, 1.0, 0.1, 100.0, 10.0, 50.0]\n        },\n    }\n\n    tpot = TPOTRegressor(\n        generations=100, population_size=100, verbosity=3, random_state=123, max_time_mins=60, config_dict=tpot_config, scoring=\"neg_mean_squared_error\"\n    )\n    tpot.fit(X_train, y_train)\n    return tpot\n\ndef create_results_tpot(X_train, y_train, X_test, y_test, automl, summary_folder_path):\n    results = pd.DataFrame(automl.evaluated_individuals_)\n    mse_over_time_vector = results.loc[\"internal_cv_score\"].to_numpy(copy=True)*(-1)\n    # to make the plot readable we had to delete very high values of MAE\n    # mse_over_time_vector = mse_over_time_vector[mse_over_time_vector < np.median(mse_over_time_vector)*10]\n\n    create_graphs(mse_over_time_vector, summary_folder_path)\n\n    create_summary(X_train, y_train, X_test, y_test,\n        automl, results, list(automl.evaluated_individuals_.keys())[0],  min(mse_over_time_vector), summary_folder_path,\n    )\n\ndef do_tpot(X_train, y_train, X_test, y_test, summary_folder_path):\n    automl = fit_tpot(X_train, y_train, X_test, y_test)\n    create_results_tpot(X_train, y_train, X_test, y_test, automl, summary_folder_path)\n\n    return automl",
   "execution_count": null,
   "outputs": []
  },
  {
   "cell_type": "markdown",
   "source": "#### 3.5 Our algorithm",
   "metadata": {
    "tags": [],
    "cell_id": "00020-9b1cd57b-98ac-49d4-83d2-14c4695d07f6",
    "deepnote_cell_type": "markdown"
   }
  },
  {
   "cell_type": "code",
   "metadata": {
    "tags": [],
    "cell_id": "00021-a0d5e94e-c166-44a2-bd3d-830fb9dd1d50",
    "deepnote_to_be_reexecuted": false,
    "source_hash": "4201e8ee",
    "execution_start": 1639350228783,
    "execution_millis": 0,
    "deepnote_cell_type": "code"
   },
   "source": "class Classifier():\n\tdef __init__(self, classifier, paramRanges):\n\t\tself.classifier = classifier\n\t\tself.paramRanges = paramRanges\n\nrandomForestRegressor = Classifier(RandomForestRegressor, {\t'n_estimators': range(10, 200),\n\t\t\t\t\t\t\t\t\t\t\t\t\t\t\t'max_features': ['auto', 'sqrt', 'log2'],\n\t\t\t\t\t\t\t\t\t\t\t\t\t\t\t'max_depth': range(10, 110),\n\t\t\t\t\t\t\t\t\t\t\t\t\t\t\t'min_samples_split': range(2, 21),\n\t\t\t\t\t\t\t\t\t\t\t\t\t\t\t'min_samples_leaf': range(1, 21),\n\t\t\t\t\t\t\t\t\t\t\t\t\t\t\t'bootstrap': [True, False]})\nlinearSVR = Classifier(LinearSVR, {\t'loss': [\"epsilon_insensitive\", \"squared_epsilon_insensitive\"],\n\t\t\t\t\t\t\t\t\t'dual': [True],\n\t\t\t\t\t\t\t\t\t'tol': np.logspace(1e-5, 1e-1, 5),\n\t\t\t\t\t\t\t\t\t'C': np.logspace(1e-5, 1e-1, 5)+np.linspace(1, 25, 5),\n\t\t\t\t\t\t\t\t\t'epsilon': np.logspace(1e-5, 1e-1, 5)})\nsdgRegressor = Classifier(SGDRegressor, {\t'loss': ['squared_loss', 'huber', 'epsilon_insensitive'],\n\t\t\t\t\t\t\t\t\t\t\t'penalty': ['elasticnet'],\n\t\t\t\t\t\t\t\t\t\t\t'alpha': np.logspace(1e-2, 0, 3) ,\n\t\t\t\t\t\t\t\t\t\t\t'learning_rate': ['invscaling', 'constant'] ,\n\t\t\t\t\t\t\t\t\t\t\t'fit_intercept': [True, False],\n\t\t\t\t\t\t\t\t\t\t\t'l1_ratio': np.linspace(0.0, 1.0, 5),\n\t\t\t\t\t\t\t\t\t\t\t'eta0': np.logspace(1e-2, 1, 3),\n\t\t\t\t\t\t\t\t\t\t\t'power_t': np.logspace(0, 100, 100)})\n\nLISTOFCLFS = [randomForestRegressor, linearSVR, sdgRegressor]\n\nclass Learning():\n\tdef __init__(self, listOfClfs, X, y, cv):\n\t\tself.listOfClfs = listOfClfs\n\t\tself.X = X\n\t\tself.y = y\n\t\tself.cv = cv\n\t\tself.MSEs = {}\n\t\tself.params = {}\n\t\tself.times = {}\n\n\tdef getRandom(self):\n\t\tparams = {}\n\t\tfor clf in self.listOfClfs:\n\t\t\tparams[clf] = clf.paramRanges\n\t\tself.calculateScores(params)\n\t\treturn self\n\n\tdef getNeighbor(self, neigborhoodSize):\n\t\tneighborhood = self.getNeigborhood(neigborhoodSize)\n\n\t\tl = Learning(self.listOfClfs,self.X, self.y, self.cv)\n\t\tl.calculateScores(neighborhood)\n\t\treturn l\n\n\tdef calculateScores(self, paramRanges):\n\t\tfor clf in self.listOfClfs:\n\t\t\tparams = {param: random.choice(paramRange) for param, paramRange in paramRanges[clf].items()}\n\t\t\tscores = cross_validate(clf.classifier(**params), self.X, self.y.values.ravel(), cv=self.cv, scoring='neg_mean_squared_error')\n\t\t\tself.MSEs[clf] = -sum(scores['test_score'])/self.cv\n\t\t\tself.params[clf] = params\n\t\t\tself.times[clf] = sum(scores['fit_time'])/self.cv\n\t\t\t#self.times[clf] = sum(scores['score_time'])/cv\n\n\tdef getNeigborhood(self, neigborhoodSize):\n\t\tneighborhood = {}\n\t\tfor clf, params in self.params.items():\n\t\t\tneighborhood[clf] = {}\n\t\t\tfor param, value in params.items():\n\t\t\t\tparamRange = clf.paramRanges[param]\n\t\t\t\ti = list(paramRange).index(value)\n\n\t\t\t\tstart = i-neigborhoodSize if i-neigborhoodSize >= 0 else 0\n\t\t\t\tend = i+neigborhoodSize if i+neigborhoodSize < len(paramRange) else len(paramRange)-1\n\t\t\t\tneighborhood[clf][param] = paramRange[start:end+1]\n\t\treturn neighborhood\n\n\tdef getBestClf(self):\n\t\treturn min(self.MSEs, key=self.MSEs.get)\n\n\tdef getBest(self):\n\t\tclf = self.getBestClf()\n\t\treturn clf.classifier.__name__, self.MSEs[clf], self.params[clf], self.times[clf]\n\n\tdef __lt__(self, other):\n\t\treturn min(self.MSEs.values()) < min(other.MSEs.values())\n\n\tdef __eq__(self, other):\n\t\treturn min(self.MSEs.values()) == min(other.MSEs.values())\n\n\tdef __sub__(self, other):\n\t\treturn min(self.MSEs.values()) - min(other.MSEs.values())\n\n\ndef simulatedAnnealing(listOfClfs, X, y, neigborhoodSize=2, cv=5, T_init=10**7, P:float=0.97, g=lambda T,t: T*0.95, num_lastChanges=10, stopAfter=600, verbose=False):\n\t\"\"\"\n\t\tParameters:\n\t\tX: training features of the data\n\t\ty: target feature of the data\n\t\tneigborhoodSize: number of paramters before and after in list of parameter\n\t\t\tif its set to 1 the neighborhood of 3 in [1,2,3,4,5,6] would be [2,3,4]\n\t\t\tif its set to 2 the neighborhood of 3 in [1,2,3,4,5,6] would be [1,2,3,4,5]\n\t\t\tif its set to 3 the neighborhood of 3 in [1,2,3,4,5,6] would be [1,2,3,4,5,6]\n\t\tcv: how many CV iterations\n\t\tT_init: initial temperatature for SA\n\t\tP: treshold for SA where also bad solutions will be excepted (=1 means greedy)\n\t\tg: SA function for changing the temperature after an iteration\n\t\tnum_lastChanges: number of iterations without changes before the temperature gets reduced\n\t\tstopAfter: time in seconds after which no further iterations should be made\n\t\tReturns:\n\t\t[Learnings], x: List of all solutions as list of learnings, x is the best learning\n\t\"\"\"\n\tstart_time = time()\n\tlearnings = []\n\n\tt = 0\n\tT = T_init\n\tx = Learning(listOfClfs, X, y, cv).getRandom()\n\tbest = x\n\tx_new = x\n\tlearnings = [x]\n\twhile (time() < start_time+stopAfter):\n\t\tlastChange = 0\n\t\twhile (lastChange < num_lastChanges) and (time() < start_time+stopAfter):\n\t\t\tif verbose:\n\t\t\t\tprint(lastChange, T, x.MSEs[x.getBestClf()], start_time+stopAfter-time())\n\n\t\t\tx_new = x.getNeighbor(neigborhoodSize)\n\t\t\tlearnings.append(x_new)\n\t\t\tif (x_new < x):\n\t\t\t\tbest = x_new\n\t\t\t\tx = x_new\n\t\t\t\tlastChange = 0\n\t\t\telse:\n\t\t\t\tif (P < e**(-abs(x_new - x) / T)):\n\t\t\t\t\tbest = x_new\n\t\t\t\t\tx = x_new\n\t\t\t\t\tlastChange = 0\n\t\t\t\telse:\n\t\t\t\t\tlastChange += 1\n\t\t\tt = t + 1\n\t\tT = g(T, t)\n\treturn learnings, best",
   "execution_count": null,
   "outputs": []
  },
  {
   "cell_type": "code",
   "metadata": {
    "tags": [],
    "cell_id": "00021-86d6fd76-490f-4bc0-9d32-679d811bfe73",
    "deepnote_to_be_reexecuted": false,
    "source_hash": "d7b7805c",
    "execution_start": 1639350228826,
    "execution_millis": 0,
    "deepnote_output_heights": [
     null,
     335,
     335
    ],
    "deepnote_cell_type": "code"
   },
   "source": "def fit_simulated_annealing(X_train, y_train, X_test, y_test):\n    def flatten(t):\n        flat_list = []\n        for sublist in t:\n            for item in sublist.MSEs.values():\n                flat_list.append(item)\n        return flat_list\n\n    learnings, bestLearning =  simulatedAnnealing(LISTOFCLFS, X_train, y_train, verbose=True, stopAfter=30)\n\n    results = pd.DataFrame(flatten(learnings))\n\n    bestAlg, bestMSE, bestParams, bestTimes = bestLearning.getBest()\n\n    if bestAlg == \"RandomForestRegressor\":\n        automl = RandomForestRegressor(**bestParams)\n        automl.fit(X_train, y_train)\n    elif bestAlg == \"SGDRegressor\":\n        automl = SGDRegressor(**bestParams)\n        automl.fit(X_train, y_train)\n    elif bestAlg == \"LinearSVR\":\n        automl = LinearSVR(**bestParams)\n        automl.fit(X_train, y_train)\n\n    return automl, results, bestAlg + \": \" + str(bestParams)\n\ndef create_results_simulated_annealing(X_train, y_train, X_test, y_test, automl, results, bestParams, summary_folder_path):\n    mse_over_time_vector = np.array(results.iloc[:, 0])\n    create_graphs(mse_over_time_vector, summary_folder_path)\n\n    create_summary(X_train, y_train, X_test, y_test,\n        automl, results, bestParams, min(mse_over_time_vector), summary_folder_path,\n    )\n\ndef do_simulated_annealing(X_train, y_train, X_test, y_test, summary_folder_path):\n    automl, results, bestParams = fit_simulated_annealing(X_train, y_train, X_test, y_test)\n    create_results_simulated_annealing(X_train, y_train, X_test, y_test, automl, results, bestParams, summary_folder_path)\n\n    return automl\n\n# automl = do_simulated_annealing(insurance_X_train.copy(), insurance_y_train.copy(), insurance_X_test.copy(), insurance_y_test.copy(), \"results/insurance/our_algo/\")",
   "execution_count": null,
   "outputs": []
  },
  {
   "cell_type": "markdown",
   "source": "## 4. Runs\nThe results are saved in results folder in the corresponding directory.",
   "metadata": {
    "tags": [],
    "cell_id": "00020-b351e084-ef30-455d-9f9a-4a8ea3001bb4",
    "deepnote_cell_type": "markdown"
   }
  },
  {
   "cell_type": "code",
   "metadata": {
    "tags": [],
    "cell_id": "00020-d110ab02-af04-4489-9dd7-eec421cf53b2",
    "deepnote_to_be_reexecuted": false,
    "source_hash": "2bf33c",
    "execution_start": 1639350228827,
    "execution_millis": 0,
    "deepnote_output_heights": [
     null,
     null,
     null,
     607
    ],
    "deepnote_cell_type": "code"
   },
   "source": "# automl = do_autosklearn(insurance_X_train.copy(), insurance_y_train.copy(), insurance_X_test.copy(), insurance_y_test.copy(), \"results/insurance/auto_sklearn/\")\n# automl = do_tpot(insurance_X_train.copy(), insurance_y_train.copy(), insurance_X_test.copy(), insurance_y_test.copy(), \"results/insurance/tpot/\")\n# automl = do_simulated_annealing(insurance_X_train.copy(), insurance_y_train.copy(), insurance_X_test.copy(), insurance_y_test.copy(), \"results/insurance/our_algo/\")\n\n# automl = do_autosklearn(paris_housing_X_train.copy(), paris_housing_y_train.copy(), paris_housing_X_test.copy(), paris_housing_y_test.copy(), \"results/paris_housing/auto_sklearn/\")\n# automl = do_tpot(paris_housing_X_train.copy(), paris_housing_y_train.copy(), paris_housing_X_test.copy(), paris_housing_y_test.copy(), \"results/paris_housing/tpot/\")\n# automl = do_simulated_annealing(paris_housing_X_train.copy(), paris_housing_y_train.copy(), paris_housing_X_test.copy(), paris_housing_y_test.copy(), paris_housing_X_train.copy(), \"results/paris_housing/our_algo/\")\n\n# automl = do_autosklearn(financial_X_train.copy(), financial_y_train.copy(), financial_X_test.copy(), financial_y_test.copy(), \"results/financial/auto_sklearn/\")\n# automl = do_tpot(financial_X_train.copy(), financial_y_train.copy(), financial_X_test.copy(), financial_y_test.copy(), \"results/financial/tpot/\")\n# automl = do_simulated_annealing(financial_X_train.copy(), financial_y_train.copy(), financial_X_test.copy(), financial_y_test.copy(), \"results/financial/our_algo/\")",
   "execution_count": null,
   "outputs": []
  },
  {
   "cell_type": "markdown",
   "source": "## 5. Create graphs",
   "metadata": {
    "tags": [],
    "cell_id": "00025-99d58864-2bfd-479f-b3ea-83031df0226a",
    "deepnote_cell_type": "markdown"
   }
  },
  {
   "cell_type": "code",
   "metadata": {
    "tags": [],
    "cell_id": "00025-d0017dd4-1964-49d0-9c48-0854dcfbed8b",
    "deepnote_to_be_reexecuted": false,
    "source_hash": "2cae21d1",
    "execution_start": 1639350228828,
    "execution_millis": 6,
    "deepnote_cell_type": "code"
   },
   "source": "def create_summary_graphs(mse_over_time_vectors, algorithm_names, dataset, limit_bottom, limit_top):\n    plt.rcParams.update(plt.rcParamsDefault)\n    plt.rcParams['figure.figsize'] = [10, 5]\n\n    for mse_vector, name in zip(mse_over_time_vectors, algorithm_names):\n        plt.plot(\n            range(1, mse_vector.size+1),\n            get_single_best_optimization_score(mse_vector),\n            label=name\n        )\n    plt.ylim(bottom=np.median(mse_over_time_vectors[0])*limit_bottom, top=np.median(mse_over_time_vectors[0])*limit_top)\n    plt.title(\"Best MSE of the models that were evaluated for \" + dataset + \" dataset\")\n    plt.xlabel(\"Number of models evaluated\")\n    plt.ylabel(\"MSE\")\n    plt.legend(loc=\"upper right\")\n    plt.grid()\n    plt.savefig(\"results/\" + dataset + '/mse_summary_plot.png')\n    plt.show()\n\n\ndef get_mse_from_result_files(dataset):\n    basepath = \"results/\" + dataset + \"/\"\n    filename = \"/result.csv\"\n    mse_over_time_vector = []\n\n    results = pd.read_csv(basepath + \"auto_sklearn\" + filename)\n    mse_over_time_vector.append(np.array(results[\"mean_test_score\"]))\n\n    results = pd.read_csv(basepath + \"tpot\" + filename, index_col=0)\n    # display(results)\n    mse_over_time_vector.append(pd.to_numeric(results.loc[\"internal_cv_score\"]).to_numpy(copy=True)*(-1))\n\n    results = pd.read_csv(basepath + \"our_algo\" + filename, index_col=0)\n    # display(results)\n    mse_over_time_vector.append(np.array(pd.to_numeric(results.iloc[:, 0])))\n\n    return mse_over_time_vector\n",
   "execution_count": null,
   "outputs": []
  },
  {
   "cell_type": "code",
   "metadata": {
    "tags": [],
    "cell_id": "00025-e1bb6b9c-92ca-47e8-8354-ee14c3995b20",
    "deepnote_to_be_reexecuted": false,
    "source_hash": "f724b177",
    "execution_start": 1639350228879,
    "execution_millis": 16862,
    "deepnote_output_heights": [
     472
    ],
    "deepnote_cell_type": "code"
   },
   "source": "dataset = \"insurance\"\nmse_over_time_vectors = get_mse_from_result_files(dataset)\ncreate_summary_graphs(mse_over_time_vectors, [\"auto_sklearn\", \"tpot\", \"our_algo\"], dataset, 0.5, 0.6)\n",
   "execution_count": null,
   "outputs": [
    {
     "data": {
      "text/plain": "<Figure size 1000x500 with 1 Axes>",
      "image/png": "[encoded data removed]"
     },
     "metadata": {
      "image/png": {
       "width": 855,
       "height": 470
      }
     },
     "output_type": "display_data"
    }
   ]
  },
  {
   "cell_type": "code",
   "metadata": {
    "tags": [],
    "cell_id": "00026-c2537b73-b45c-48ac-a46b-01b6d1db3e7e",
    "deepnote_to_be_reexecuted": false,
    "source_hash": "d0277c69",
    "execution_start": 1639350245735,
    "execution_millis": 1056,
    "deepnote_output_heights": [
     472
    ],
    "deepnote_cell_type": "code"
   },
   "source": "dataset = \"financial\"\nmse_over_time_vectors = get_mse_from_result_files(dataset)\n\ncreate_summary_graphs(mse_over_time_vectors, [\"auto_sklearn\", \"tpot\", \"our_algo\"], dataset, 0.2, 1.2)",
   "execution_count": null,
   "outputs": [
    {
     "data": {
      "text/plain": "<Figure size 1000x500 with 1 Axes>",
      "image/png": "[encoded data removed]"
     },
     "metadata": {
      "image/png": {
       "width": 868,
       "height": 470
      }
     },
     "output_type": "display_data"
    }
   ]
  },
  {
   "cell_type": "code",
   "metadata": {
    "tags": [],
    "cell_id": "00027-b691411a-e9dc-45bc-9cae-c1e08e34ec43",
    "deepnote_to_be_reexecuted": false,
    "source_hash": "b9562aa8",
    "execution_start": 1639350246804,
    "execution_millis": 677,
    "deepnote_output_heights": [
     472
    ],
    "deepnote_cell_type": "code"
   },
   "source": "dataset = \"paris_housing\"\nmse_over_time_vectors = get_mse_from_result_files(dataset)\n# , \"our_algo\"\ncreate_summary_graphs(mse_over_time_vectors, [\"auto_sklearn\", \"tpot\", \"our_algo\"], dataset, 0, 7000)",
   "execution_count": null,
   "outputs": [
    {
     "data": {
      "text/plain": "<Figure size 1000x500 with 1 Axes>",
      "image/png": "[encoded data removed]"
     },
     "metadata": {
      "image/png": {
       "width": 846,
       "height": 470
      }
     },
     "output_type": "display_data"
    }
   ]
  },
  {
   "cell_type": "code",
   "metadata": {
    "tags": [],
    "cell_id": "00028-0dd0c2a0-8942-4e60-a709-06dca5a7be2c",
    "deepnote_to_be_reexecuted": false,
    "source_hash": "a9a183ff",
    "execution_start": 1639350720319,
    "execution_millis": 314,
    "deepnote_output_heights": [
     472
    ],
    "deepnote_cell_type": "code"
   },
   "source": "barWidth = 0.25\n\ninsurance = normalize(np.array([25278442, 25930551, 25381165])[:,np.newaxis], axis=0).ravel()\nparis_housing = normalize(np.array([16001654158, 16785709006, 8039413156428])[:,np.newaxis], axis=0).ravel()\nfinancial = normalize(np.array([15970, 15903, 4653])[:,np.newaxis], axis=0).ravel()\n\nauto_sklearn_bar = [insurance[0], paris_housing[0], financial[0]]\ntpot_bar = [insurance[1], paris_housing[1], financial[1]]\nsimulated_annealing_bar = [insurance[2], paris_housing[2], financial[2]]\n\n# Set position of bar on X axis\nr1 = np.arange(len(auto_sklearn_bar))\nr2 = [x + barWidth for x in r1]\nr3 = [x + barWidth for x in r2]\n\nplt.bar(r1, auto_sklearn_bar, width=barWidth, edgecolor='white', label='auto sklearn')\nplt.bar(r2, tpot_bar, width=barWidth, edgecolor='white', label='tpot')\nplt.bar(r3, simulated_annealing_bar, width=barWidth, edgecolor='white', label='simulated annealing')\n\nplt.xticks([r + barWidth for r in range(len(auto_sklearn_bar))], ['insurance', 'paris_housing', 'financial'])\n\nplt.xlabel('Dataset')\nplt.title(\"Normalized MSE for each dataset and algorithm\")\nplt.ylabel(\"Normalized MSE\")\n\n# Create legend & Show graphic\nplt.legend()\nplt.show()",
   "execution_count": null,
   "outputs": [
    {
     "data": {
      "text/plain": "<Figure size 1000x500 with 1 Axes>",
      "image/png": "[encoded data removed]"
     },
     "metadata": {
      "image/png": {
       "width": 846,
       "height": 470
      }
     },
     "output_type": "display_data"
    }
   ]
  },
  {
   "cell_type": "markdown",
   "source": "<a style='text-decoration:none;line-height:16px;display:flex;color:#5B5B62;padding:10px;justify-content:end;' href='https://deepnote.com?utm_source=created-in-deepnote-cell&projectId=1aa6942e-536a-457c-8421-62372996b124' target=\"_blank\">\n<img alt='Created in deepnote.com' style='display:inline;max-height:16px;margin:0px;margin-right:7.5px;' src='data:image/svg+xml;base64,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' > </img>\nCreated in <span style='font-weight:600;margin-left:4px;'>Deepnote</span></a>",
   "metadata": {
    "tags": [],
    "created_in_deepnote_cell": true,
    "deepnote_cell_type": "markdown"
   }
  }
 ],
 "nbformat": 4,
 "nbformat_minor": 2,
 "metadata": {
  "orig_nbformat": 2,
  "deepnote": {
   "is_reactive": false
  },
  "deepnote_notebook_id": "1532336e-a07b-48ae-a4b7-4e5c26b0ba4f",
  "deepnote_execution_queue": []
 }
}